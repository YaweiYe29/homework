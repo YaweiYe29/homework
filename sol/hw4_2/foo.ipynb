{
 "cells": [
  {
   "cell_type": "code",
   "execution_count": 1,
   "metadata": {},
   "outputs": [],
   "source": [
    "import numpy as np"
   ]
  },
  {
   "cell_type": "code",
   "execution_count": null,
   "metadata": {},
   "outputs": [],
   "source": []
  },
  {
   "cell_type": "code",
   "execution_count": 19,
   "metadata": {},
   "outputs": [],
   "source": [
    "paths = []\n",
    "\n",
    "path = {'observations': []}\n",
    "path['observations'].append(1)\n",
    "path['observations'].append(2)\n",
    "\n",
    "paths.append(path)"
   ]
  },
  {
   "cell_type": "code",
   "execution_count": 20,
   "metadata": {},
   "outputs": [
    {
     "name": "stdout",
     "output_type": "stream",
     "text": [
      "[{'observations': [1, 2]}]\n"
     ]
    }
   ],
   "source": [
    "print(paths)"
   ]
  },
  {
   "cell_type": "code",
   "execution_count": 33,
   "metadata": {},
   "outputs": [
    {
     "name": "stdout",
     "output_type": "stream",
     "text": [
      "[1 2]\n"
     ]
    }
   ],
   "source": [
    "obs = np.concatenate([x['observations'] for x in paths])\n",
    "print(obs)"
   ]
  },
  {
   "cell_type": "code",
   "execution_count": 34,
   "metadata": {},
   "outputs": [
    {
     "name": "stdout",
     "output_type": "stream",
     "text": [
      "(<function <lambda> at 0x7f022f683ed8>, [{'observations': [1, 2]}])\n",
      "[[1, 2]]\n",
      "[[1, 2]]\n",
      "[1 2]\n"
     ]
    }
   ],
   "source": [
    "obs_lambda = lambda x:x['observations'], paths\n",
    "print(obs_lambda)\n",
    "\n",
    "obs_map = map(lambda x:x['observations'],paths)\n",
    "print(obs_map)\n",
    "\n",
    "obs_map = list(map(lambda x:x['observations'],paths))\n",
    "print(obs_map)\n",
    "\n",
    "obs = np.concatenate(list(map(lambda x:x['observations'],paths)))\n",
    "print(obs)"
   ]
  },
  {
   "cell_type": "code",
   "execution_count": null,
   "metadata": {},
   "outputs": [],
   "source": []
  }
 ],
 "metadata": {
  "kernelspec": {
   "display_name": "Python 3",
   "language": "python",
   "name": "python3"
  },
  "language_info": {
   "codemirror_mode": {
    "name": "ipython",
    "version": 2
   },
   "file_extension": ".py",
   "mimetype": "text/x-python",
   "name": "python",
   "nbconvert_exporter": "python",
   "pygments_lexer": "ipython2",
   "version": "2.7.12"
  }
 },
 "nbformat": 4,
 "nbformat_minor": 2
}
