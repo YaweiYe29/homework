{
 "cells": [
  {
   "cell_type": "code",
   "execution_count": 1,
   "metadata": {
    "collapsed": true
   },
   "outputs": [],
   "source": [
    "import tensorflow as tf\n",
    "import numpy as np\n",
    "import tf_util\n",
    "import gym\n",
    "import load_policy\n",
    "import argparse\n",
    "import json"
   ]
  },
  {
   "cell_type": "code",
   "execution_count": 2,
   "metadata": {
    "collapsed": false
   },
   "outputs": [],
   "source": [
    "# model.predict(env.reset()[None, :])\n",
    "# obs.shape\n",
    "# data[e]['cloned_behavior'].predict(env.reset()[None, :])"
   ]
  },
  {
   "cell_type": "code",
   "execution_count": 3,
   "metadata": {
    "collapsed": true
   },
   "outputs": [],
   "source": [
    "def execute_expert_policy(policy_fn, envname, max_timesteps, num_rollouts):\n",
    "\n",
    "    with tf.Session():\n",
    "        tf_util.initialize()\n",
    "\n",
    "        env = gym.make(envname)\n",
    "        max_steps = max_timesteps or env.spec.timestep_limit\n",
    "\n",
    "        returns = []\n",
    "        observations = []\n",
    "        actions = []\n",
    "        for i in range(num_rollouts):\n",
    "            print('rollout_num', i)\n",
    "            obs = env.reset()\n",
    "            done = False\n",
    "            totalr = 0.\n",
    "            steps = 0\n",
    "            while not done:\n",
    "                action = policy_fn(obs[None, :])\n",
    "                observations.append(obs)\n",
    "                actions.append(action)\n",
    "                obs, r, done, _ = env.step(action)\n",
    "                totalr += r\n",
    "                steps += 1\n",
    "                if steps % 100 == 0:\n",
    "                    print(\"%i/%i\" % (steps, max_steps))\n",
    "                if steps >= max_steps:\n",
    "                    break\n",
    "            returns.append(totalr)\n",
    "        data = {\n",
    "            'observations': np.array(observations),\n",
    "            'actions': np.array(actions)\n",
    "        }\n",
    "        return returns, data\n",
    "    \n",
    "def execute_cloned_policy(policy_fn, envname, max_timesteps, num_rollouts):\n",
    "    env = gym.make(envname)\n",
    "    max_steps = max_timesteps or env.spec.timestep_limit\n",
    "\n",
    "    returns = []\n",
    "    observations = []\n",
    "    actions = []\n",
    "    for i in range(num_rollouts):\n",
    "        print('rollout_num', i)\n",
    "        obs = env.reset()\n",
    "        done = False\n",
    "        totalr = 0.\n",
    "        steps = 0\n",
    "        while not done:\n",
    "            action = policy_fn(obs[None, :])\n",
    "            observations.append(obs)\n",
    "            actions.append(action)\n",
    "            obs, r, done, _ = env.step(action)\n",
    "            totalr += r\n",
    "            steps += 1\n",
    "            if steps % 100 == 0:\n",
    "                print(\"%i/%i\" % (steps, max_steps))\n",
    "            if steps >= max_steps:\n",
    "                break\n",
    "        returns.append(totalr)\n",
    "    data = {\n",
    "        'observations': np.array(observations),\n",
    "        'actions': np.array(actions)\n",
    "    }\n",
    "    return returns, data"
   ]
  },
  {
   "cell_type": "markdown",
   "metadata": {},
   "source": [
    "# Behavior Cloning"
   ]
  },
  {
   "cell_type": "code",
   "execution_count": 4,
   "metadata": {
    "collapsed": false
   },
   "outputs": [],
   "source": [
    "import os\n",
    "import pickle\n",
    "\n",
    "envs = os.listdir('./data/')\n",
    "\n",
    "data = {}\n",
    "for e in envs:\n",
    "    data[e] = pickle.load(open(os.path.join('data', e), 'rb'))"
   ]
  },
  {
   "cell_type": "code",
   "execution_count": 5,
   "metadata": {
    "collapsed": false,
    "scrolled": true
   },
   "outputs": [
    {
     "name": "stderr",
     "output_type": "stream",
     "text": [
      "Using TensorFlow backend.\n"
     ]
    },
    {
     "name": "stdout",
     "output_type": "stream",
     "text": [
      "Epoch 1/30\n",
      "20000/20000 [==============================] - 2s - loss: 0.0442     \n",
      "Epoch 2/30\n",
      "20000/20000 [==============================] - 3s - loss: 0.0114     \n",
      "Epoch 3/30\n",
      "20000/20000 [==============================] - 4s - loss: 0.0082     \n",
      "Epoch 4/30\n",
      "20000/20000 [==============================] - 4s - loss: 0.0066     \n",
      "Epoch 5/30\n",
      "20000/20000 [==============================] - 4s - loss: 0.0056     \n",
      "Epoch 6/30\n",
      "20000/20000 [==============================] - 4s - loss: 0.0048     \n",
      "Epoch 7/30\n",
      "20000/20000 [==============================] - 3s - loss: 0.0041     \n",
      "Epoch 8/30\n",
      "20000/20000 [==============================] - 4s - loss: 0.0037     \n",
      "Epoch 9/30\n",
      "20000/20000 [==============================] - 4s - loss: 0.0032     \n",
      "Epoch 10/30\n",
      "20000/20000 [==============================] - 4s - loss: 0.0029     \n",
      "Epoch 11/30\n",
      "20000/20000 [==============================] - 4s - loss: 0.0027     \n",
      "Epoch 12/30\n",
      "20000/20000 [==============================] - 3s - loss: 0.0026     \n",
      "Epoch 13/30\n",
      "20000/20000 [==============================] - 4s - loss: 0.0022     \n",
      "Epoch 14/30\n",
      "20000/20000 [==============================] - 4s - loss: 0.0021     \n",
      "Epoch 15/30\n",
      "20000/20000 [==============================] - 4s - loss: 0.0020     \n",
      "Epoch 16/30\n",
      "20000/20000 [==============================] - 4s - loss: 0.0019     \n",
      "Epoch 17/30\n",
      "20000/20000 [==============================] - 3s - loss: 0.0018     \n",
      "Epoch 18/30\n",
      "20000/20000 [==============================] - 3s - loss: 0.0017     \n",
      "Epoch 19/30\n",
      "20000/20000 [==============================] - 4s - loss: 0.0017     \n",
      "Epoch 20/30\n",
      "20000/20000 [==============================] - 4s - loss: 0.0016     \n",
      "Epoch 21/30\n",
      "20000/20000 [==============================] - 5s - loss: 0.0016     \n",
      "Epoch 22/30\n",
      "20000/20000 [==============================] - 5s - loss: 0.0015     \n",
      "Epoch 23/30\n",
      "20000/20000 [==============================] - 4s - loss: 0.0014     \n",
      "Epoch 24/30\n",
      "20000/20000 [==============================] - 5s - loss: 0.0014     \n",
      "Epoch 25/30\n",
      "20000/20000 [==============================] - 4s - loss: 0.0014     \n",
      "Epoch 26/30\n",
      "20000/20000 [==============================] - 4s - loss: 0.0013     \n",
      "Epoch 27/30\n",
      "20000/20000 [==============================] - 5s - loss: 0.0013     \n",
      "Epoch 28/30\n",
      "20000/20000 [==============================] - 4s - loss: 0.0013     \n",
      "Epoch 29/30\n",
      "20000/20000 [==============================] - 4s - loss: 0.0012     \n",
      "Epoch 30/30\n",
      "20000/20000 [==============================] - 5s - loss: 0.0012     \n",
      "Epoch 1/30\n",
      "20000/20000 [==============================] - 5s - loss: 0.1906     \n",
      "Epoch 2/30\n",
      "20000/20000 [==============================] - 3s - loss: 0.0456     \n",
      "Epoch 3/30\n",
      "20000/20000 [==============================] - 4s - loss: 0.0341     \n",
      "Epoch 4/30\n",
      "20000/20000 [==============================] - 4s - loss: 0.0282     \n",
      "Epoch 5/30\n",
      "20000/20000 [==============================] - 4s - loss: 0.0240     \n",
      "Epoch 6/30\n",
      "20000/20000 [==============================] - 5s - loss: 0.0211     \n",
      "Epoch 7/30\n",
      "20000/20000 [==============================] - 4s - loss: 0.0190     \n",
      "Epoch 8/30\n",
      "20000/20000 [==============================] - 3s - loss: 0.0173     \n",
      "Epoch 9/30\n",
      "20000/20000 [==============================] - 4s - loss: 0.0160     \n",
      "Epoch 10/30\n",
      "20000/20000 [==============================] - 4s - loss: 0.0148     \n",
      "Epoch 11/30\n",
      "20000/20000 [==============================] - 3s - loss: 0.0136     \n",
      "Epoch 12/30\n",
      "20000/20000 [==============================] - 4s - loss: 0.0128     \n",
      "Epoch 13/30\n",
      "20000/20000 [==============================] - 4s - loss: 0.0121     \n",
      "Epoch 14/30\n",
      "20000/20000 [==============================] - 4s - loss: 0.0113     \n",
      "Epoch 15/30\n",
      "20000/20000 [==============================] - 3s - loss: 0.0108     \n",
      "Epoch 16/30\n",
      "20000/20000 [==============================] - 2s - loss: 0.0103     \n",
      "Epoch 17/30\n",
      "20000/20000 [==============================] - 2s - loss: 0.0099     \n",
      "Epoch 18/30\n",
      "20000/20000 [==============================] - 2s - loss: 0.0093     \n",
      "Epoch 19/30\n",
      "20000/20000 [==============================] - 2s - loss: 0.0090     \n",
      "Epoch 20/30\n",
      "20000/20000 [==============================] - 2s - loss: 0.0087     \n",
      "Epoch 21/30\n",
      "20000/20000 [==============================] - 2s - loss: 0.0083     \n",
      "Epoch 22/30\n",
      "20000/20000 [==============================] - 2s - loss: 0.0081     \n",
      "Epoch 23/30\n",
      "20000/20000 [==============================] - 2s - loss: 0.0078     \n",
      "Epoch 24/30\n",
      "20000/20000 [==============================] - 2s - loss: 0.0079     \n",
      "Epoch 25/30\n",
      "20000/20000 [==============================] - 2s - loss: 0.0072     \n",
      "Epoch 26/30\n",
      "20000/20000 [==============================] - 2s - loss: 0.0071     \n",
      "Epoch 27/30\n",
      "20000/20000 [==============================] - 2s - loss: 0.0070     \n",
      "Epoch 28/30\n",
      "20000/20000 [==============================] - 2s - loss: 0.0068     \n",
      "Epoch 29/30\n",
      "20000/20000 [==============================] - 2s - loss: 0.0067     \n",
      "Epoch 30/30\n",
      "20000/20000 [==============================] - 2s - loss: 0.0067     \n",
      "Epoch 1/30\n",
      "20000/20000 [==============================] - 4s - loss: 56.6288     \n",
      "Epoch 2/30\n",
      "20000/20000 [==============================] - 3s - loss: 2.8931     \n",
      "Epoch 3/30\n",
      "20000/20000 [==============================] - 3s - loss: 1.4691     \n",
      "Epoch 4/30\n",
      "20000/20000 [==============================] - 3s - loss: 1.5795     \n",
      "Epoch 5/30\n",
      "20000/20000 [==============================] - 3s - loss: 1.6585     \n",
      "Epoch 6/30\n",
      "20000/20000 [==============================] - 3s - loss: 1.2432     \n",
      "Epoch 7/30\n",
      "20000/20000 [==============================] - 4s - loss: 1.4760     \n",
      "Epoch 8/30\n",
      "20000/20000 [==============================] - 4s - loss: 1.4120     \n",
      "Epoch 9/30\n",
      "20000/20000 [==============================] - 3s - loss: 1.0660     \n",
      "Epoch 10/30\n",
      "20000/20000 [==============================] - 4s - loss: 0.9244     \n",
      "Epoch 11/30\n",
      "20000/20000 [==============================] - 4s - loss: 1.6079     \n",
      "Epoch 12/30\n",
      "20000/20000 [==============================] - 3s - loss: 0.4581     \n",
      "Epoch 13/30\n",
      "20000/20000 [==============================] - 3s - loss: 1.1814     \n",
      "Epoch 14/30\n",
      "20000/20000 [==============================] - 3s - loss: 0.6413     \n",
      "Epoch 15/30\n",
      "20000/20000 [==============================] - 3s - loss: 0.8418     \n",
      "Epoch 16/30\n",
      "20000/20000 [==============================] - 3s - loss: 0.3415     \n",
      "Epoch 17/30\n",
      "20000/20000 [==============================] - 4s - loss: 0.3844     \n",
      "Epoch 18/30\n",
      "20000/20000 [==============================] - 4s - loss: 0.4147     \n",
      "Epoch 19/30\n",
      "20000/20000 [==============================] - 4s - loss: 0.2517     \n",
      "Epoch 20/30\n",
      "20000/20000 [==============================] - 4s - loss: 0.5012     \n",
      "Epoch 21/30\n",
      "20000/20000 [==============================] - 3s - loss: 0.1921     \n",
      "Epoch 22/30\n",
      "20000/20000 [==============================] - 3s - loss: 0.2664     \n",
      "Epoch 23/30\n",
      "20000/20000 [==============================] - 4s - loss: 0.1820     \n",
      "Epoch 24/30\n",
      "20000/20000 [==============================] - 3s - loss: 0.2075     \n",
      "Epoch 25/30\n",
      "20000/20000 [==============================] - 3s - loss: 0.1583     \n",
      "Epoch 26/30\n",
      "20000/20000 [==============================] - 3s - loss: 0.1628     \n",
      "Epoch 27/30\n",
      "20000/20000 [==============================] - 4s - loss: 0.1192     \n",
      "Epoch 28/30\n",
      "20000/20000 [==============================] - 4s - loss: 0.1039     \n",
      "Epoch 29/30\n",
      "20000/20000 [==============================] - 3s - loss: 0.0949     \n",
      "Epoch 30/30\n",
      "20000/20000 [==============================] - 4s - loss: 0.0881     \n",
      "Epoch 1/30\n",
      "1000/1000 [==============================] - 0s - loss: 0.0223     \n",
      "Epoch 2/30\n",
      "1000/1000 [==============================] - 0s - loss: 0.0071     \n",
      "Epoch 3/30\n",
      "1000/1000 [==============================] - 0s - loss: 0.0047     \n",
      "Epoch 4/30\n",
      "1000/1000 [==============================] - 0s - loss: 0.0038     \n",
      "Epoch 5/30\n",
      "1000/1000 [==============================] - 0s - loss: 0.0031     \n",
      "Epoch 6/30\n",
      "1000/1000 [==============================] - 0s - loss: 0.0027     \n",
      "Epoch 7/30\n",
      "1000/1000 [==============================] - 0s - loss: 0.0024     \n",
      "Epoch 8/30\n",
      "1000/1000 [==============================] - 0s - loss: 0.0021     \n",
      "Epoch 9/30\n",
      "1000/1000 [==============================] - 0s - loss: 0.0019     \n",
      "Epoch 10/30\n",
      "1000/1000 [==============================] - 0s - loss: 0.0017     \n",
      "Epoch 11/30\n",
      "1000/1000 [==============================] - 0s - loss: 0.0016     \n",
      "Epoch 12/30\n",
      "1000/1000 [==============================] - 0s - loss: 0.0015     \n",
      "Epoch 13/30\n",
      "1000/1000 [==============================] - 0s - loss: 0.0013     \n",
      "Epoch 14/30\n",
      "1000/1000 [==============================] - 0s - loss: 0.0013     \n",
      "Epoch 15/30\n",
      "1000/1000 [==============================] - 0s - loss: 0.0012     \n",
      "Epoch 16/30\n",
      "1000/1000 [==============================] - 0s - loss: 0.0012     \n",
      "Epoch 17/30\n",
      "1000/1000 [==============================] - 0s - loss: 0.0011     \n",
      "Epoch 18/30\n",
      "1000/1000 [==============================] - 0s - loss: 0.0011         \n",
      "Epoch 19/30\n",
      "1000/1000 [==============================] - 0s - loss: 0.0010     \n",
      "Epoch 20/30\n",
      "1000/1000 [==============================] - 0s - loss: 9.5939e-04     \n",
      "Epoch 21/30\n",
      "1000/1000 [==============================] - 0s - loss: 9.6229e-04     \n",
      "Epoch 22/30\n",
      "1000/1000 [==============================] - 0s - loss: 9.0707e-04     \n",
      "Epoch 23/30\n",
      "1000/1000 [==============================] - 0s - loss: 8.7664e-04     \n",
      "Epoch 24/30\n",
      "1000/1000 [==============================] - 0s - loss: 8.2244e-04     \n",
      "Epoch 25/30\n",
      "1000/1000 [==============================] - 0s - loss: 8.0863e-04     \n",
      "Epoch 26/30\n",
      "1000/1000 [==============================] - 0s - loss: 7.8435e-04     \n",
      "Epoch 27/30\n",
      "1000/1000 [==============================] - 0s - loss: 7.9636e-04     \n",
      "Epoch 28/30\n",
      "1000/1000 [==============================] - 0s - loss: 7.7344e-04     \n",
      "Epoch 29/30\n",
      "1000/1000 [==============================] - 0s - loss: 7.7526e-04     \n",
      "Epoch 30/30\n",
      "1000/1000 [==============================] - 0s - loss: 7.2137e-04     \n",
      "Epoch 1/30\n",
      "20000/20000 [==============================] - 2s - loss: 0.4285     \n",
      "Epoch 2/30\n",
      "20000/20000 [==============================] - 2s - loss: 0.1212     \n",
      "Epoch 3/30\n",
      "20000/20000 [==============================] - 2s - loss: 0.0831     \n",
      "Epoch 4/30\n",
      "20000/20000 [==============================] - 2s - loss: 0.0647     \n",
      "Epoch 5/30\n",
      "20000/20000 [==============================] - 2s - loss: 0.0536     \n",
      "Epoch 6/30\n",
      "20000/20000 [==============================] - 2s - loss: 0.0462     \n",
      "Epoch 7/30\n",
      "20000/20000 [==============================] - 2s - loss: 0.0400     \n",
      "Epoch 8/30\n",
      "20000/20000 [==============================] - 2s - loss: 0.0357     \n",
      "Epoch 9/30\n",
      "20000/20000 [==============================] - 2s - loss: 0.0321     \n",
      "Epoch 10/30\n",
      "20000/20000 [==============================] - 2s - loss: 0.0291     \n",
      "Epoch 11/30\n",
      "20000/20000 [==============================] - 2s - loss: 0.0273     \n",
      "Epoch 12/30\n",
      "20000/20000 [==============================] - 2s - loss: 0.0253     \n",
      "Epoch 13/30\n",
      "20000/20000 [==============================] - 2s - loss: 0.0235     \n",
      "Epoch 14/30\n",
      "20000/20000 [==============================] - 1s - loss: 0.0224     \n",
      "Epoch 15/30\n",
      "20000/20000 [==============================] - 1s - loss: 0.0210     \n",
      "Epoch 16/30\n",
      "20000/20000 [==============================] - 1s - loss: 0.0203     \n",
      "Epoch 17/30\n",
      "20000/20000 [==============================] - 1s - loss: 0.0191     \n",
      "Epoch 18/30\n",
      "20000/20000 [==============================] - 1s - loss: 0.0181     \n",
      "Epoch 19/30\n",
      "20000/20000 [==============================] - 1s - loss: 0.0177     \n",
      "Epoch 20/30\n",
      "20000/20000 [==============================] - 1s - loss: 0.0172     \n",
      "Epoch 21/30\n",
      "20000/20000 [==============================] - 1s - loss: 0.0164     \n",
      "Epoch 22/30\n",
      "20000/20000 [==============================] - 1s - loss: 0.0159     \n",
      "Epoch 23/30\n",
      "20000/20000 [==============================] - 1s - loss: 0.0154     \n",
      "Epoch 24/30\n",
      "20000/20000 [==============================] - 1s - loss: 0.0150     \n",
      "Epoch 25/30\n",
      "20000/20000 [==============================] - 1s - loss: 0.0147     \n",
      "Epoch 26/30\n",
      "20000/20000 [==============================] - 1s - loss: 0.0146     \n",
      "Epoch 27/30\n",
      "20000/20000 [==============================] - 1s - loss: 0.0141     \n",
      "Epoch 28/30\n",
      "20000/20000 [==============================] - 1s - loss: 0.0136     \n",
      "Epoch 29/30\n",
      "20000/20000 [==============================] - 1s - loss: 0.0134     \n",
      "Epoch 30/30\n",
      "20000/20000 [==============================] - 1s - loss: 0.0134     \n"
     ]
    }
   ],
   "source": [
    "# clone the behavior\n",
    "from keras.models import Sequential\n",
    "from keras.layers import Dense, Activation\n",
    "\n",
    "for e in envs:\n",
    "    d = data[e]\n",
    "    obs = d['observations']\n",
    "    act = d['actions']\n",
    "    model = Sequential()\n",
    "    model.add(Dense(input_dim=obs.shape[-1], output_dim=100))\n",
    "    model.add(Activation('relu'))\n",
    "    model.add(Dense(output_dim=act.shape[-1]))\n",
    "#     model.add(Activation('softmax'))\n",
    "\n",
    "    model.compile(loss='mean_squared_error',\n",
    "                  optimizer='adam')\n",
    "    model.fit(obs.squeeze(), act.squeeze(), nb_epoch=30, batch_size=32)\n",
    "    data[e]['cloned_behavior'] = model"
   ]
  },
  {
   "cell_type": "code",
   "execution_count": 6,
   "metadata": {
    "collapsed": false,
    "scrolled": true
   },
   "outputs": [
    {
     "name": "stdout",
     "output_type": "stream",
     "text": [
      "obs (1, 111) (1, 111)\n",
      "WARNING:tensorflow:From /Users/admin/Documents/CU_Courses/cs294_deeprl/homework/hw1/tf_util.py:91: all_variables (from tensorflow.python.ops.variables) is deprecated and will be removed after 2017-03-02.\n",
      "Instructions for updating:\n",
      "Please use tf.global_variables instead.\n"
     ]
    },
    {
     "name": "stderr",
     "output_type": "stream",
     "text": [
      "[2017-06-24 16:42:41,644] From /Users/admin/Documents/CU_Courses/cs294_deeprl/homework/hw1/tf_util.py:91: all_variables (from tensorflow.python.ops.variables) is deprecated and will be removed after 2017-03-02.\n",
      "Instructions for updating:\n",
      "Please use tf.global_variables instead.\n"
     ]
    },
    {
     "name": "stdout",
     "output_type": "stream",
     "text": [
      "WARNING:tensorflow:From /Users/admin/Documents/CU_Courses/cs294_deeprl/homework/hw1/tf_util.py:92: initialize_variables (from tensorflow.python.ops.variables) is deprecated and will be removed after 2017-03-02.\n",
      "Instructions for updating:\n",
      "Use `tf.variables_initializer` instead.\n"
     ]
    },
    {
     "name": "stderr",
     "output_type": "stream",
     "text": [
      "[2017-06-24 16:42:41,647] From /Users/admin/Documents/CU_Courses/cs294_deeprl/homework/hw1/tf_util.py:92: initialize_variables (from tensorflow.python.ops.variables) is deprecated and will be removed after 2017-03-02.\n",
      "Instructions for updating:\n",
      "Use `tf.variables_initializer` instead.\n",
      "[2017-06-24 16:42:43,228] Making new env: Ant-v1\n"
     ]
    },
    {
     "name": "stdout",
     "output_type": "stream",
     "text": [
      "rollout_num 0\n",
      "100/1000\n",
      "200/1000\n",
      "300/1000\n",
      "400/1000\n",
      "500/1000\n",
      "600/1000\n",
      "700/1000\n",
      "800/1000\n",
      "900/1000\n",
      "1000/1000\n",
      "rollout_num 1\n",
      "100/1000\n",
      "200/1000\n",
      "300/1000\n",
      "400/1000\n",
      "500/1000\n",
      "600/1000\n",
      "700/1000\n",
      "800/1000\n",
      "900/1000\n",
      "1000/1000\n",
      "rollout_num 2\n",
      "100/1000\n",
      "200/1000\n",
      "300/1000\n",
      "400/1000\n",
      "500/1000\n",
      "600/1000\n",
      "700/1000\n",
      "800/1000\n",
      "900/1000\n"
     ]
    },
    {
     "name": "stderr",
     "output_type": "stream",
     "text": [
      "[2017-06-24 16:42:50,794] Making new env: Ant-v1\n"
     ]
    },
    {
     "name": "stdout",
     "output_type": "stream",
     "text": [
      "1000/1000\n",
      "rollout_num 0\n",
      "100/1000\n",
      "200/1000\n",
      "300/1000\n",
      "400/1000\n",
      "500/1000\n",
      "600/1000\n",
      "700/1000\n",
      "800/1000\n",
      "900/1000\n",
      "1000/1000\n",
      "rollout_num 1\n",
      "100/1000\n",
      "200/1000\n",
      "300/1000\n",
      "400/1000\n",
      "500/1000\n",
      "600/1000\n",
      "700/1000\n",
      "800/1000\n",
      "900/1000\n",
      "1000/1000\n",
      "rollout_num 2\n",
      "100/1000\n",
      "200/1000\n",
      "300/1000\n",
      "400/1000\n",
      "500/1000\n",
      "600/1000\n",
      "obs (1, 17) (1, 17)\n",
      "WARNING:tensorflow:From /Users/admin/Documents/CU_Courses/cs294_deeprl/homework/hw1/tf_util.py:91: all_variables (from tensorflow.python.ops.variables) is deprecated and will be removed after 2017-03-02.\n",
      "Instructions for updating:\n",
      "Please use tf.global_variables instead.\n"
     ]
    },
    {
     "name": "stderr",
     "output_type": "stream",
     "text": [
      "[2017-06-24 16:42:56,441] From /Users/admin/Documents/CU_Courses/cs294_deeprl/homework/hw1/tf_util.py:91: all_variables (from tensorflow.python.ops.variables) is deprecated and will be removed after 2017-03-02.\n",
      "Instructions for updating:\n",
      "Please use tf.global_variables instead.\n"
     ]
    },
    {
     "name": "stdout",
     "output_type": "stream",
     "text": [
      "WARNING:tensorflow:From /Users/admin/Documents/CU_Courses/cs294_deeprl/homework/hw1/tf_util.py:92: initialize_variables (from tensorflow.python.ops.variables) is deprecated and will be removed after 2017-03-02.\n",
      "Instructions for updating:\n",
      "Use `tf.variables_initializer` instead.\n"
     ]
    },
    {
     "name": "stderr",
     "output_type": "stream",
     "text": [
      "[2017-06-24 16:42:56,444] From /Users/admin/Documents/CU_Courses/cs294_deeprl/homework/hw1/tf_util.py:92: initialize_variables (from tensorflow.python.ops.variables) is deprecated and will be removed after 2017-03-02.\n",
      "Instructions for updating:\n",
      "Use `tf.variables_initializer` instead.\n",
      "[2017-06-24 16:42:57,995] Making new env: HalfCheetah-v1\n"
     ]
    },
    {
     "name": "stdout",
     "output_type": "stream",
     "text": [
      "rollout_num 0\n",
      "100/1000\n",
      "200/1000\n",
      "300/1000\n",
      "400/1000\n",
      "500/1000\n",
      "600/1000\n",
      "700/1000\n",
      "800/1000\n",
      "900/1000\n",
      "1000/1000\n",
      "rollout_num 1\n",
      "100/1000\n",
      "200/1000\n",
      "300/1000\n",
      "400/1000\n",
      "500/1000\n",
      "600/1000\n",
      "700/1000\n",
      "800/1000\n",
      "900/1000\n",
      "1000/1000\n",
      "rollout_num 2\n",
      "100/1000\n",
      "200/1000\n",
      "300/1000\n",
      "400/1000\n",
      "500/1000\n",
      "600/1000\n",
      "700/1000\n",
      "800/1000\n",
      "900/1000\n"
     ]
    },
    {
     "name": "stderr",
     "output_type": "stream",
     "text": [
      "[2017-06-24 16:43:00,353] Making new env: HalfCheetah-v1\n"
     ]
    },
    {
     "name": "stdout",
     "output_type": "stream",
     "text": [
      "1000/1000\n",
      "rollout_num 0\n",
      "100/1000\n",
      "200/1000\n",
      "300/1000\n",
      "400/1000\n",
      "500/1000\n",
      "600/1000\n",
      "700/1000\n",
      "800/1000\n",
      "900/1000\n",
      "1000/1000\n",
      "rollout_num 1\n",
      "100/1000\n",
      "200/1000\n",
      "300/1000\n",
      "400/1000\n",
      "500/1000\n",
      "600/1000\n",
      "700/1000\n",
      "800/1000\n",
      "900/1000\n",
      "1000/1000\n",
      "rollout_num 2\n",
      "100/1000\n",
      "200/1000\n",
      "300/1000\n",
      "400/1000\n",
      "500/1000\n",
      "600/1000\n",
      "700/1000\n",
      "800/1000\n",
      "900/1000\n",
      "1000/1000\n",
      "obs (1, 376) (1, 376)\n",
      "WARNING:tensorflow:From /Users/admin/Documents/CU_Courses/cs294_deeprl/homework/hw1/tf_util.py:91: all_variables (from tensorflow.python.ops.variables) is deprecated and will be removed after 2017-03-02.\n",
      "Instructions for updating:\n",
      "Please use tf.global_variables instead.\n"
     ]
    },
    {
     "name": "stderr",
     "output_type": "stream",
     "text": [
      "[2017-06-24 16:43:03,378] From /Users/admin/Documents/CU_Courses/cs294_deeprl/homework/hw1/tf_util.py:91: all_variables (from tensorflow.python.ops.variables) is deprecated and will be removed after 2017-03-02.\n",
      "Instructions for updating:\n",
      "Please use tf.global_variables instead.\n"
     ]
    },
    {
     "name": "stdout",
     "output_type": "stream",
     "text": [
      "WARNING:tensorflow:From /Users/admin/Documents/CU_Courses/cs294_deeprl/homework/hw1/tf_util.py:92: initialize_variables (from tensorflow.python.ops.variables) is deprecated and will be removed after 2017-03-02.\n",
      "Instructions for updating:\n",
      "Use `tf.variables_initializer` instead.\n"
     ]
    },
    {
     "name": "stderr",
     "output_type": "stream",
     "text": [
      "[2017-06-24 16:43:03,381] From /Users/admin/Documents/CU_Courses/cs294_deeprl/homework/hw1/tf_util.py:92: initialize_variables (from tensorflow.python.ops.variables) is deprecated and will be removed after 2017-03-02.\n",
      "Instructions for updating:\n",
      "Use `tf.variables_initializer` instead.\n",
      "[2017-06-24 16:43:05,152] Making new env: Humanoid-v1\n"
     ]
    },
    {
     "name": "stdout",
     "output_type": "stream",
     "text": [
      "rollout_num 0\n",
      "100/1000\n",
      "200/1000\n",
      "300/1000\n",
      "400/1000\n",
      "500/1000\n",
      "600/1000\n",
      "700/1000\n",
      "800/1000\n",
      "900/1000\n",
      "1000/1000\n",
      "rollout_num 1\n",
      "100/1000\n",
      "200/1000\n",
      "300/1000\n",
      "400/1000\n",
      "500/1000\n",
      "600/1000\n",
      "700/1000\n",
      "800/1000\n",
      "900/1000\n",
      "1000/1000\n",
      "rollout_num 2\n",
      "100/1000\n",
      "200/1000\n",
      "300/1000\n",
      "400/1000\n",
      "500/1000\n",
      "600/1000\n",
      "700/1000\n",
      "800/1000\n",
      "900/1000\n"
     ]
    },
    {
     "name": "stderr",
     "output_type": "stream",
     "text": [
      "[2017-06-24 16:43:12,356] Making new env: Humanoid-v1\n"
     ]
    },
    {
     "name": "stdout",
     "output_type": "stream",
     "text": [
      "1000/1000\n",
      "rollout_num 0\n",
      "rollout_num 1\n",
      "rollout_num 2\n",
      "obs (1, 11) (1, 11)\n",
      "WARNING:tensorflow:From /Users/admin/Documents/CU_Courses/cs294_deeprl/homework/hw1/tf_util.py:91: all_variables (from tensorflow.python.ops.variables) is deprecated and will be removed after 2017-03-02.\n",
      "Instructions for updating:\n",
      "Please use tf.global_variables instead.\n"
     ]
    },
    {
     "name": "stderr",
     "output_type": "stream",
     "text": [
      "[2017-06-24 16:43:13,085] From /Users/admin/Documents/CU_Courses/cs294_deeprl/homework/hw1/tf_util.py:91: all_variables (from tensorflow.python.ops.variables) is deprecated and will be removed after 2017-03-02.\n",
      "Instructions for updating:\n",
      "Please use tf.global_variables instead.\n"
     ]
    },
    {
     "name": "stdout",
     "output_type": "stream",
     "text": [
      "WARNING:tensorflow:From /Users/admin/Documents/CU_Courses/cs294_deeprl/homework/hw1/tf_util.py:92: initialize_variables (from tensorflow.python.ops.variables) is deprecated and will be removed after 2017-03-02.\n",
      "Instructions for updating:\n",
      "Use `tf.variables_initializer` instead.\n"
     ]
    },
    {
     "name": "stderr",
     "output_type": "stream",
     "text": [
      "[2017-06-24 16:43:13,088] From /Users/admin/Documents/CU_Courses/cs294_deeprl/homework/hw1/tf_util.py:92: initialize_variables (from tensorflow.python.ops.variables) is deprecated and will be removed after 2017-03-02.\n",
      "Instructions for updating:\n",
      "Use `tf.variables_initializer` instead.\n",
      "[2017-06-24 16:43:14,660] Making new env: Reacher-v1\n",
      "[2017-06-24 16:43:14,879] Making new env: Reacher-v1\n"
     ]
    },
    {
     "name": "stdout",
     "output_type": "stream",
     "text": [
      "rollout_num 0\n",
      "rollout_num 1\n",
      "rollout_num 2\n",
      "rollout_num 0\n",
      "rollout_num 1\n",
      "rollout_num 2\n",
      "obs (1, 17) (1, 17)\n",
      "WARNING:tensorflow:From /Users/admin/Documents/CU_Courses/cs294_deeprl/homework/hw1/tf_util.py:91: all_variables (from tensorflow.python.ops.variables) is deprecated and will be removed after 2017-03-02.\n",
      "Instructions for updating:\n",
      "Please use tf.global_variables instead.\n"
     ]
    },
    {
     "name": "stderr",
     "output_type": "stream",
     "text": [
      "[2017-06-24 16:43:15,210] From /Users/admin/Documents/CU_Courses/cs294_deeprl/homework/hw1/tf_util.py:91: all_variables (from tensorflow.python.ops.variables) is deprecated and will be removed after 2017-03-02.\n",
      "Instructions for updating:\n",
      "Please use tf.global_variables instead.\n"
     ]
    },
    {
     "name": "stdout",
     "output_type": "stream",
     "text": [
      "WARNING:tensorflow:From /Users/admin/Documents/CU_Courses/cs294_deeprl/homework/hw1/tf_util.py:92: initialize_variables (from tensorflow.python.ops.variables) is deprecated and will be removed after 2017-03-02.\n",
      "Instructions for updating:\n",
      "Use `tf.variables_initializer` instead.\n"
     ]
    },
    {
     "name": "stderr",
     "output_type": "stream",
     "text": [
      "[2017-06-24 16:43:15,213] From /Users/admin/Documents/CU_Courses/cs294_deeprl/homework/hw1/tf_util.py:92: initialize_variables (from tensorflow.python.ops.variables) is deprecated and will be removed after 2017-03-02.\n",
      "Instructions for updating:\n",
      "Use `tf.variables_initializer` instead.\n",
      "[2017-06-24 16:43:16,977] Making new env: Walker2d-v1\n"
     ]
    },
    {
     "name": "stdout",
     "output_type": "stream",
     "text": [
      "rollout_num 0\n",
      "100/1000\n",
      "200/1000\n",
      "300/1000\n",
      "400/1000\n",
      "500/1000\n",
      "600/1000\n",
      "700/1000\n",
      "800/1000\n",
      "900/1000\n",
      "1000/1000\n",
      "rollout_num 1\n",
      "100/1000\n",
      "200/1000\n",
      "300/1000\n",
      "400/1000\n",
      "500/1000\n",
      "600/1000\n",
      "700/1000\n",
      "800/1000\n",
      "900/1000\n",
      "1000/1000\n",
      "rollout_num 2\n",
      "100/1000\n",
      "200/1000\n",
      "300/1000\n",
      "400/1000\n",
      "500/1000\n",
      "600/1000\n",
      "700/1000\n",
      "800/1000\n",
      "900/1000\n"
     ]
    },
    {
     "name": "stderr",
     "output_type": "stream",
     "text": [
      "[2017-06-24 16:43:20,267] Making new env: Walker2d-v1\n"
     ]
    },
    {
     "name": "stdout",
     "output_type": "stream",
     "text": [
      "1000/1000\n",
      "rollout_num 0\n",
      "100/1000\n",
      "200/1000\n",
      "300/1000\n",
      "400/1000\n",
      "500/1000\n",
      "600/1000\n",
      "700/1000\n",
      "800/1000\n",
      "900/1000\n",
      "1000/1000\n",
      "rollout_num 1\n",
      "100/1000\n",
      "rollout_num 2\n",
      "100/1000\n",
      "200/1000\n",
      "300/1000\n",
      "400/1000\n",
      "500/1000\n",
      "600/1000\n",
      "700/1000\n",
      "800/1000\n",
      "900/1000\n",
      "1000/1000\n"
     ]
    }
   ],
   "source": [
    "# run the expert and the cloned models, to get stats\n",
    "for e in envs:\n",
    "    expert_policy_file = os.path.join('experts', e)\n",
    "    policy_fn = load_policy.load_policy(expert_policy_file)\n",
    "    cloned_fn = lambda x: data[e]['cloned_behavior'].predict(x)\n",
    "\n",
    "    envname = e.split('.')[0]\n",
    "    max_timesteps = None\n",
    "    num_rollouts = 3\n",
    "    reward_expert, _ = execute_expert_policy(policy_fn, envname, max_timesteps, num_rollouts)\n",
    "    reward_cloned, _ = execute_cloned_policy(cloned_fn, envname, max_timesteps, num_rollouts)\n",
    "    data[e]['expert_stats'] = reward_expert\n",
    "    data[e]['cloned_stats'] = reward_cloned"
   ]
  },
  {
   "cell_type": "code",
   "execution_count": 7,
   "metadata": {
    "collapsed": false,
    "scrolled": true
   },
   "outputs": [
    {
     "name": "stdout",
     "output_type": "stream",
     "text": [
      "Reacher-v1.pkl\n",
      "Cloned mean: -9.0, std: 5.0\n",
      "Expert mean: -6.0, std: 1.0\n",
      "--------\n",
      "Walker2d-v1.pkl\n",
      "Cloned mean: 3419.0, std: 2215.0\n",
      "Expert mean: 5515.0, std: 62.0\n",
      "--------\n",
      "HalfCheetah-v1.pkl\n",
      "Cloned mean: 4028.0, std: 26.0\n",
      "Expert mean: 4090.0, std: 37.0\n",
      "--------\n",
      "Ant-v1.pkl\n",
      "Cloned mean: 4095.0, std: 908.0\n",
      "Expert mean: 4867.0, std: 80.0\n",
      "--------\n",
      "Humanoid-v1.pkl\n",
      "Cloned mean: 388.0, std: 86.0\n",
      "Expert mean: 10421.0, std: 36.0\n",
      "--------\n"
     ]
    }
   ],
   "source": [
    "# make some plots for each env\n",
    "\n",
    "for e in data:\n",
    "    print(e)\n",
    "    cloned = data[e]['cloned_stats']\n",
    "    expert = data[e]['expert_stats']\n",
    "    print('Cloned mean: {}, std: {}'.format(np.mean(cloned).round(), np.std(cloned).round()))\n",
    "    print('Expert mean: {}, std: {}'.format(np.mean(expert).round(), np.std(expert).round()))\n",
    "    print('--------')\n"
   ]
  },
  {
   "cell_type": "markdown",
   "metadata": {
    "collapsed": true
   },
   "source": [
    "# Dagger"
   ]
  },
  {
   "cell_type": "code",
   "execution_count": 8,
   "metadata": {
    "collapsed": false,
    "scrolled": true
   },
   "outputs": [
    {
     "name": "stdout",
     "output_type": "stream",
     "text": [
      "obs (1, 111) (1, 111)\n",
      "WARNING:tensorflow:From /Users/admin/Documents/CU_Courses/cs294_deeprl/homework/hw1/tf_util.py:91: all_variables (from tensorflow.python.ops.variables) is deprecated and will be removed after 2017-03-02.\n",
      "Instructions for updating:\n",
      "Please use tf.global_variables instead.\n"
     ]
    },
    {
     "name": "stderr",
     "output_type": "stream",
     "text": [
      "[2017-06-24 16:43:23,932] From /Users/admin/Documents/CU_Courses/cs294_deeprl/homework/hw1/tf_util.py:91: all_variables (from tensorflow.python.ops.variables) is deprecated and will be removed after 2017-03-02.\n",
      "Instructions for updating:\n",
      "Please use tf.global_variables instead.\n"
     ]
    },
    {
     "name": "stdout",
     "output_type": "stream",
     "text": [
      "WARNING:tensorflow:From /Users/admin/Documents/CU_Courses/cs294_deeprl/homework/hw1/tf_util.py:92: initialize_variables (from tensorflow.python.ops.variables) is deprecated and will be removed after 2017-03-02.\n",
      "Instructions for updating:\n",
      "Use `tf.variables_initializer` instead.\n"
     ]
    },
    {
     "name": "stderr",
     "output_type": "stream",
     "text": [
      "[2017-06-24 16:43:23,935] From /Users/admin/Documents/CU_Courses/cs294_deeprl/homework/hw1/tf_util.py:92: initialize_variables (from tensorflow.python.ops.variables) is deprecated and will be removed after 2017-03-02.\n",
      "Instructions for updating:\n",
      "Use `tf.variables_initializer` instead.\n",
      "[2017-06-24 16:43:25,947] Making new env: Ant-v1\n"
     ]
    },
    {
     "name": "stdout",
     "output_type": "stream",
     "text": [
      "rollout_num 0\n",
      "100/1000\n",
      "200/1000\n",
      "300/1000\n",
      "400/1000\n",
      "500/1000\n",
      "600/1000\n",
      "700/1000\n",
      "800/1000\n",
      "900/1000\n",
      "1000/1000\n",
      "rollout_num 1\n",
      "100/1000\n",
      "200/1000\n",
      "300/1000\n",
      "400/1000\n",
      "500/1000\n",
      "600/1000\n",
      "700/1000\n",
      "800/1000\n",
      "900/1000\n",
      "1000/1000\n",
      "rollout_num 2\n",
      "100/1000\n",
      "200/1000\n",
      "300/1000\n",
      "400/1000\n",
      "500/1000\n",
      "600/1000\n",
      "700/1000\n",
      "800/1000\n",
      "900/1000\n",
      "1000/1000\n",
      "Epoch 1/1\n",
      "3000/3000 [==============================] - 0s - loss: 0.1784     \n",
      "Epoch 1/1\n",
      "3000/3000 [==============================] - 0s - loss: 0.2501     "
     ]
    },
    {
     "name": "stderr",
     "output_type": "stream",
     "text": [
      "[2017-06-24 16:43:34,451] Making new env: Ant-v1\n"
     ]
    },
    {
     "name": "stdout",
     "output_type": "stream",
     "text": [
      "\n",
      "rollout_num 0\n",
      "100/1000\n",
      "rollout_num 1\n",
      "rollout_num 2\n"
     ]
    },
    {
     "name": "stderr",
     "output_type": "stream",
     "text": [
      "[2017-06-24 16:43:35,034] Making new env: Ant-v1\n"
     ]
    },
    {
     "name": "stdout",
     "output_type": "stream",
     "text": [
      "rollout_num 0\n",
      "rollout_num 1\n",
      "100/1000\n"
     ]
    },
    {
     "name": "stderr",
     "output_type": "stream",
     "text": [
      "[2017-06-24 16:43:35,576] Making new env: Ant-v1\n"
     ]
    },
    {
     "name": "stdout",
     "output_type": "stream",
     "text": [
      "200/1000\n",
      "rollout_num 0\n",
      "100/1000\n",
      "200/1000\n",
      "300/1000\n",
      "400/1000\n",
      "500/1000\n",
      "600/1000\n",
      "700/1000\n",
      "800/1000\n",
      "900/1000\n",
      "1000/1000\n",
      "rollout_num 1\n",
      "WARNING:tensorflow:From /Users/admin/Documents/CU_Courses/cs294_deeprl/homework/hw1/tf_util.py:91: all_variables (from tensorflow.python.ops.variables) is deprecated and will be removed after 2017-03-02.\n",
      "Instructions for updating:\n",
      "Please use tf.global_variables instead.\n"
     ]
    },
    {
     "name": "stderr",
     "output_type": "stream",
     "text": [
      "[2017-06-24 16:43:38,064] From /Users/admin/Documents/CU_Courses/cs294_deeprl/homework/hw1/tf_util.py:91: all_variables (from tensorflow.python.ops.variables) is deprecated and will be removed after 2017-03-02.\n",
      "Instructions for updating:\n",
      "Please use tf.global_variables instead.\n"
     ]
    },
    {
     "name": "stdout",
     "output_type": "stream",
     "text": [
      "WARNING:tensorflow:From /Users/admin/Documents/CU_Courses/cs294_deeprl/homework/hw1/tf_util.py:92: initialize_variables (from tensorflow.python.ops.variables) is deprecated and will be removed after 2017-03-02.\n",
      "Instructions for updating:\n",
      "Use `tf.variables_initializer` instead.\n"
     ]
    },
    {
     "name": "stderr",
     "output_type": "stream",
     "text": [
      "[2017-06-24 16:43:38,067] From /Users/admin/Documents/CU_Courses/cs294_deeprl/homework/hw1/tf_util.py:92: initialize_variables (from tensorflow.python.ops.variables) is deprecated and will be removed after 2017-03-02.\n",
      "Instructions for updating:\n",
      "Use `tf.variables_initializer` instead.\n",
      "[2017-06-24 16:43:40,472] Making new env: Ant-v1\n"
     ]
    },
    {
     "name": "stdout",
     "output_type": "stream",
     "text": [
      "rollout_num 0\n",
      "100/1000\n",
      "200/1000\n",
      "300/1000\n",
      "400/1000\n",
      "500/1000\n",
      "600/1000\n",
      "700/1000\n",
      "800/1000\n",
      "900/1000\n",
      "1000/1000\n",
      "rollout_num 1\n",
      "100/1000\n",
      "200/1000\n",
      "300/1000\n",
      "400/1000\n",
      "500/1000\n",
      "600/1000\n",
      "700/1000\n",
      "800/1000\n",
      "900/1000\n",
      "1000/1000\n",
      "WARNING:tensorflow:From /Users/admin/Documents/CU_Courses/cs294_deeprl/homework/hw1/tf_util.py:91: all_variables (from tensorflow.python.ops.variables) is deprecated and will be removed after 2017-03-02.\n",
      "Instructions for updating:\n",
      "Please use tf.global_variables instead.\n"
     ]
    },
    {
     "name": "stderr",
     "output_type": "stream",
     "text": [
      "[2017-06-24 16:43:44,365] From /Users/admin/Documents/CU_Courses/cs294_deeprl/homework/hw1/tf_util.py:91: all_variables (from tensorflow.python.ops.variables) is deprecated and will be removed after 2017-03-02.\n",
      "Instructions for updating:\n",
      "Please use tf.global_variables instead.\n"
     ]
    },
    {
     "name": "stdout",
     "output_type": "stream",
     "text": [
      "WARNING:tensorflow:From /Users/admin/Documents/CU_Courses/cs294_deeprl/homework/hw1/tf_util.py:92: initialize_variables (from tensorflow.python.ops.variables) is deprecated and will be removed after 2017-03-02.\n",
      "Instructions for updating:\n",
      "Use `tf.variables_initializer` instead.\n"
     ]
    },
    {
     "name": "stderr",
     "output_type": "stream",
     "text": [
      "[2017-06-24 16:43:44,368] From /Users/admin/Documents/CU_Courses/cs294_deeprl/homework/hw1/tf_util.py:92: initialize_variables (from tensorflow.python.ops.variables) is deprecated and will be removed after 2017-03-02.\n",
      "Instructions for updating:\n",
      "Use `tf.variables_initializer` instead.\n"
     ]
    },
    {
     "name": "stdout",
     "output_type": "stream",
     "text": [
      "WARNING:tensorflow:From /Users/admin/Documents/CU_Courses/cs294_deeprl/homework/hw1/tf_util.py:91: all_variables (from tensorflow.python.ops.variables) is deprecated and will be removed after 2017-03-02.\n",
      "Instructions for updating:\n",
      "Please use tf.global_variables instead.\n"
     ]
    },
    {
     "name": "stderr",
     "output_type": "stream",
     "text": [
      "[2017-06-24 16:43:46,829] From /Users/admin/Documents/CU_Courses/cs294_deeprl/homework/hw1/tf_util.py:91: all_variables (from tensorflow.python.ops.variables) is deprecated and will be removed after 2017-03-02.\n",
      "Instructions for updating:\n",
      "Please use tf.global_variables instead.\n"
     ]
    },
    {
     "name": "stdout",
     "output_type": "stream",
     "text": [
      "WARNING:tensorflow:From /Users/admin/Documents/CU_Courses/cs294_deeprl/homework/hw1/tf_util.py:92: initialize_variables (from tensorflow.python.ops.variables) is deprecated and will be removed after 2017-03-02.\n",
      "Instructions for updating:\n",
      "Use `tf.variables_initializer` instead.\n"
     ]
    },
    {
     "name": "stderr",
     "output_type": "stream",
     "text": [
      "[2017-06-24 16:43:46,832] From /Users/admin/Documents/CU_Courses/cs294_deeprl/homework/hw1/tf_util.py:92: initialize_variables (from tensorflow.python.ops.variables) is deprecated and will be removed after 2017-03-02.\n",
      "Instructions for updating:\n",
      "Use `tf.variables_initializer` instead.\n",
      "[2017-06-24 16:43:49,250] Making new env: Ant-v1\n"
     ]
    },
    {
     "name": "stdout",
     "output_type": "stream",
     "text": [
      "rollout_num 0\n",
      "100/208\n",
      "200/208\n",
      "rollout_num 1\n",
      "100/208\n",
      "200/208\n",
      "rollout_num 2\n",
      "100/208\n",
      "200/208\n",
      "Epoch 1/1\n",
      "624/624 [==============================] - 0s - loss: 0.0677     \n",
      "Epoch 1/1\n",
      "208/208 [==============================] - 0s - loss: 0.5947     "
     ]
    },
    {
     "name": "stderr",
     "output_type": "stream",
     "text": [
      "[2017-06-24 16:43:50,675] Making new env: Ant-v1\n"
     ]
    },
    {
     "name": "stdout",
     "output_type": "stream",
     "text": [
      "\n",
      "rollout_num 0\n",
      "rollout_num 1\n",
      "rollout_num 2\n"
     ]
    },
    {
     "name": "stderr",
     "output_type": "stream",
     "text": [
      "[2017-06-24 16:43:50,905] Making new env: Ant-v1\n"
     ]
    },
    {
     "name": "stdout",
     "output_type": "stream",
     "text": [
      "rollout_num 0\n",
      "rollout_num 1\n"
     ]
    },
    {
     "name": "stderr",
     "output_type": "stream",
     "text": [
      "[2017-06-24 16:43:51,439] Making new env: Ant-v1\n"
     ]
    },
    {
     "name": "stdout",
     "output_type": "stream",
     "text": [
      "100/1000\n",
      "rollout_num 0\n",
      "100/1000\n",
      "200/1000\n",
      "300/1000\n",
      "400/1000\n",
      "500/1000\n",
      "600/1000\n",
      "700/1000\n",
      "800/1000\n",
      "900/1000\n",
      "1000/1000\n",
      "rollout_num 1\n",
      "100/1000\n",
      "WARNING:tensorflow:From /Users/admin/Documents/CU_Courses/cs294_deeprl/homework/hw1/tf_util.py:91: all_variables (from tensorflow.python.ops.variables) is deprecated and will be removed after 2017-03-02.\n",
      "Instructions for updating:\n",
      "Please use tf.global_variables instead.\n"
     ]
    },
    {
     "name": "stderr",
     "output_type": "stream",
     "text": [
      "[2017-06-24 16:43:54,135] From /Users/admin/Documents/CU_Courses/cs294_deeprl/homework/hw1/tf_util.py:91: all_variables (from tensorflow.python.ops.variables) is deprecated and will be removed after 2017-03-02.\n",
      "Instructions for updating:\n",
      "Please use tf.global_variables instead.\n"
     ]
    },
    {
     "name": "stdout",
     "output_type": "stream",
     "text": [
      "WARNING:tensorflow:From /Users/admin/Documents/CU_Courses/cs294_deeprl/homework/hw1/tf_util.py:92: initialize_variables (from tensorflow.python.ops.variables) is deprecated and will be removed after 2017-03-02.\n",
      "Instructions for updating:\n",
      "Use `tf.variables_initializer` instead.\n"
     ]
    },
    {
     "name": "stderr",
     "output_type": "stream",
     "text": [
      "[2017-06-24 16:43:54,138] From /Users/admin/Documents/CU_Courses/cs294_deeprl/homework/hw1/tf_util.py:92: initialize_variables (from tensorflow.python.ops.variables) is deprecated and will be removed after 2017-03-02.\n",
      "Instructions for updating:\n",
      "Use `tf.variables_initializer` instead.\n",
      "[2017-06-24 16:43:56,320] Making new env: Ant-v1\n"
     ]
    },
    {
     "name": "stdout",
     "output_type": "stream",
     "text": [
      "rollout_num 0\n",
      "100/1000\n",
      "200/1000\n",
      "300/1000\n",
      "400/1000\n",
      "500/1000\n",
      "600/1000\n",
      "700/1000\n",
      "800/1000\n",
      "900/1000\n",
      "1000/1000\n",
      "rollout_num 1\n",
      "100/1000\n",
      "200/1000\n",
      "300/1000\n",
      "400/1000\n",
      "500/1000\n",
      "600/1000\n",
      "700/1000\n",
      "800/1000\n",
      "900/1000\n",
      "1000/1000\n",
      "WARNING:tensorflow:From /Users/admin/Documents/CU_Courses/cs294_deeprl/homework/hw1/tf_util.py:91: all_variables (from tensorflow.python.ops.variables) is deprecated and will be removed after 2017-03-02.\n",
      "Instructions for updating:\n",
      "Please use tf.global_variables instead.\n"
     ]
    },
    {
     "name": "stderr",
     "output_type": "stream",
     "text": [
      "[2017-06-24 16:44:00,193] From /Users/admin/Documents/CU_Courses/cs294_deeprl/homework/hw1/tf_util.py:91: all_variables (from tensorflow.python.ops.variables) is deprecated and will be removed after 2017-03-02.\n",
      "Instructions for updating:\n",
      "Please use tf.global_variables instead.\n"
     ]
    },
    {
     "name": "stdout",
     "output_type": "stream",
     "text": [
      "WARNING:tensorflow:From /Users/admin/Documents/CU_Courses/cs294_deeprl/homework/hw1/tf_util.py:92: initialize_variables (from tensorflow.python.ops.variables) is deprecated and will be removed after 2017-03-02.\n",
      "Instructions for updating:\n",
      "Use `tf.variables_initializer` instead.\n"
     ]
    },
    {
     "name": "stderr",
     "output_type": "stream",
     "text": [
      "[2017-06-24 16:44:00,196] From /Users/admin/Documents/CU_Courses/cs294_deeprl/homework/hw1/tf_util.py:92: initialize_variables (from tensorflow.python.ops.variables) is deprecated and will be removed after 2017-03-02.\n",
      "Instructions for updating:\n",
      "Use `tf.variables_initializer` instead.\n"
     ]
    },
    {
     "name": "stdout",
     "output_type": "stream",
     "text": [
      "WARNING:tensorflow:From /Users/admin/Documents/CU_Courses/cs294_deeprl/homework/hw1/tf_util.py:91: all_variables (from tensorflow.python.ops.variables) is deprecated and will be removed after 2017-03-02.\n",
      "Instructions for updating:\n",
      "Please use tf.global_variables instead.\n"
     ]
    },
    {
     "name": "stderr",
     "output_type": "stream",
     "text": [
      "[2017-06-24 16:44:02,654] From /Users/admin/Documents/CU_Courses/cs294_deeprl/homework/hw1/tf_util.py:91: all_variables (from tensorflow.python.ops.variables) is deprecated and will be removed after 2017-03-02.\n",
      "Instructions for updating:\n",
      "Please use tf.global_variables instead.\n"
     ]
    },
    {
     "name": "stdout",
     "output_type": "stream",
     "text": [
      "WARNING:tensorflow:From /Users/admin/Documents/CU_Courses/cs294_deeprl/homework/hw1/tf_util.py:92: initialize_variables (from tensorflow.python.ops.variables) is deprecated and will be removed after 2017-03-02.\n",
      "Instructions for updating:\n",
      "Use `tf.variables_initializer` instead.\n"
     ]
    },
    {
     "name": "stderr",
     "output_type": "stream",
     "text": [
      "[2017-06-24 16:44:02,658] From /Users/admin/Documents/CU_Courses/cs294_deeprl/homework/hw1/tf_util.py:92: initialize_variables (from tensorflow.python.ops.variables) is deprecated and will be removed after 2017-03-02.\n",
      "Instructions for updating:\n",
      "Use `tf.variables_initializer` instead.\n",
      "[2017-06-24 16:44:05,078] Making new env: Ant-v1\n"
     ]
    },
    {
     "name": "stdout",
     "output_type": "stream",
     "text": [
      "rollout_num 0\n",
      "rollout_num 1\n",
      "rollout_num 2\n",
      "Epoch 1/1\n",
      "273/273 [==============================] - 0s - loss: 0.0615     \n",
      "Epoch 1/1\n",
      "91/91 [==============================] - 0s - loss: 0.4371     "
     ]
    },
    {
     "name": "stderr",
     "output_type": "stream",
     "text": [
      "[2017-06-24 16:44:05,806] Making new env: Ant-v1\n"
     ]
    },
    {
     "name": "stdout",
     "output_type": "stream",
     "text": [
      "\n",
      "rollout_num 0\n",
      "100/1000\n",
      "200/1000\n",
      "300/1000\n",
      "400/1000\n",
      "rollout_num 1\n",
      "100/1000\n",
      "200/1000\n",
      "300/1000\n",
      "rollout_num 2\n"
     ]
    },
    {
     "name": "stderr",
     "output_type": "stream",
     "text": [
      "[2017-06-24 16:44:07,717] Making new env: Ant-v1\n"
     ]
    },
    {
     "name": "stdout",
     "output_type": "stream",
     "text": [
      "rollout_num 0\n",
      "100/1000\n",
      "200/1000\n",
      "300/1000\n",
      "400/1000\n",
      "rollout_num 1\n",
      "100/1000\n"
     ]
    },
    {
     "name": "stderr",
     "output_type": "stream",
     "text": [
      "[2017-06-24 16:44:09,326] Making new env: Ant-v1\n"
     ]
    },
    {
     "name": "stdout",
     "output_type": "stream",
     "text": [
      "200/1000\n",
      "rollout_num 0\n",
      "rollout_num 1\n",
      "WARNING:tensorflow:From /Users/admin/Documents/CU_Courses/cs294_deeprl/homework/hw1/tf_util.py:91: all_variables (from tensorflow.python.ops.variables) is deprecated and will be removed after 2017-03-02.\n",
      "Instructions for updating:\n",
      "Please use tf.global_variables instead.\n"
     ]
    },
    {
     "name": "stderr",
     "output_type": "stream",
     "text": [
      "[2017-06-24 16:44:09,617] From /Users/admin/Documents/CU_Courses/cs294_deeprl/homework/hw1/tf_util.py:91: all_variables (from tensorflow.python.ops.variables) is deprecated and will be removed after 2017-03-02.\n",
      "Instructions for updating:\n",
      "Please use tf.global_variables instead.\n"
     ]
    },
    {
     "name": "stdout",
     "output_type": "stream",
     "text": [
      "WARNING:tensorflow:From /Users/admin/Documents/CU_Courses/cs294_deeprl/homework/hw1/tf_util.py:92: initialize_variables (from tensorflow.python.ops.variables) is deprecated and will be removed after 2017-03-02.\n",
      "Instructions for updating:\n",
      "Use `tf.variables_initializer` instead.\n"
     ]
    },
    {
     "name": "stderr",
     "output_type": "stream",
     "text": [
      "[2017-06-24 16:44:09,620] From /Users/admin/Documents/CU_Courses/cs294_deeprl/homework/hw1/tf_util.py:92: initialize_variables (from tensorflow.python.ops.variables) is deprecated and will be removed after 2017-03-02.\n",
      "Instructions for updating:\n",
      "Use `tf.variables_initializer` instead.\n",
      "[2017-06-24 16:44:11,792] Making new env: Ant-v1\n"
     ]
    },
    {
     "name": "stdout",
     "output_type": "stream",
     "text": [
      "rollout_num 0\n",
      "100/1000\n",
      "200/1000\n",
      "300/1000\n",
      "400/1000\n",
      "500/1000\n",
      "600/1000\n",
      "700/1000\n",
      "800/1000\n",
      "900/1000\n",
      "1000/1000\n",
      "rollout_num 1\n",
      "100/1000\n",
      "200/1000\n",
      "300/1000\n",
      "400/1000\n",
      "500/1000\n",
      "600/1000\n",
      "700/1000\n",
      "800/1000\n",
      "900/1000\n",
      "1000/1000\n",
      "WARNING:tensorflow:From /Users/admin/Documents/CU_Courses/cs294_deeprl/homework/hw1/tf_util.py:91: all_variables (from tensorflow.python.ops.variables) is deprecated and will be removed after 2017-03-02.\n",
      "Instructions for updating:\n",
      "Please use tf.global_variables instead.\n"
     ]
    },
    {
     "name": "stderr",
     "output_type": "stream",
     "text": [
      "[2017-06-24 16:44:15,673] From /Users/admin/Documents/CU_Courses/cs294_deeprl/homework/hw1/tf_util.py:91: all_variables (from tensorflow.python.ops.variables) is deprecated and will be removed after 2017-03-02.\n",
      "Instructions for updating:\n",
      "Please use tf.global_variables instead.\n"
     ]
    },
    {
     "name": "stdout",
     "output_type": "stream",
     "text": [
      "WARNING:tensorflow:From /Users/admin/Documents/CU_Courses/cs294_deeprl/homework/hw1/tf_util.py:92: initialize_variables (from tensorflow.python.ops.variables) is deprecated and will be removed after 2017-03-02.\n",
      "Instructions for updating:\n",
      "Use `tf.variables_initializer` instead.\n"
     ]
    },
    {
     "name": "stderr",
     "output_type": "stream",
     "text": [
      "[2017-06-24 16:44:15,676] From /Users/admin/Documents/CU_Courses/cs294_deeprl/homework/hw1/tf_util.py:92: initialize_variables (from tensorflow.python.ops.variables) is deprecated and will be removed after 2017-03-02.\n",
      "Instructions for updating:\n",
      "Use `tf.variables_initializer` instead.\n"
     ]
    },
    {
     "name": "stdout",
     "output_type": "stream",
     "text": [
      "WARNING:tensorflow:From /Users/admin/Documents/CU_Courses/cs294_deeprl/homework/hw1/tf_util.py:91: all_variables (from tensorflow.python.ops.variables) is deprecated and will be removed after 2017-03-02.\n",
      "Instructions for updating:\n",
      "Please use tf.global_variables instead.\n"
     ]
    },
    {
     "name": "stderr",
     "output_type": "stream",
     "text": [
      "[2017-06-24 16:44:18,129] From /Users/admin/Documents/CU_Courses/cs294_deeprl/homework/hw1/tf_util.py:91: all_variables (from tensorflow.python.ops.variables) is deprecated and will be removed after 2017-03-02.\n",
      "Instructions for updating:\n",
      "Please use tf.global_variables instead.\n"
     ]
    },
    {
     "name": "stdout",
     "output_type": "stream",
     "text": [
      "WARNING:tensorflow:From /Users/admin/Documents/CU_Courses/cs294_deeprl/homework/hw1/tf_util.py:92: initialize_variables (from tensorflow.python.ops.variables) is deprecated and will be removed after 2017-03-02.\n",
      "Instructions for updating:\n",
      "Use `tf.variables_initializer` instead.\n"
     ]
    },
    {
     "name": "stderr",
     "output_type": "stream",
     "text": [
      "[2017-06-24 16:44:18,132] From /Users/admin/Documents/CU_Courses/cs294_deeprl/homework/hw1/tf_util.py:92: initialize_variables (from tensorflow.python.ops.variables) is deprecated and will be removed after 2017-03-02.\n",
      "Instructions for updating:\n",
      "Use `tf.variables_initializer` instead.\n",
      "[2017-06-24 16:44:20,531] Making new env: Ant-v1\n"
     ]
    },
    {
     "name": "stdout",
     "output_type": "stream",
     "text": [
      "rollout_num 0\n",
      "100/890\n",
      "rollout_num 1\n",
      "100/890\n",
      "200/890\n",
      "300/890\n",
      "400/890\n",
      "500/890\n",
      "600/890\n",
      "700/890\n",
      "800/890\n",
      "rollout_num 2\n",
      "100/890\n",
      "200/890\n",
      "300/890\n",
      "400/890\n",
      "500/890\n",
      "600/890\n",
      "700/890\n",
      "800/890\n",
      "Epoch 1/1\n",
      "1918/1918 [==============================] - 0s - loss: 0.0463     \n",
      "Epoch 1/1\n",
      "890/890 [==============================] - 0s - loss: 0.2996     "
     ]
    },
    {
     "name": "stderr",
     "output_type": "stream",
     "text": [
      "[2017-06-24 16:44:24,609] Making new env: Ant-v1\n"
     ]
    },
    {
     "name": "stdout",
     "output_type": "stream",
     "text": [
      "\n",
      "rollout_num 0\n",
      "100/1000\n",
      "200/1000\n",
      "300/1000\n",
      "400/1000\n",
      "500/1000\n",
      "600/1000\n",
      "700/1000\n",
      "800/1000\n",
      "900/1000\n",
      "1000/1000\n",
      "rollout_num 1\n",
      "100/1000\n",
      "200/1000\n",
      "300/1000\n",
      "400/1000\n",
      "500/1000\n",
      "600/1000\n",
      "700/1000\n",
      "800/1000\n",
      "900/1000\n",
      "1000/1000\n",
      "rollout_num 2\n",
      "100/1000\n",
      "200/1000\n",
      "300/1000\n",
      "400/1000\n",
      "500/1000\n",
      "600/1000\n",
      "700/1000\n",
      "800/1000\n",
      "900/1000\n"
     ]
    },
    {
     "name": "stderr",
     "output_type": "stream",
     "text": [
      "[2017-06-24 16:44:31,731] Making new env: Ant-v1\n"
     ]
    },
    {
     "name": "stdout",
     "output_type": "stream",
     "text": [
      "1000/1000\n",
      "rollout_num 0\n",
      "100/1000\n",
      "200/1000\n",
      "300/1000\n",
      "400/1000\n",
      "500/1000\n",
      "600/1000\n",
      "700/1000\n",
      "800/1000\n",
      "900/1000\n",
      "1000/1000\n",
      "rollout_num 1\n",
      "100/1000\n",
      "200/1000\n",
      "300/1000\n",
      "400/1000\n",
      "500/1000\n",
      "600/1000\n",
      "700/1000\n",
      "800/1000\n",
      "900/1000\n"
     ]
    },
    {
     "name": "stderr",
     "output_type": "stream",
     "text": [
      "[2017-06-24 16:44:37,954] Making new env: Ant-v1\n"
     ]
    },
    {
     "name": "stdout",
     "output_type": "stream",
     "text": [
      "1000/1000\n",
      "rollout_num 0\n",
      "rollout_num 1\n",
      "100/1000\n",
      "200/1000\n",
      "300/1000\n",
      "400/1000\n",
      "500/1000\n",
      "600/1000\n",
      "700/1000\n",
      "800/1000\n",
      "900/1000\n",
      "1000/1000\n",
      "WARNING:tensorflow:From /Users/admin/Documents/CU_Courses/cs294_deeprl/homework/hw1/tf_util.py:91: all_variables (from tensorflow.python.ops.variables) is deprecated and will be removed after 2017-03-02.\n",
      "Instructions for updating:\n",
      "Please use tf.global_variables instead.\n"
     ]
    },
    {
     "name": "stderr",
     "output_type": "stream",
     "text": [
      "[2017-06-24 16:44:41,622] From /Users/admin/Documents/CU_Courses/cs294_deeprl/homework/hw1/tf_util.py:91: all_variables (from tensorflow.python.ops.variables) is deprecated and will be removed after 2017-03-02.\n",
      "Instructions for updating:\n",
      "Please use tf.global_variables instead.\n"
     ]
    },
    {
     "name": "stdout",
     "output_type": "stream",
     "text": [
      "WARNING:tensorflow:From /Users/admin/Documents/CU_Courses/cs294_deeprl/homework/hw1/tf_util.py:92: initialize_variables (from tensorflow.python.ops.variables) is deprecated and will be removed after 2017-03-02.\n",
      "Instructions for updating:\n",
      "Use `tf.variables_initializer` instead.\n"
     ]
    },
    {
     "name": "stderr",
     "output_type": "stream",
     "text": [
      "[2017-06-24 16:44:41,629] From /Users/admin/Documents/CU_Courses/cs294_deeprl/homework/hw1/tf_util.py:92: initialize_variables (from tensorflow.python.ops.variables) is deprecated and will be removed after 2017-03-02.\n",
      "Instructions for updating:\n",
      "Use `tf.variables_initializer` instead.\n",
      "[2017-06-24 16:44:44,557] Making new env: Ant-v1\n"
     ]
    },
    {
     "name": "stdout",
     "output_type": "stream",
     "text": [
      "rollout_num 0\n",
      "100/1000\n",
      "200/1000\n",
      "300/1000\n",
      "400/1000\n",
      "500/1000\n",
      "600/1000\n",
      "700/1000\n",
      "800/1000\n",
      "900/1000\n",
      "1000/1000\n",
      "rollout_num 1\n",
      "100/1000\n",
      "200/1000\n",
      "300/1000\n",
      "400/1000\n",
      "500/1000\n",
      "600/1000\n",
      "700/1000\n",
      "800/1000\n",
      "900/1000\n",
      "1000/1000\n",
      "WARNING:tensorflow:From /Users/admin/Documents/CU_Courses/cs294_deeprl/homework/hw1/tf_util.py:91: all_variables (from tensorflow.python.ops.variables) is deprecated and will be removed after 2017-03-02.\n",
      "Instructions for updating:\n",
      "Please use tf.global_variables instead.\n"
     ]
    },
    {
     "name": "stderr",
     "output_type": "stream",
     "text": [
      "[2017-06-24 16:44:50,442] From /Users/admin/Documents/CU_Courses/cs294_deeprl/homework/hw1/tf_util.py:91: all_variables (from tensorflow.python.ops.variables) is deprecated and will be removed after 2017-03-02.\n",
      "Instructions for updating:\n",
      "Please use tf.global_variables instead.\n"
     ]
    },
    {
     "name": "stdout",
     "output_type": "stream",
     "text": [
      "WARNING:tensorflow:From /Users/admin/Documents/CU_Courses/cs294_deeprl/homework/hw1/tf_util.py:92: initialize_variables (from tensorflow.python.ops.variables) is deprecated and will be removed after 2017-03-02.\n",
      "Instructions for updating:\n",
      "Use `tf.variables_initializer` instead.\n"
     ]
    },
    {
     "name": "stderr",
     "output_type": "stream",
     "text": [
      "[2017-06-24 16:44:50,449] From /Users/admin/Documents/CU_Courses/cs294_deeprl/homework/hw1/tf_util.py:92: initialize_variables (from tensorflow.python.ops.variables) is deprecated and will be removed after 2017-03-02.\n",
      "Instructions for updating:\n",
      "Use `tf.variables_initializer` instead.\n"
     ]
    },
    {
     "name": "stdout",
     "output_type": "stream",
     "text": [
      "WARNING:tensorflow:From /Users/admin/Documents/CU_Courses/cs294_deeprl/homework/hw1/tf_util.py:91: all_variables (from tensorflow.python.ops.variables) is deprecated and will be removed after 2017-03-02.\n",
      "Instructions for updating:\n",
      "Please use tf.global_variables instead.\n"
     ]
    },
    {
     "name": "stderr",
     "output_type": "stream",
     "text": [
      "[2017-06-24 16:44:53,683] From /Users/admin/Documents/CU_Courses/cs294_deeprl/homework/hw1/tf_util.py:91: all_variables (from tensorflow.python.ops.variables) is deprecated and will be removed after 2017-03-02.\n",
      "Instructions for updating:\n",
      "Please use tf.global_variables instead.\n"
     ]
    },
    {
     "name": "stdout",
     "output_type": "stream",
     "text": [
      "WARNING:tensorflow:From /Users/admin/Documents/CU_Courses/cs294_deeprl/homework/hw1/tf_util.py:92: initialize_variables (from tensorflow.python.ops.variables) is deprecated and will be removed after 2017-03-02.\n",
      "Instructions for updating:\n",
      "Use `tf.variables_initializer` instead.\n"
     ]
    },
    {
     "name": "stderr",
     "output_type": "stream",
     "text": [
      "[2017-06-24 16:44:53,689] From /Users/admin/Documents/CU_Courses/cs294_deeprl/homework/hw1/tf_util.py:92: initialize_variables (from tensorflow.python.ops.variables) is deprecated and will be removed after 2017-03-02.\n",
      "Instructions for updating:\n",
      "Use `tf.variables_initializer` instead.\n",
      "[2017-06-24 16:44:56,895] Making new env: Ant-v1\n"
     ]
    },
    {
     "name": "stdout",
     "output_type": "stream",
     "text": [
      "rollout_num 0\n",
      "100/3000\n",
      "200/3000\n",
      "300/3000\n",
      "400/3000\n",
      "500/3000\n",
      "600/3000\n",
      "700/3000\n",
      "800/3000\n",
      "900/3000\n",
      "1000/3000\n",
      "rollout_num 1\n",
      "100/3000\n",
      "200/3000\n",
      "300/3000\n",
      "400/3000\n",
      "500/3000\n",
      "600/3000\n",
      "700/3000\n",
      "800/3000\n",
      "900/3000\n",
      "1000/3000\n",
      "rollout_num 2\n",
      "100/3000\n",
      "200/3000\n",
      "300/3000\n",
      "400/3000\n",
      "500/3000\n",
      "600/3000\n",
      "700/3000\n",
      "800/3000\n",
      "900/3000\n",
      "1000/3000\n",
      "Epoch 1/1\n",
      "3000/3000 [==============================] - 0s - loss: 0.0330     \n",
      "Epoch 1/1\n",
      "3000/3000 [==============================] - 0s - loss: 0.1102     "
     ]
    },
    {
     "name": "stderr",
     "output_type": "stream",
     "text": [
      "[2017-06-24 16:45:06,531] Making new env: Ant-v1\n"
     ]
    },
    {
     "name": "stdout",
     "output_type": "stream",
     "text": [
      "\n",
      "rollout_num 0\n",
      "100/1000\n",
      "200/1000\n",
      "300/1000\n",
      "400/1000\n",
      "500/1000\n",
      "600/1000\n",
      "700/1000\n",
      "800/1000\n",
      "900/1000\n",
      "1000/1000\n",
      "rollout_num 1\n",
      "100/1000\n",
      "200/1000\n",
      "300/1000\n",
      "400/1000\n",
      "500/1000\n",
      "600/1000\n",
      "700/1000\n",
      "800/1000\n",
      "900/1000\n",
      "1000/1000\n",
      "rollout_num 2\n",
      "100/1000\n",
      "200/1000\n",
      "300/1000\n",
      "400/1000\n",
      "500/1000\n",
      "600/1000\n",
      "700/1000\n",
      "800/1000\n",
      "900/1000\n"
     ]
    },
    {
     "name": "stderr",
     "output_type": "stream",
     "text": [
      "[2017-06-24 16:45:13,733] Making new env: Ant-v1\n"
     ]
    },
    {
     "name": "stdout",
     "output_type": "stream",
     "text": [
      "1000/1000\n",
      "rollout_num 0\n",
      "100/1000\n",
      "200/1000\n",
      "300/1000\n",
      "400/1000\n",
      "500/1000\n",
      "600/1000\n",
      "700/1000\n",
      "800/1000\n",
      "900/1000\n",
      "1000/1000\n",
      "rollout_num 1\n",
      "100/1000\n",
      "200/1000\n",
      "300/1000\n",
      "400/1000\n",
      "500/1000\n",
      "600/1000\n",
      "700/1000\n",
      "800/1000\n",
      "900/1000\n"
     ]
    },
    {
     "name": "stderr",
     "output_type": "stream",
     "text": [
      "[2017-06-24 16:45:18,435] Making new env: Ant-v1\n"
     ]
    },
    {
     "name": "stdout",
     "output_type": "stream",
     "text": [
      "1000/1000\n",
      "rollout_num 0\n",
      "100/1000\n",
      "rollout_num 1\n",
      "100/1000\n",
      "200/1000\n",
      "300/1000\n",
      "WARNING:tensorflow:From /Users/admin/Documents/CU_Courses/cs294_deeprl/homework/hw1/tf_util.py:91: all_variables (from tensorflow.python.ops.variables) is deprecated and will be removed after 2017-03-02.\n",
      "Instructions for updating:\n",
      "Please use tf.global_variables instead.\n"
     ]
    },
    {
     "name": "stderr",
     "output_type": "stream",
     "text": [
      "[2017-06-24 16:45:19,458] From /Users/admin/Documents/CU_Courses/cs294_deeprl/homework/hw1/tf_util.py:91: all_variables (from tensorflow.python.ops.variables) is deprecated and will be removed after 2017-03-02.\n",
      "Instructions for updating:\n",
      "Please use tf.global_variables instead.\n"
     ]
    },
    {
     "name": "stdout",
     "output_type": "stream",
     "text": [
      "WARNING:tensorflow:From /Users/admin/Documents/CU_Courses/cs294_deeprl/homework/hw1/tf_util.py:92: initialize_variables (from tensorflow.python.ops.variables) is deprecated and will be removed after 2017-03-02.\n",
      "Instructions for updating:\n",
      "Use `tf.variables_initializer` instead.\n"
     ]
    },
    {
     "name": "stderr",
     "output_type": "stream",
     "text": [
      "[2017-06-24 16:45:19,463] From /Users/admin/Documents/CU_Courses/cs294_deeprl/homework/hw1/tf_util.py:92: initialize_variables (from tensorflow.python.ops.variables) is deprecated and will be removed after 2017-03-02.\n",
      "Instructions for updating:\n",
      "Use `tf.variables_initializer` instead.\n",
      "[2017-06-24 16:45:21,676] Making new env: Ant-v1\n"
     ]
    },
    {
     "name": "stdout",
     "output_type": "stream",
     "text": [
      "rollout_num 0\n",
      "100/1000\n",
      "200/1000\n",
      "300/1000\n",
      "400/1000\n",
      "500/1000\n",
      "600/1000\n",
      "700/1000\n",
      "800/1000\n",
      "900/1000\n",
      "1000/1000\n",
      "rollout_num 1\n",
      "100/1000\n",
      "200/1000\n",
      "300/1000\n",
      "400/1000\n",
      "500/1000\n",
      "600/1000\n",
      "700/1000\n",
      "800/1000\n",
      "900/1000\n",
      "1000/1000\n",
      "WARNING:tensorflow:From /Users/admin/Documents/CU_Courses/cs294_deeprl/homework/hw1/tf_util.py:91: all_variables (from tensorflow.python.ops.variables) is deprecated and will be removed after 2017-03-02.\n",
      "Instructions for updating:\n",
      "Please use tf.global_variables instead.\n"
     ]
    },
    {
     "name": "stderr",
     "output_type": "stream",
     "text": [
      "[2017-06-24 16:45:25,735] From /Users/admin/Documents/CU_Courses/cs294_deeprl/homework/hw1/tf_util.py:91: all_variables (from tensorflow.python.ops.variables) is deprecated and will be removed after 2017-03-02.\n",
      "Instructions for updating:\n",
      "Please use tf.global_variables instead.\n"
     ]
    },
    {
     "name": "stdout",
     "output_type": "stream",
     "text": [
      "WARNING:tensorflow:From /Users/admin/Documents/CU_Courses/cs294_deeprl/homework/hw1/tf_util.py:92: initialize_variables (from tensorflow.python.ops.variables) is deprecated and will be removed after 2017-03-02.\n",
      "Instructions for updating:\n",
      "Use `tf.variables_initializer` instead.\n"
     ]
    },
    {
     "name": "stderr",
     "output_type": "stream",
     "text": [
      "[2017-06-24 16:45:25,738] From /Users/admin/Documents/CU_Courses/cs294_deeprl/homework/hw1/tf_util.py:92: initialize_variables (from tensorflow.python.ops.variables) is deprecated and will be removed after 2017-03-02.\n",
      "Instructions for updating:\n",
      "Use `tf.variables_initializer` instead.\n"
     ]
    },
    {
     "name": "stdout",
     "output_type": "stream",
     "text": [
      "WARNING:tensorflow:From /Users/admin/Documents/CU_Courses/cs294_deeprl/homework/hw1/tf_util.py:91: all_variables (from tensorflow.python.ops.variables) is deprecated and will be removed after 2017-03-02.\n",
      "Instructions for updating:\n",
      "Please use tf.global_variables instead.\n"
     ]
    },
    {
     "name": "stderr",
     "output_type": "stream",
     "text": [
      "[2017-06-24 16:45:28,247] From /Users/admin/Documents/CU_Courses/cs294_deeprl/homework/hw1/tf_util.py:91: all_variables (from tensorflow.python.ops.variables) is deprecated and will be removed after 2017-03-02.\n",
      "Instructions for updating:\n",
      "Please use tf.global_variables instead.\n"
     ]
    },
    {
     "name": "stdout",
     "output_type": "stream",
     "text": [
      "WARNING:tensorflow:From /Users/admin/Documents/CU_Courses/cs294_deeprl/homework/hw1/tf_util.py:92: initialize_variables (from tensorflow.python.ops.variables) is deprecated and will be removed after 2017-03-02.\n",
      "Instructions for updating:\n",
      "Use `tf.variables_initializer` instead.\n"
     ]
    },
    {
     "name": "stderr",
     "output_type": "stream",
     "text": [
      "[2017-06-24 16:45:28,250] From /Users/admin/Documents/CU_Courses/cs294_deeprl/homework/hw1/tf_util.py:92: initialize_variables (from tensorflow.python.ops.variables) is deprecated and will be removed after 2017-03-02.\n",
      "Instructions for updating:\n",
      "Use `tf.variables_initializer` instead.\n",
      "[2017-06-24 16:45:30,685] Making new env: Ant-v1\n"
     ]
    },
    {
     "name": "stdout",
     "output_type": "stream",
     "text": [
      "rollout_num 0\n",
      "100/3000\n",
      "200/3000\n",
      "300/3000\n",
      "400/3000\n",
      "500/3000\n",
      "600/3000\n",
      "700/3000\n",
      "800/3000\n",
      "900/3000\n",
      "1000/3000\n",
      "rollout_num 1\n",
      "100/3000\n",
      "200/3000\n",
      "300/3000\n",
      "400/3000\n",
      "500/3000\n",
      "600/3000\n",
      "700/3000\n",
      "800/3000\n",
      "900/3000\n",
      "1000/3000\n",
      "rollout_num 2\n",
      "100/3000\n",
      "200/3000\n",
      "300/3000\n",
      "400/3000\n",
      "500/3000\n",
      "600/3000\n",
      "700/3000\n",
      "800/3000\n",
      "900/3000\n",
      "1000/3000\n",
      "Epoch 1/1\n",
      "3000/3000 [==============================] - 0s - loss: 0.0258     \n",
      "Epoch 1/1\n",
      "3000/3000 [==============================] - 0s - loss: 0.1074     \n"
     ]
    },
    {
     "name": "stderr",
     "output_type": "stream",
     "text": [
      "[2017-06-24 16:45:37,720] Making new env: Ant-v1\n"
     ]
    },
    {
     "name": "stdout",
     "output_type": "stream",
     "text": [
      "rollout_num 0\n",
      "100/1000\n",
      "200/1000\n",
      "300/1000\n",
      "400/1000\n",
      "500/1000\n",
      "600/1000\n",
      "700/1000\n",
      "800/1000\n",
      "900/1000\n",
      "1000/1000\n",
      "rollout_num 1\n",
      "100/1000\n",
      "200/1000\n",
      "300/1000\n",
      "400/1000\n",
      "500/1000\n",
      "600/1000\n",
      "700/1000\n",
      "800/1000\n",
      "900/1000\n",
      "1000/1000\n",
      "rollout_num 2\n",
      "100/1000\n",
      "200/1000\n",
      "300/1000\n",
      "400/1000\n",
      "500/1000\n",
      "600/1000\n",
      "700/1000\n",
      "800/1000\n",
      "900/1000\n"
     ]
    },
    {
     "name": "stderr",
     "output_type": "stream",
     "text": [
      "[2017-06-24 16:45:48,464] Making new env: Ant-v1\n"
     ]
    },
    {
     "name": "stdout",
     "output_type": "stream",
     "text": [
      "1000/1000\n",
      "rollout_num 0\n",
      "100/1000\n",
      "200/1000\n",
      "300/1000\n",
      "400/1000\n",
      "500/1000\n",
      "600/1000\n",
      "700/1000\n",
      "800/1000\n",
      "900/1000\n",
      "1000/1000\n",
      "rollout_num 1\n",
      "100/1000\n",
      "200/1000\n",
      "300/1000\n",
      "400/1000\n",
      "500/1000\n",
      "600/1000\n",
      "700/1000\n",
      "800/1000\n",
      "900/1000\n"
     ]
    },
    {
     "name": "stderr",
     "output_type": "stream",
     "text": [
      "[2017-06-24 16:45:55,662] Making new env: Ant-v1\n"
     ]
    },
    {
     "name": "stdout",
     "output_type": "stream",
     "text": [
      "1000/1000\n",
      "rollout_num 0\n",
      "100/1000\n",
      "rollout_num 1\n",
      "100/1000\n",
      "200/1000\n",
      "300/1000\n",
      "400/1000\n",
      "500/1000\n",
      "600/1000\n",
      "700/1000\n",
      "WARNING:tensorflow:From /Users/admin/Documents/CU_Courses/cs294_deeprl/homework/hw1/tf_util.py:91: all_variables (from tensorflow.python.ops.variables) is deprecated and will be removed after 2017-03-02.\n",
      "Instructions for updating:\n",
      "Please use tf.global_variables instead.\n"
     ]
    },
    {
     "name": "stderr",
     "output_type": "stream",
     "text": [
      "[2017-06-24 16:45:58,495] From /Users/admin/Documents/CU_Courses/cs294_deeprl/homework/hw1/tf_util.py:91: all_variables (from tensorflow.python.ops.variables) is deprecated and will be removed after 2017-03-02.\n",
      "Instructions for updating:\n",
      "Please use tf.global_variables instead.\n"
     ]
    },
    {
     "name": "stdout",
     "output_type": "stream",
     "text": [
      "WARNING:tensorflow:From /Users/admin/Documents/CU_Courses/cs294_deeprl/homework/hw1/tf_util.py:92: initialize_variables (from tensorflow.python.ops.variables) is deprecated and will be removed after 2017-03-02.\n",
      "Instructions for updating:\n",
      "Use `tf.variables_initializer` instead.\n"
     ]
    },
    {
     "name": "stderr",
     "output_type": "stream",
     "text": [
      "[2017-06-24 16:45:58,498] From /Users/admin/Documents/CU_Courses/cs294_deeprl/homework/hw1/tf_util.py:92: initialize_variables (from tensorflow.python.ops.variables) is deprecated and will be removed after 2017-03-02.\n",
      "Instructions for updating:\n",
      "Use `tf.variables_initializer` instead.\n",
      "[2017-06-24 16:46:00,761] Making new env: Ant-v1\n"
     ]
    },
    {
     "name": "stdout",
     "output_type": "stream",
     "text": [
      "rollout_num 0\n",
      "100/1000\n",
      "200/1000\n",
      "300/1000\n",
      "400/1000\n",
      "500/1000\n",
      "600/1000\n",
      "700/1000\n",
      "800/1000\n",
      "900/1000\n",
      "1000/1000\n",
      "rollout_num 1\n",
      "100/1000\n",
      "200/1000\n",
      "300/1000\n",
      "400/1000\n",
      "500/1000\n",
      "600/1000\n",
      "700/1000\n",
      "800/1000\n",
      "900/1000\n",
      "1000/1000\n",
      "WARNING:tensorflow:From /Users/admin/Documents/CU_Courses/cs294_deeprl/homework/hw1/tf_util.py:91: all_variables (from tensorflow.python.ops.variables) is deprecated and will be removed after 2017-03-02.\n",
      "Instructions for updating:\n",
      "Please use tf.global_variables instead.\n"
     ]
    },
    {
     "name": "stderr",
     "output_type": "stream",
     "text": [
      "[2017-06-24 16:46:04,944] From /Users/admin/Documents/CU_Courses/cs294_deeprl/homework/hw1/tf_util.py:91: all_variables (from tensorflow.python.ops.variables) is deprecated and will be removed after 2017-03-02.\n",
      "Instructions for updating:\n",
      "Please use tf.global_variables instead.\n"
     ]
    },
    {
     "name": "stdout",
     "output_type": "stream",
     "text": [
      "WARNING:tensorflow:From /Users/admin/Documents/CU_Courses/cs294_deeprl/homework/hw1/tf_util.py:92: initialize_variables (from tensorflow.python.ops.variables) is deprecated and will be removed after 2017-03-02.\n",
      "Instructions for updating:\n",
      "Use `tf.variables_initializer` instead.\n"
     ]
    },
    {
     "name": "stderr",
     "output_type": "stream",
     "text": [
      "[2017-06-24 16:46:04,948] From /Users/admin/Documents/CU_Courses/cs294_deeprl/homework/hw1/tf_util.py:92: initialize_variables (from tensorflow.python.ops.variables) is deprecated and will be removed after 2017-03-02.\n",
      "Instructions for updating:\n",
      "Use `tf.variables_initializer` instead.\n"
     ]
    },
    {
     "name": "stdout",
     "output_type": "stream",
     "text": [
      "WARNING:tensorflow:From /Users/admin/Documents/CU_Courses/cs294_deeprl/homework/hw1/tf_util.py:91: all_variables (from tensorflow.python.ops.variables) is deprecated and will be removed after 2017-03-02.\n",
      "Instructions for updating:\n",
      "Please use tf.global_variables instead.\n"
     ]
    },
    {
     "name": "stderr",
     "output_type": "stream",
     "text": [
      "[2017-06-24 16:46:07,488] From /Users/admin/Documents/CU_Courses/cs294_deeprl/homework/hw1/tf_util.py:91: all_variables (from tensorflow.python.ops.variables) is deprecated and will be removed after 2017-03-02.\n",
      "Instructions for updating:\n",
      "Please use tf.global_variables instead.\n"
     ]
    },
    {
     "name": "stdout",
     "output_type": "stream",
     "text": [
      "WARNING:tensorflow:From /Users/admin/Documents/CU_Courses/cs294_deeprl/homework/hw1/tf_util.py:92: initialize_variables (from tensorflow.python.ops.variables) is deprecated and will be removed after 2017-03-02.\n",
      "Instructions for updating:\n",
      "Use `tf.variables_initializer` instead.\n"
     ]
    },
    {
     "name": "stderr",
     "output_type": "stream",
     "text": [
      "[2017-06-24 16:46:07,493] From /Users/admin/Documents/CU_Courses/cs294_deeprl/homework/hw1/tf_util.py:92: initialize_variables (from tensorflow.python.ops.variables) is deprecated and will be removed after 2017-03-02.\n",
      "Instructions for updating:\n",
      "Use `tf.variables_initializer` instead.\n",
      "[2017-06-24 16:46:09,935] Making new env: Ant-v1\n"
     ]
    },
    {
     "name": "stdout",
     "output_type": "stream",
     "text": [
      "rollout_num 0\n",
      "100/3000\n",
      "200/3000\n",
      "300/3000\n",
      "400/3000\n",
      "500/3000\n",
      "600/3000\n",
      "700/3000\n",
      "800/3000\n",
      "900/3000\n",
      "1000/3000\n",
      "rollout_num 1\n",
      "100/3000\n",
      "200/3000\n",
      "300/3000\n",
      "400/3000\n",
      "500/3000\n",
      "600/3000\n",
      "700/3000\n",
      "800/3000\n",
      "900/3000\n",
      "1000/3000\n",
      "rollout_num 2\n",
      "100/3000\n",
      "200/3000\n",
      "300/3000\n",
      "400/3000\n",
      "500/3000\n",
      "600/3000\n",
      "700/3000\n",
      "800/3000\n",
      "900/3000\n",
      "1000/3000\n",
      "Epoch 1/1\n",
      "3000/3000 [==============================] - 0s - loss: 0.0199     \n",
      "Epoch 1/1\n",
      "3000/3000 [==============================] - 0s - loss: 0.0221     "
     ]
    },
    {
     "name": "stderr",
     "output_type": "stream",
     "text": [
      "[2017-06-24 16:46:17,046] Making new env: Ant-v1\n"
     ]
    },
    {
     "name": "stdout",
     "output_type": "stream",
     "text": [
      "\n",
      "rollout_num 0\n",
      "100/1000\n",
      "200/1000\n",
      "300/1000\n",
      "400/1000\n",
      "500/1000\n",
      "600/1000\n",
      "700/1000\n",
      "800/1000\n",
      "900/1000\n",
      "1000/1000\n",
      "rollout_num 1\n",
      "100/1000\n",
      "200/1000\n",
      "300/1000\n",
      "400/1000\n",
      "500/1000\n",
      "600/1000\n",
      "700/1000\n",
      "800/1000\n",
      "900/1000\n",
      "1000/1000\n",
      "rollout_num 2\n",
      "100/1000\n",
      "200/1000\n",
      "300/1000\n",
      "400/1000\n",
      "500/1000\n",
      "600/1000\n",
      "700/1000\n",
      "800/1000\n",
      "900/1000\n"
     ]
    },
    {
     "name": "stderr",
     "output_type": "stream",
     "text": [
      "[2017-06-24 16:46:25,223] Making new env: Ant-v1\n"
     ]
    },
    {
     "name": "stdout",
     "output_type": "stream",
     "text": [
      "1000/1000\n",
      "rollout_num 0\n",
      "100/1000\n",
      "200/1000\n",
      "300/1000\n",
      "400/1000\n",
      "500/1000\n",
      "600/1000\n",
      "700/1000\n",
      "800/1000\n",
      "900/1000\n",
      "1000/1000\n",
      "rollout_num 1\n",
      "100/1000\n",
      "200/1000\n",
      "300/1000\n",
      "400/1000\n",
      "500/1000\n",
      "600/1000\n",
      "700/1000\n",
      "800/1000\n",
      "900/1000\n"
     ]
    },
    {
     "name": "stderr",
     "output_type": "stream",
     "text": [
      "[2017-06-24 16:46:30,739] Making new env: Ant-v1\n"
     ]
    },
    {
     "name": "stdout",
     "output_type": "stream",
     "text": [
      "1000/1000\n",
      "rollout_num 0\n",
      "100/1000\n",
      "200/1000\n",
      "rollout_num 1\n",
      "100/1000\n",
      "200/1000\n",
      "300/1000\n",
      "400/1000\n",
      "500/1000\n",
      "600/1000\n",
      "700/1000\n",
      "800/1000\n",
      "900/1000\n",
      "1000/1000\n",
      "WARNING:tensorflow:From /Users/admin/Documents/CU_Courses/cs294_deeprl/homework/hw1/tf_util.py:91: all_variables (from tensorflow.python.ops.variables) is deprecated and will be removed after 2017-03-02.\n",
      "Instructions for updating:\n",
      "Please use tf.global_variables instead.\n"
     ]
    },
    {
     "name": "stderr",
     "output_type": "stream",
     "text": [
      "[2017-06-24 16:46:33,900] From /Users/admin/Documents/CU_Courses/cs294_deeprl/homework/hw1/tf_util.py:91: all_variables (from tensorflow.python.ops.variables) is deprecated and will be removed after 2017-03-02.\n",
      "Instructions for updating:\n",
      "Please use tf.global_variables instead.\n"
     ]
    },
    {
     "name": "stdout",
     "output_type": "stream",
     "text": [
      "WARNING:tensorflow:From /Users/admin/Documents/CU_Courses/cs294_deeprl/homework/hw1/tf_util.py:92: initialize_variables (from tensorflow.python.ops.variables) is deprecated and will be removed after 2017-03-02.\n",
      "Instructions for updating:\n",
      "Use `tf.variables_initializer` instead.\n"
     ]
    },
    {
     "name": "stderr",
     "output_type": "stream",
     "text": [
      "[2017-06-24 16:46:33,903] From /Users/admin/Documents/CU_Courses/cs294_deeprl/homework/hw1/tf_util.py:92: initialize_variables (from tensorflow.python.ops.variables) is deprecated and will be removed after 2017-03-02.\n",
      "Instructions for updating:\n",
      "Use `tf.variables_initializer` instead.\n",
      "[2017-06-24 16:46:36,519] Making new env: Ant-v1\n"
     ]
    },
    {
     "name": "stdout",
     "output_type": "stream",
     "text": [
      "rollout_num 0\n",
      "100/1000\n",
      "200/1000\n",
      "300/1000\n",
      "400/1000\n",
      "500/1000\n",
      "600/1000\n",
      "700/1000\n",
      "800/1000\n",
      "900/1000\n",
      "1000/1000\n",
      "rollout_num 1\n",
      "100/1000\n",
      "200/1000\n",
      "300/1000\n",
      "400/1000\n",
      "500/1000\n",
      "600/1000\n",
      "700/1000\n",
      "800/1000\n",
      "900/1000\n",
      "1000/1000\n",
      "WARNING:tensorflow:From /Users/admin/Documents/CU_Courses/cs294_deeprl/homework/hw1/tf_util.py:91: all_variables (from tensorflow.python.ops.variables) is deprecated and will be removed after 2017-03-02.\n",
      "Instructions for updating:\n",
      "Please use tf.global_variables instead.\n"
     ]
    },
    {
     "name": "stderr",
     "output_type": "stream",
     "text": [
      "[2017-06-24 16:46:40,679] From /Users/admin/Documents/CU_Courses/cs294_deeprl/homework/hw1/tf_util.py:91: all_variables (from tensorflow.python.ops.variables) is deprecated and will be removed after 2017-03-02.\n",
      "Instructions for updating:\n",
      "Please use tf.global_variables instead.\n"
     ]
    },
    {
     "name": "stdout",
     "output_type": "stream",
     "text": [
      "WARNING:tensorflow:From /Users/admin/Documents/CU_Courses/cs294_deeprl/homework/hw1/tf_util.py:92: initialize_variables (from tensorflow.python.ops.variables) is deprecated and will be removed after 2017-03-02.\n",
      "Instructions for updating:\n",
      "Use `tf.variables_initializer` instead.\n"
     ]
    },
    {
     "name": "stderr",
     "output_type": "stream",
     "text": [
      "[2017-06-24 16:46:40,683] From /Users/admin/Documents/CU_Courses/cs294_deeprl/homework/hw1/tf_util.py:92: initialize_variables (from tensorflow.python.ops.variables) is deprecated and will be removed after 2017-03-02.\n",
      "Instructions for updating:\n",
      "Use `tf.variables_initializer` instead.\n"
     ]
    },
    {
     "name": "stdout",
     "output_type": "stream",
     "text": [
      "WARNING:tensorflow:From /Users/admin/Documents/CU_Courses/cs294_deeprl/homework/hw1/tf_util.py:91: all_variables (from tensorflow.python.ops.variables) is deprecated and will be removed after 2017-03-02.\n",
      "Instructions for updating:\n",
      "Please use tf.global_variables instead.\n"
     ]
    },
    {
     "name": "stderr",
     "output_type": "stream",
     "text": [
      "[2017-06-24 16:46:43,284] From /Users/admin/Documents/CU_Courses/cs294_deeprl/homework/hw1/tf_util.py:91: all_variables (from tensorflow.python.ops.variables) is deprecated and will be removed after 2017-03-02.\n",
      "Instructions for updating:\n",
      "Please use tf.global_variables instead.\n"
     ]
    },
    {
     "name": "stdout",
     "output_type": "stream",
     "text": [
      "WARNING:tensorflow:From /Users/admin/Documents/CU_Courses/cs294_deeprl/homework/hw1/tf_util.py:92: initialize_variables (from tensorflow.python.ops.variables) is deprecated and will be removed after 2017-03-02.\n",
      "Instructions for updating:\n",
      "Use `tf.variables_initializer` instead.\n"
     ]
    },
    {
     "name": "stderr",
     "output_type": "stream",
     "text": [
      "[2017-06-24 16:46:43,288] From /Users/admin/Documents/CU_Courses/cs294_deeprl/homework/hw1/tf_util.py:92: initialize_variables (from tensorflow.python.ops.variables) is deprecated and will be removed after 2017-03-02.\n",
      "Instructions for updating:\n",
      "Use `tf.variables_initializer` instead.\n",
      "[2017-06-24 16:46:45,801] Making new env: Ant-v1\n"
     ]
    },
    {
     "name": "stdout",
     "output_type": "stream",
     "text": [
      "rollout_num 0\n",
      "100/3000\n",
      "200/3000\n",
      "300/3000\n",
      "400/3000\n",
      "500/3000\n",
      "600/3000\n",
      "700/3000\n",
      "800/3000\n",
      "900/3000\n",
      "1000/3000\n",
      "rollout_num 1\n",
      "100/3000\n",
      "200/3000\n",
      "300/3000\n",
      "400/3000\n",
      "500/3000\n",
      "600/3000\n",
      "700/3000\n",
      "800/3000\n",
      "900/3000\n",
      "1000/3000\n",
      "rollout_num 2\n",
      "100/3000\n",
      "200/3000\n",
      "300/3000\n",
      "400/3000\n",
      "500/3000\n",
      "600/3000\n",
      "700/3000\n",
      "800/3000\n",
      "900/3000\n",
      "1000/3000\n",
      "Epoch 1/1\n",
      "3000/3000 [==============================] - 0s - loss: 0.0213     \n",
      "Epoch 1/1\n",
      "3000/3000 [==============================] - 0s - loss: 0.0116     "
     ]
    },
    {
     "name": "stderr",
     "output_type": "stream",
     "text": [
      "[2017-06-24 16:46:52,928] Making new env: Ant-v1\n"
     ]
    },
    {
     "name": "stdout",
     "output_type": "stream",
     "text": [
      "\n",
      "rollout_num 0\n",
      "100/1000\n",
      "200/1000\n",
      "300/1000\n",
      "400/1000\n",
      "500/1000\n",
      "600/1000\n",
      "700/1000\n",
      "800/1000\n",
      "900/1000\n",
      "1000/1000\n",
      "rollout_num 1\n",
      "100/1000\n",
      "200/1000\n",
      "300/1000\n",
      "400/1000\n",
      "500/1000\n",
      "600/1000\n",
      "700/1000\n",
      "800/1000\n",
      "900/1000\n",
      "1000/1000\n",
      "rollout_num 2\n",
      "100/1000\n",
      "200/1000\n",
      "300/1000\n",
      "400/1000\n",
      "500/1000\n",
      "600/1000\n",
      "700/1000\n",
      "800/1000\n",
      "900/1000\n"
     ]
    },
    {
     "name": "stderr",
     "output_type": "stream",
     "text": [
      "[2017-06-24 16:47:01,380] Making new env: Ant-v1\n"
     ]
    },
    {
     "name": "stdout",
     "output_type": "stream",
     "text": [
      "1000/1000\n",
      "rollout_num 0\n",
      "100/1000\n",
      "200/1000\n",
      "300/1000\n",
      "400/1000\n",
      "500/1000\n",
      "600/1000\n",
      "700/1000\n",
      "800/1000\n",
      "900/1000\n",
      "1000/1000\n",
      "rollout_num 1\n",
      "100/1000\n",
      "200/1000\n",
      "300/1000\n",
      "400/1000\n",
      "500/1000\n",
      "600/1000\n",
      "700/1000\n",
      "800/1000\n",
      "900/1000\n"
     ]
    },
    {
     "name": "stderr",
     "output_type": "stream",
     "text": [
      "[2017-06-24 16:47:07,004] Making new env: Ant-v1\n"
     ]
    },
    {
     "name": "stdout",
     "output_type": "stream",
     "text": [
      "1000/1000\n",
      "rollout_num 0\n",
      "100/1000\n",
      "200/1000\n",
      "300/1000\n",
      "400/1000\n",
      "500/1000\n",
      "600/1000\n",
      "700/1000\n",
      "800/1000\n",
      "900/1000\n",
      "1000/1000\n",
      "rollout_num 1\n",
      "100/1000\n",
      "200/1000\n",
      "300/1000\n",
      "400/1000\n",
      "500/1000\n",
      "WARNING:tensorflow:From /Users/admin/Documents/CU_Courses/cs294_deeprl/homework/hw1/tf_util.py:91: all_variables (from tensorflow.python.ops.variables) is deprecated and will be removed after 2017-03-02.\n",
      "Instructions for updating:\n",
      "Please use tf.global_variables instead.\n"
     ]
    },
    {
     "name": "stderr",
     "output_type": "stream",
     "text": [
      "[2017-06-24 16:47:10,897] From /Users/admin/Documents/CU_Courses/cs294_deeprl/homework/hw1/tf_util.py:91: all_variables (from tensorflow.python.ops.variables) is deprecated and will be removed after 2017-03-02.\n",
      "Instructions for updating:\n",
      "Please use tf.global_variables instead.\n"
     ]
    },
    {
     "name": "stdout",
     "output_type": "stream",
     "text": [
      "WARNING:tensorflow:From /Users/admin/Documents/CU_Courses/cs294_deeprl/homework/hw1/tf_util.py:92: initialize_variables (from tensorflow.python.ops.variables) is deprecated and will be removed after 2017-03-02.\n",
      "Instructions for updating:\n",
      "Use `tf.variables_initializer` instead.\n"
     ]
    },
    {
     "name": "stderr",
     "output_type": "stream",
     "text": [
      "[2017-06-24 16:47:10,901] From /Users/admin/Documents/CU_Courses/cs294_deeprl/homework/hw1/tf_util.py:92: initialize_variables (from tensorflow.python.ops.variables) is deprecated and will be removed after 2017-03-02.\n",
      "Instructions for updating:\n",
      "Use `tf.variables_initializer` instead.\n",
      "[2017-06-24 16:47:13,284] Making new env: Ant-v1\n"
     ]
    },
    {
     "name": "stdout",
     "output_type": "stream",
     "text": [
      "rollout_num 0\n",
      "100/1000\n",
      "200/1000\n",
      "300/1000\n",
      "400/1000\n",
      "500/1000\n",
      "600/1000\n",
      "700/1000\n",
      "800/1000\n",
      "900/1000\n",
      "1000/1000\n",
      "rollout_num 1\n",
      "100/1000\n",
      "200/1000\n",
      "300/1000\n",
      "400/1000\n",
      "500/1000\n",
      "600/1000\n",
      "700/1000\n",
      "800/1000\n",
      "900/1000\n",
      "1000/1000\n",
      "WARNING:tensorflow:From /Users/admin/Documents/CU_Courses/cs294_deeprl/homework/hw1/tf_util.py:91: all_variables (from tensorflow.python.ops.variables) is deprecated and will be removed after 2017-03-02.\n",
      "Instructions for updating:\n",
      "Please use tf.global_variables instead.\n"
     ]
    },
    {
     "name": "stderr",
     "output_type": "stream",
     "text": [
      "[2017-06-24 16:47:17,616] From /Users/admin/Documents/CU_Courses/cs294_deeprl/homework/hw1/tf_util.py:91: all_variables (from tensorflow.python.ops.variables) is deprecated and will be removed after 2017-03-02.\n",
      "Instructions for updating:\n",
      "Please use tf.global_variables instead.\n"
     ]
    },
    {
     "name": "stdout",
     "output_type": "stream",
     "text": [
      "WARNING:tensorflow:From /Users/admin/Documents/CU_Courses/cs294_deeprl/homework/hw1/tf_util.py:92: initialize_variables (from tensorflow.python.ops.variables) is deprecated and will be removed after 2017-03-02.\n",
      "Instructions for updating:\n",
      "Use `tf.variables_initializer` instead.\n"
     ]
    },
    {
     "name": "stderr",
     "output_type": "stream",
     "text": [
      "[2017-06-24 16:47:17,619] From /Users/admin/Documents/CU_Courses/cs294_deeprl/homework/hw1/tf_util.py:92: initialize_variables (from tensorflow.python.ops.variables) is deprecated and will be removed after 2017-03-02.\n",
      "Instructions for updating:\n",
      "Use `tf.variables_initializer` instead.\n"
     ]
    },
    {
     "name": "stdout",
     "output_type": "stream",
     "text": [
      "WARNING:tensorflow:From /Users/admin/Documents/CU_Courses/cs294_deeprl/homework/hw1/tf_util.py:91: all_variables (from tensorflow.python.ops.variables) is deprecated and will be removed after 2017-03-02.\n",
      "Instructions for updating:\n",
      "Please use tf.global_variables instead.\n"
     ]
    },
    {
     "name": "stderr",
     "output_type": "stream",
     "text": [
      "[2017-06-24 16:47:20,229] From /Users/admin/Documents/CU_Courses/cs294_deeprl/homework/hw1/tf_util.py:91: all_variables (from tensorflow.python.ops.variables) is deprecated and will be removed after 2017-03-02.\n",
      "Instructions for updating:\n",
      "Please use tf.global_variables instead.\n"
     ]
    },
    {
     "name": "stdout",
     "output_type": "stream",
     "text": [
      "WARNING:tensorflow:From /Users/admin/Documents/CU_Courses/cs294_deeprl/homework/hw1/tf_util.py:92: initialize_variables (from tensorflow.python.ops.variables) is deprecated and will be removed after 2017-03-02.\n",
      "Instructions for updating:\n",
      "Use `tf.variables_initializer` instead.\n"
     ]
    },
    {
     "name": "stderr",
     "output_type": "stream",
     "text": [
      "[2017-06-24 16:47:20,233] From /Users/admin/Documents/CU_Courses/cs294_deeprl/homework/hw1/tf_util.py:92: initialize_variables (from tensorflow.python.ops.variables) is deprecated and will be removed after 2017-03-02.\n",
      "Instructions for updating:\n",
      "Use `tf.variables_initializer` instead.\n",
      "[2017-06-24 16:47:22,829] Making new env: Ant-v1\n"
     ]
    },
    {
     "name": "stdout",
     "output_type": "stream",
     "text": [
      "rollout_num 0\n",
      "100/3000\n",
      "200/3000\n",
      "300/3000\n",
      "400/3000\n",
      "500/3000\n",
      "600/3000\n",
      "700/3000\n",
      "800/3000\n",
      "900/3000\n",
      "1000/3000\n",
      "rollout_num 1\n",
      "100/3000\n",
      "200/3000\n",
      "300/3000\n",
      "400/3000\n",
      "500/3000\n",
      "600/3000\n",
      "700/3000\n",
      "800/3000\n",
      "900/3000\n",
      "1000/3000\n",
      "rollout_num 2\n",
      "100/3000\n",
      "200/3000\n",
      "300/3000\n",
      "400/3000\n",
      "500/3000\n",
      "600/3000\n",
      "700/3000\n",
      "800/3000\n",
      "900/3000\n",
      "1000/3000\n",
      "Epoch 1/1\n",
      "3000/3000 [==============================] - 0s - loss: 0.0159     \n",
      "Epoch 1/1\n",
      "3000/3000 [==============================] - 0s - loss: 0.0107     "
     ]
    },
    {
     "name": "stderr",
     "output_type": "stream",
     "text": [
      "[2017-06-24 16:47:29,951] Making new env: Ant-v1\n"
     ]
    },
    {
     "name": "stdout",
     "output_type": "stream",
     "text": [
      "\n",
      "rollout_num 0\n",
      "100/1000\n",
      "200/1000\n",
      "300/1000\n",
      "400/1000\n",
      "500/1000\n",
      "600/1000\n",
      "700/1000\n",
      "800/1000\n",
      "900/1000\n",
      "1000/1000\n",
      "rollout_num 1\n",
      "100/1000\n",
      "200/1000\n",
      "300/1000\n",
      "400/1000\n",
      "500/1000\n",
      "600/1000\n",
      "700/1000\n",
      "800/1000\n",
      "900/1000\n",
      "1000/1000\n",
      "rollout_num 2\n",
      "100/1000\n",
      "200/1000\n",
      "300/1000\n",
      "400/1000\n",
      "500/1000\n",
      "600/1000\n",
      "700/1000\n",
      "800/1000\n",
      "900/1000\n"
     ]
    },
    {
     "name": "stderr",
     "output_type": "stream",
     "text": [
      "[2017-06-24 16:47:38,478] Making new env: Ant-v1\n"
     ]
    },
    {
     "name": "stdout",
     "output_type": "stream",
     "text": [
      "1000/1000\n",
      "rollout_num 0\n",
      "100/1000\n",
      "200/1000\n",
      "300/1000\n",
      "400/1000\n",
      "500/1000\n",
      "600/1000\n",
      "700/1000\n",
      "800/1000\n",
      "900/1000\n",
      "1000/1000\n",
      "rollout_num 1\n",
      "100/1000\n",
      "200/1000\n",
      "300/1000\n",
      "400/1000\n",
      "500/1000\n",
      "600/1000\n",
      "700/1000\n",
      "800/1000\n",
      "900/1000\n"
     ]
    },
    {
     "name": "stderr",
     "output_type": "stream",
     "text": [
      "[2017-06-24 16:47:43,916] Making new env: Ant-v1\n"
     ]
    },
    {
     "name": "stdout",
     "output_type": "stream",
     "text": [
      "1000/1000\n",
      "rollout_num 0\n",
      "100/1000\n",
      "200/1000\n",
      "rollout_num 1\n",
      "100/1000\n",
      "200/1000\n",
      "WARNING:tensorflow:From /Users/admin/Documents/CU_Courses/cs294_deeprl/homework/hw1/tf_util.py:91: all_variables (from tensorflow.python.ops.variables) is deprecated and will be removed after 2017-03-02.\n",
      "Instructions for updating:\n",
      "Please use tf.global_variables instead.\n"
     ]
    },
    {
     "name": "stderr",
     "output_type": "stream",
     "text": [
      "[2017-06-24 16:47:45,607] From /Users/admin/Documents/CU_Courses/cs294_deeprl/homework/hw1/tf_util.py:91: all_variables (from tensorflow.python.ops.variables) is deprecated and will be removed after 2017-03-02.\n",
      "Instructions for updating:\n",
      "Please use tf.global_variables instead.\n"
     ]
    },
    {
     "name": "stdout",
     "output_type": "stream",
     "text": [
      "WARNING:tensorflow:From /Users/admin/Documents/CU_Courses/cs294_deeprl/homework/hw1/tf_util.py:92: initialize_variables (from tensorflow.python.ops.variables) is deprecated and will be removed after 2017-03-02.\n",
      "Instructions for updating:\n",
      "Use `tf.variables_initializer` instead.\n"
     ]
    },
    {
     "name": "stderr",
     "output_type": "stream",
     "text": [
      "[2017-06-24 16:47:45,615] From /Users/admin/Documents/CU_Courses/cs294_deeprl/homework/hw1/tf_util.py:92: initialize_variables (from tensorflow.python.ops.variables) is deprecated and will be removed after 2017-03-02.\n",
      "Instructions for updating:\n",
      "Use `tf.variables_initializer` instead.\n",
      "[2017-06-24 16:47:48,034] Making new env: Ant-v1\n"
     ]
    },
    {
     "name": "stdout",
     "output_type": "stream",
     "text": [
      "rollout_num 0\n",
      "100/1000\n",
      "200/1000\n",
      "300/1000\n",
      "400/1000\n",
      "500/1000\n",
      "600/1000\n",
      "700/1000\n",
      "800/1000\n",
      "900/1000\n",
      "1000/1000\n",
      "rollout_num 1\n",
      "100/1000\n",
      "200/1000\n",
      "300/1000\n",
      "400/1000\n",
      "500/1000\n",
      "600/1000\n",
      "700/1000\n",
      "WARNING:tensorflow:From /Users/admin/Documents/CU_Courses/cs294_deeprl/homework/hw1/tf_util.py:91: all_variables (from tensorflow.python.ops.variables) is deprecated and will be removed after 2017-03-02.\n",
      "Instructions for updating:\n",
      "Please use tf.global_variables instead.\n"
     ]
    },
    {
     "name": "stderr",
     "output_type": "stream",
     "text": [
      "[2017-06-24 16:47:51,877] From /Users/admin/Documents/CU_Courses/cs294_deeprl/homework/hw1/tf_util.py:91: all_variables (from tensorflow.python.ops.variables) is deprecated and will be removed after 2017-03-02.\n",
      "Instructions for updating:\n",
      "Please use tf.global_variables instead.\n"
     ]
    },
    {
     "name": "stdout",
     "output_type": "stream",
     "text": [
      "WARNING:tensorflow:From /Users/admin/Documents/CU_Courses/cs294_deeprl/homework/hw1/tf_util.py:92: initialize_variables (from tensorflow.python.ops.variables) is deprecated and will be removed after 2017-03-02.\n",
      "Instructions for updating:\n",
      "Use `tf.variables_initializer` instead.\n"
     ]
    },
    {
     "name": "stderr",
     "output_type": "stream",
     "text": [
      "[2017-06-24 16:47:51,880] From /Users/admin/Documents/CU_Courses/cs294_deeprl/homework/hw1/tf_util.py:92: initialize_variables (from tensorflow.python.ops.variables) is deprecated and will be removed after 2017-03-02.\n",
      "Instructions for updating:\n",
      "Use `tf.variables_initializer` instead.\n"
     ]
    },
    {
     "name": "stdout",
     "output_type": "stream",
     "text": [
      "WARNING:tensorflow:From /Users/admin/Documents/CU_Courses/cs294_deeprl/homework/hw1/tf_util.py:91: all_variables (from tensorflow.python.ops.variables) is deprecated and will be removed after 2017-03-02.\n",
      "Instructions for updating:\n",
      "Please use tf.global_variables instead.\n"
     ]
    },
    {
     "name": "stderr",
     "output_type": "stream",
     "text": [
      "[2017-06-24 16:47:54,522] From /Users/admin/Documents/CU_Courses/cs294_deeprl/homework/hw1/tf_util.py:91: all_variables (from tensorflow.python.ops.variables) is deprecated and will be removed after 2017-03-02.\n",
      "Instructions for updating:\n",
      "Please use tf.global_variables instead.\n"
     ]
    },
    {
     "name": "stdout",
     "output_type": "stream",
     "text": [
      "WARNING:tensorflow:From /Users/admin/Documents/CU_Courses/cs294_deeprl/homework/hw1/tf_util.py:92: initialize_variables (from tensorflow.python.ops.variables) is deprecated and will be removed after 2017-03-02.\n",
      "Instructions for updating:\n",
      "Use `tf.variables_initializer` instead.\n"
     ]
    },
    {
     "name": "stderr",
     "output_type": "stream",
     "text": [
      "[2017-06-24 16:47:54,526] From /Users/admin/Documents/CU_Courses/cs294_deeprl/homework/hw1/tf_util.py:92: initialize_variables (from tensorflow.python.ops.variables) is deprecated and will be removed after 2017-03-02.\n",
      "Instructions for updating:\n",
      "Use `tf.variables_initializer` instead.\n",
      "[2017-06-24 16:47:57,170] Making new env: Ant-v1\n"
     ]
    },
    {
     "name": "stdout",
     "output_type": "stream",
     "text": [
      "rollout_num 0\n",
      "100/3000\n",
      "200/3000\n",
      "300/3000\n",
      "400/3000\n",
      "500/3000\n",
      "600/3000\n",
      "700/3000\n",
      "800/3000\n",
      "900/3000\n",
      "1000/3000\n",
      "rollout_num 1\n",
      "100/3000\n",
      "200/3000\n",
      "300/3000\n",
      "400/3000\n",
      "500/3000\n",
      "600/3000\n",
      "700/3000\n",
      "800/3000\n",
      "900/3000\n",
      "1000/3000\n",
      "rollout_num 2\n",
      "100/3000\n",
      "200/3000\n",
      "300/3000\n",
      "400/3000\n",
      "500/3000\n",
      "600/3000\n",
      "700/3000\n",
      "800/3000\n",
      "900/3000\n",
      "1000/3000\n",
      "Epoch 1/1\n",
      "3000/3000 [==============================] - 0s - loss: 0.0145     \n",
      "Epoch 1/1\n",
      "3000/3000 [==============================] - 0s - loss: 0.0132     "
     ]
    },
    {
     "name": "stderr",
     "output_type": "stream",
     "text": [
      "[2017-06-24 16:48:04,423] Making new env: Ant-v1\n"
     ]
    },
    {
     "name": "stdout",
     "output_type": "stream",
     "text": [
      "\n",
      "rollout_num 0\n",
      "100/1000\n",
      "200/1000\n",
      "300/1000\n",
      "400/1000\n",
      "500/1000\n",
      "600/1000\n",
      "700/1000\n",
      "800/1000\n",
      "900/1000\n",
      "1000/1000\n",
      "rollout_num 1\n",
      "100/1000\n",
      "200/1000\n",
      "300/1000\n",
      "400/1000\n",
      "500/1000\n",
      "600/1000\n",
      "700/1000\n",
      "800/1000\n",
      "900/1000\n",
      "1000/1000\n",
      "rollout_num 2\n",
      "100/1000\n",
      "200/1000\n",
      "300/1000\n",
      "400/1000\n",
      "500/1000\n",
      "600/1000\n",
      "700/1000\n",
      "800/1000\n",
      "900/1000\n"
     ]
    },
    {
     "name": "stderr",
     "output_type": "stream",
     "text": [
      "[2017-06-24 16:48:12,936] Making new env: Ant-v1\n"
     ]
    },
    {
     "name": "stdout",
     "output_type": "stream",
     "text": [
      "1000/1000\n",
      "rollout_num 0\n",
      "100/1000\n",
      "200/1000\n",
      "300/1000\n",
      "400/1000\n",
      "500/1000\n",
      "600/1000\n",
      "700/1000\n",
      "800/1000\n",
      "900/1000\n",
      "1000/1000\n",
      "rollout_num 1\n",
      "100/1000\n",
      "200/1000\n",
      "300/1000\n",
      "400/1000\n",
      "500/1000\n",
      "600/1000\n",
      "700/1000\n",
      "800/1000\n",
      "900/1000\n"
     ]
    },
    {
     "name": "stderr",
     "output_type": "stream",
     "text": [
      "[2017-06-24 16:48:18,354] Making new env: Ant-v1\n"
     ]
    },
    {
     "name": "stdout",
     "output_type": "stream",
     "text": [
      "1000/1000\n",
      "rollout_num 0\n",
      "100/1000\n",
      "200/1000\n",
      "300/1000\n",
      "rollout_num 1\n",
      "100/1000\n",
      "200/1000\n",
      "300/1000\n",
      "400/1000\n",
      "500/1000\n",
      "600/1000\n",
      "700/1000\n",
      "800/1000\n",
      "900/1000\n",
      "1000/1000\n",
      "WARNING:tensorflow:From /Users/admin/Documents/CU_Courses/cs294_deeprl/homework/hw1/tf_util.py:91: all_variables (from tensorflow.python.ops.variables) is deprecated and will be removed after 2017-03-02.\n",
      "Instructions for updating:\n",
      "Please use tf.global_variables instead.\n"
     ]
    },
    {
     "name": "stderr",
     "output_type": "stream",
     "text": [
      "[2017-06-24 16:48:21,970] From /Users/admin/Documents/CU_Courses/cs294_deeprl/homework/hw1/tf_util.py:91: all_variables (from tensorflow.python.ops.variables) is deprecated and will be removed after 2017-03-02.\n",
      "Instructions for updating:\n",
      "Please use tf.global_variables instead.\n"
     ]
    },
    {
     "name": "stdout",
     "output_type": "stream",
     "text": [
      "WARNING:tensorflow:From /Users/admin/Documents/CU_Courses/cs294_deeprl/homework/hw1/tf_util.py:92: initialize_variables (from tensorflow.python.ops.variables) is deprecated and will be removed after 2017-03-02.\n",
      "Instructions for updating:\n",
      "Use `tf.variables_initializer` instead.\n"
     ]
    },
    {
     "name": "stderr",
     "output_type": "stream",
     "text": [
      "[2017-06-24 16:48:21,973] From /Users/admin/Documents/CU_Courses/cs294_deeprl/homework/hw1/tf_util.py:92: initialize_variables (from tensorflow.python.ops.variables) is deprecated and will be removed after 2017-03-02.\n",
      "Instructions for updating:\n",
      "Use `tf.variables_initializer` instead.\n",
      "[2017-06-24 16:48:24,372] Making new env: Ant-v1\n"
     ]
    },
    {
     "name": "stdout",
     "output_type": "stream",
     "text": [
      "rollout_num 0\n",
      "100/1000\n",
      "200/1000\n",
      "300/1000\n",
      "400/1000\n",
      "500/1000\n",
      "600/1000\n",
      "700/1000\n",
      "800/1000\n",
      "900/1000\n",
      "1000/1000\n",
      "rollout_num 1\n",
      "100/1000\n",
      "200/1000\n",
      "300/1000\n",
      "400/1000\n",
      "500/1000\n",
      "600/1000\n",
      "700/1000\n",
      "800/1000\n",
      "900/1000\n",
      "1000/1000\n",
      "WARNING:tensorflow:From /Users/admin/Documents/CU_Courses/cs294_deeprl/homework/hw1/tf_util.py:91: all_variables (from tensorflow.python.ops.variables) is deprecated and will be removed after 2017-03-02.\n",
      "Instructions for updating:\n",
      "Please use tf.global_variables instead.\n"
     ]
    },
    {
     "name": "stderr",
     "output_type": "stream",
     "text": [
      "[2017-06-24 16:48:28,843] From /Users/admin/Documents/CU_Courses/cs294_deeprl/homework/hw1/tf_util.py:91: all_variables (from tensorflow.python.ops.variables) is deprecated and will be removed after 2017-03-02.\n",
      "Instructions for updating:\n",
      "Please use tf.global_variables instead.\n"
     ]
    },
    {
     "name": "stdout",
     "output_type": "stream",
     "text": [
      "WARNING:tensorflow:From /Users/admin/Documents/CU_Courses/cs294_deeprl/homework/hw1/tf_util.py:92: initialize_variables (from tensorflow.python.ops.variables) is deprecated and will be removed after 2017-03-02.\n",
      "Instructions for updating:\n",
      "Use `tf.variables_initializer` instead.\n"
     ]
    },
    {
     "name": "stderr",
     "output_type": "stream",
     "text": [
      "[2017-06-24 16:48:28,847] From /Users/admin/Documents/CU_Courses/cs294_deeprl/homework/hw1/tf_util.py:92: initialize_variables (from tensorflow.python.ops.variables) is deprecated and will be removed after 2017-03-02.\n",
      "Instructions for updating:\n",
      "Use `tf.variables_initializer` instead.\n"
     ]
    },
    {
     "name": "stdout",
     "output_type": "stream",
     "text": [
      "WARNING:tensorflow:From /Users/admin/Documents/CU_Courses/cs294_deeprl/homework/hw1/tf_util.py:91: all_variables (from tensorflow.python.ops.variables) is deprecated and will be removed after 2017-03-02.\n",
      "Instructions for updating:\n",
      "Please use tf.global_variables instead.\n"
     ]
    },
    {
     "name": "stderr",
     "output_type": "stream",
     "text": [
      "[2017-06-24 16:48:31,529] From /Users/admin/Documents/CU_Courses/cs294_deeprl/homework/hw1/tf_util.py:91: all_variables (from tensorflow.python.ops.variables) is deprecated and will be removed after 2017-03-02.\n",
      "Instructions for updating:\n",
      "Please use tf.global_variables instead.\n"
     ]
    },
    {
     "name": "stdout",
     "output_type": "stream",
     "text": [
      "WARNING:tensorflow:From /Users/admin/Documents/CU_Courses/cs294_deeprl/homework/hw1/tf_util.py:92: initialize_variables (from tensorflow.python.ops.variables) is deprecated and will be removed after 2017-03-02.\n",
      "Instructions for updating:\n",
      "Use `tf.variables_initializer` instead.\n"
     ]
    },
    {
     "name": "stderr",
     "output_type": "stream",
     "text": [
      "[2017-06-24 16:48:31,532] From /Users/admin/Documents/CU_Courses/cs294_deeprl/homework/hw1/tf_util.py:92: initialize_variables (from tensorflow.python.ops.variables) is deprecated and will be removed after 2017-03-02.\n",
      "Instructions for updating:\n",
      "Use `tf.variables_initializer` instead.\n",
      "[2017-06-24 16:48:34,179] Making new env: Ant-v1\n"
     ]
    },
    {
     "name": "stdout",
     "output_type": "stream",
     "text": [
      "rollout_num 0\n",
      "100/3000\n",
      "200/3000\n",
      "300/3000\n",
      "400/3000\n",
      "500/3000\n",
      "600/3000\n",
      "700/3000\n",
      "800/3000\n",
      "900/3000\n",
      "1000/3000\n",
      "rollout_num 1\n",
      "100/3000\n",
      "200/3000\n",
      "300/3000\n",
      "400/3000\n",
      "500/3000\n",
      "600/3000\n",
      "700/3000\n",
      "800/3000\n",
      "900/3000\n",
      "1000/3000\n",
      "rollout_num 2\n",
      "100/3000\n",
      "200/3000\n",
      "300/3000\n",
      "400/3000\n",
      "500/3000\n",
      "600/3000\n",
      "700/3000\n",
      "800/3000\n",
      "900/3000\n",
      "1000/3000\n",
      "Epoch 1/1\n",
      "3000/3000 [==============================] - 0s - loss: 0.0142     \n",
      "Epoch 1/1\n",
      "3000/3000 [==============================] - 0s - loss: 0.0072     \n"
     ]
    },
    {
     "name": "stderr",
     "output_type": "stream",
     "text": [
      "[2017-06-24 16:48:41,451] Making new env: Ant-v1\n"
     ]
    },
    {
     "name": "stdout",
     "output_type": "stream",
     "text": [
      "rollout_num 0\n",
      "100/1000\n",
      "200/1000\n",
      "300/1000\n",
      "400/1000\n",
      "500/1000\n",
      "600/1000\n",
      "700/1000\n",
      "800/1000\n",
      "900/1000\n",
      "1000/1000\n",
      "rollout_num 1\n",
      "100/1000\n",
      "200/1000\n",
      "300/1000\n",
      "400/1000\n",
      "500/1000\n",
      "600/1000\n",
      "700/1000\n",
      "800/1000\n",
      "900/1000\n",
      "1000/1000\n",
      "rollout_num 2\n",
      "100/1000\n",
      "200/1000\n",
      "300/1000\n",
      "400/1000\n",
      "500/1000\n",
      "600/1000\n",
      "700/1000\n",
      "800/1000\n",
      "900/1000\n"
     ]
    },
    {
     "name": "stderr",
     "output_type": "stream",
     "text": [
      "[2017-06-24 16:48:50,093] Making new env: Ant-v1\n"
     ]
    },
    {
     "name": "stdout",
     "output_type": "stream",
     "text": [
      "1000/1000\n",
      "rollout_num 0\n",
      "100/1000\n",
      "200/1000\n",
      "300/1000\n",
      "400/1000\n",
      "500/1000\n",
      "600/1000\n",
      "700/1000\n",
      "800/1000\n",
      "900/1000\n",
      "1000/1000\n",
      "rollout_num 1\n",
      "100/1000\n",
      "200/1000\n",
      "300/1000\n",
      "400/1000\n",
      "500/1000\n",
      "600/1000\n",
      "700/1000\n",
      "800/1000\n",
      "900/1000\n"
     ]
    },
    {
     "name": "stderr",
     "output_type": "stream",
     "text": [
      "[2017-06-24 16:48:55,531] Making new env: Ant-v1\n"
     ]
    },
    {
     "name": "stdout",
     "output_type": "stream",
     "text": [
      "1000/1000\n",
      "rollout_num 0\n",
      "100/1000\n",
      "200/1000\n",
      "300/1000\n",
      "400/1000\n",
      "500/1000\n",
      "600/1000\n",
      "700/1000\n",
      "800/1000\n",
      "900/1000\n",
      "1000/1000\n",
      "rollout_num 1\n",
      "100/1000\n",
      "200/1000\n",
      "300/1000\n",
      "400/1000\n",
      "500/1000\n",
      "600/1000\n",
      "700/1000\n",
      "800/1000\n",
      "900/1000\n",
      "1000/1000\n",
      "WARNING:tensorflow:From /Users/admin/Documents/CU_Courses/cs294_deeprl/homework/hw1/tf_util.py:91: all_variables (from tensorflow.python.ops.variables) is deprecated and will be removed after 2017-03-02.\n",
      "Instructions for updating:\n",
      "Please use tf.global_variables instead.\n"
     ]
    },
    {
     "name": "stderr",
     "output_type": "stream",
     "text": [
      "[2017-06-24 16:49:00,486] From /Users/admin/Documents/CU_Courses/cs294_deeprl/homework/hw1/tf_util.py:91: all_variables (from tensorflow.python.ops.variables) is deprecated and will be removed after 2017-03-02.\n",
      "Instructions for updating:\n",
      "Please use tf.global_variables instead.\n"
     ]
    },
    {
     "name": "stdout",
     "output_type": "stream",
     "text": [
      "WARNING:tensorflow:From /Users/admin/Documents/CU_Courses/cs294_deeprl/homework/hw1/tf_util.py:92: initialize_variables (from tensorflow.python.ops.variables) is deprecated and will be removed after 2017-03-02.\n",
      "Instructions for updating:\n",
      "Use `tf.variables_initializer` instead.\n"
     ]
    },
    {
     "name": "stderr",
     "output_type": "stream",
     "text": [
      "[2017-06-24 16:49:00,490] From /Users/admin/Documents/CU_Courses/cs294_deeprl/homework/hw1/tf_util.py:92: initialize_variables (from tensorflow.python.ops.variables) is deprecated and will be removed after 2017-03-02.\n",
      "Instructions for updating:\n",
      "Use `tf.variables_initializer` instead.\n",
      "[2017-06-24 16:49:02,963] Making new env: Ant-v1\n"
     ]
    },
    {
     "name": "stdout",
     "output_type": "stream",
     "text": [
      "rollout_num 0\n",
      "100/1000\n",
      "200/1000\n",
      "300/1000\n",
      "400/1000\n",
      "500/1000\n",
      "600/1000\n",
      "700/1000\n",
      "800/1000\n",
      "900/1000\n",
      "1000/1000\n",
      "rollout_num 1\n",
      "100/1000\n",
      "200/1000\n",
      "300/1000\n",
      "400/1000\n",
      "500/1000\n",
      "600/1000\n",
      "700/1000\n",
      "800/1000\n",
      "900/1000\n",
      "1000/1000\n",
      "WARNING:tensorflow:From /Users/admin/Documents/CU_Courses/cs294_deeprl/homework/hw1/tf_util.py:91: all_variables (from tensorflow.python.ops.variables) is deprecated and will be removed after 2017-03-02.\n",
      "Instructions for updating:\n",
      "Please use tf.global_variables instead.\n"
     ]
    },
    {
     "name": "stderr",
     "output_type": "stream",
     "text": [
      "[2017-06-24 16:49:07,417] From /Users/admin/Documents/CU_Courses/cs294_deeprl/homework/hw1/tf_util.py:91: all_variables (from tensorflow.python.ops.variables) is deprecated and will be removed after 2017-03-02.\n",
      "Instructions for updating:\n",
      "Please use tf.global_variables instead.\n"
     ]
    },
    {
     "name": "stdout",
     "output_type": "stream",
     "text": [
      "WARNING:tensorflow:From /Users/admin/Documents/CU_Courses/cs294_deeprl/homework/hw1/tf_util.py:92: initialize_variables (from tensorflow.python.ops.variables) is deprecated and will be removed after 2017-03-02.\n",
      "Instructions for updating:\n",
      "Use `tf.variables_initializer` instead.\n"
     ]
    },
    {
     "name": "stderr",
     "output_type": "stream",
     "text": [
      "[2017-06-24 16:49:07,420] From /Users/admin/Documents/CU_Courses/cs294_deeprl/homework/hw1/tf_util.py:92: initialize_variables (from tensorflow.python.ops.variables) is deprecated and will be removed after 2017-03-02.\n",
      "Instructions for updating:\n",
      "Use `tf.variables_initializer` instead.\n"
     ]
    },
    {
     "name": "stdout",
     "output_type": "stream",
     "text": [
      "WARNING:tensorflow:From /Users/admin/Documents/CU_Courses/cs294_deeprl/homework/hw1/tf_util.py:91: all_variables (from tensorflow.python.ops.variables) is deprecated and will be removed after 2017-03-02.\n",
      "Instructions for updating:\n",
      "Please use tf.global_variables instead.\n"
     ]
    },
    {
     "name": "stderr",
     "output_type": "stream",
     "text": [
      "[2017-06-24 16:49:10,114] From /Users/admin/Documents/CU_Courses/cs294_deeprl/homework/hw1/tf_util.py:91: all_variables (from tensorflow.python.ops.variables) is deprecated and will be removed after 2017-03-02.\n",
      "Instructions for updating:\n",
      "Please use tf.global_variables instead.\n"
     ]
    },
    {
     "name": "stdout",
     "output_type": "stream",
     "text": [
      "WARNING:tensorflow:From /Users/admin/Documents/CU_Courses/cs294_deeprl/homework/hw1/tf_util.py:92: initialize_variables (from tensorflow.python.ops.variables) is deprecated and will be removed after 2017-03-02.\n",
      "Instructions for updating:\n",
      "Use `tf.variables_initializer` instead.\n"
     ]
    },
    {
     "name": "stderr",
     "output_type": "stream",
     "text": [
      "[2017-06-24 16:49:10,118] From /Users/admin/Documents/CU_Courses/cs294_deeprl/homework/hw1/tf_util.py:92: initialize_variables (from tensorflow.python.ops.variables) is deprecated and will be removed after 2017-03-02.\n",
      "Instructions for updating:\n",
      "Use `tf.variables_initializer` instead.\n",
      "[2017-06-24 16:49:12,767] Making new env: Ant-v1\n"
     ]
    },
    {
     "name": "stdout",
     "output_type": "stream",
     "text": [
      "rollout_num 0\n",
      "100/3000\n",
      "200/3000\n",
      "300/3000\n",
      "400/3000\n",
      "500/3000\n",
      "600/3000\n",
      "700/3000\n",
      "800/3000\n",
      "900/3000\n",
      "1000/3000\n",
      "rollout_num 1\n",
      "100/3000\n",
      "200/3000\n",
      "300/3000\n",
      "400/3000\n",
      "500/3000\n",
      "600/3000\n",
      "700/3000\n",
      "800/3000\n",
      "900/3000\n",
      "1000/3000\n",
      "rollout_num 2\n",
      "100/3000\n",
      "200/3000\n",
      "300/3000\n",
      "400/3000\n",
      "500/3000\n",
      "600/3000\n",
      "700/3000\n",
      "800/3000\n",
      "900/3000\n",
      "1000/3000\n",
      "Epoch 1/1\n",
      "3000/3000 [==============================] - 0s - loss: 0.0130     \n",
      "Epoch 1/1\n",
      "3000/3000 [==============================] - 0s - loss: 0.0120     "
     ]
    },
    {
     "name": "stderr",
     "output_type": "stream",
     "text": [
      "[2017-06-24 16:49:20,022] Making new env: Ant-v1\n"
     ]
    },
    {
     "name": "stdout",
     "output_type": "stream",
     "text": [
      "\n",
      "rollout_num 0\n",
      "100/1000\n",
      "200/1000\n",
      "300/1000\n",
      "400/1000\n",
      "500/1000\n",
      "600/1000\n",
      "700/1000\n",
      "800/1000\n",
      "900/1000\n",
      "1000/1000\n",
      "rollout_num 1\n",
      "100/1000\n",
      "200/1000\n",
      "300/1000\n",
      "400/1000\n",
      "500/1000\n",
      "600/1000\n",
      "700/1000\n",
      "800/1000\n",
      "900/1000\n",
      "1000/1000\n",
      "rollout_num 2\n",
      "100/1000\n",
      "200/1000\n",
      "300/1000\n",
      "400/1000\n",
      "500/1000\n",
      "600/1000\n",
      "700/1000\n",
      "800/1000\n",
      "900/1000\n"
     ]
    },
    {
     "name": "stderr",
     "output_type": "stream",
     "text": [
      "[2017-06-24 16:49:28,461] Making new env: Ant-v1\n"
     ]
    },
    {
     "name": "stdout",
     "output_type": "stream",
     "text": [
      "1000/1000\n",
      "rollout_num 0\n",
      "100/1000\n",
      "200/1000\n",
      "300/1000\n",
      "400/1000\n",
      "500/1000\n",
      "600/1000\n",
      "700/1000\n",
      "800/1000\n",
      "900/1000\n",
      "1000/1000\n",
      "rollout_num 1\n",
      "100/1000\n",
      "200/1000\n",
      "300/1000\n",
      "400/1000\n",
      "500/1000\n",
      "600/1000\n",
      "700/1000\n",
      "800/1000\n",
      "900/1000\n"
     ]
    },
    {
     "name": "stderr",
     "output_type": "stream",
     "text": [
      "[2017-06-24 16:49:34,266] Making new env: Ant-v1\n"
     ]
    },
    {
     "name": "stdout",
     "output_type": "stream",
     "text": [
      "1000/1000\n",
      "rollout_num 0\n",
      "100/1000\n",
      "200/1000\n",
      "300/1000\n",
      "400/1000\n",
      "500/1000\n",
      "600/1000\n",
      "700/1000\n",
      "800/1000\n",
      "900/1000\n",
      "1000/1000\n",
      "rollout_num 1\n",
      "100/1000\n",
      "200/1000\n",
      "300/1000\n",
      "400/1000\n",
      "500/1000\n",
      "600/1000\n",
      "700/1000\n",
      "800/1000\n",
      "900/1000\n",
      "1000/1000\n",
      "WARNING:tensorflow:From /Users/admin/Documents/CU_Courses/cs294_deeprl/homework/hw1/tf_util.py:91: all_variables (from tensorflow.python.ops.variables) is deprecated and will be removed after 2017-03-02.\n",
      "Instructions for updating:\n",
      "Please use tf.global_variables instead.\n"
     ]
    },
    {
     "name": "stderr",
     "output_type": "stream",
     "text": [
      "[2017-06-24 16:49:39,189] From /Users/admin/Documents/CU_Courses/cs294_deeprl/homework/hw1/tf_util.py:91: all_variables (from tensorflow.python.ops.variables) is deprecated and will be removed after 2017-03-02.\n",
      "Instructions for updating:\n",
      "Please use tf.global_variables instead.\n"
     ]
    },
    {
     "name": "stdout",
     "output_type": "stream",
     "text": [
      "WARNING:tensorflow:From /Users/admin/Documents/CU_Courses/cs294_deeprl/homework/hw1/tf_util.py:92: initialize_variables (from tensorflow.python.ops.variables) is deprecated and will be removed after 2017-03-02.\n",
      "Instructions for updating:\n",
      "Use `tf.variables_initializer` instead.\n"
     ]
    },
    {
     "name": "stderr",
     "output_type": "stream",
     "text": [
      "[2017-06-24 16:49:39,192] From /Users/admin/Documents/CU_Courses/cs294_deeprl/homework/hw1/tf_util.py:92: initialize_variables (from tensorflow.python.ops.variables) is deprecated and will be removed after 2017-03-02.\n",
      "Instructions for updating:\n",
      "Use `tf.variables_initializer` instead.\n",
      "[2017-06-24 16:49:42,207] Making new env: Ant-v1\n"
     ]
    },
    {
     "name": "stdout",
     "output_type": "stream",
     "text": [
      "rollout_num 0\n",
      "100/1000\n",
      "200/1000\n",
      "300/1000\n",
      "400/1000\n",
      "500/1000\n",
      "600/1000\n",
      "700/1000\n",
      "800/1000\n",
      "900/1000\n",
      "1000/1000\n",
      "rollout_num 1\n",
      "100/1000\n",
      "200/1000\n",
      "300/1000\n",
      "400/1000\n",
      "500/1000\n",
      "600/1000\n",
      "700/1000\n",
      "800/1000\n",
      "900/1000\n",
      "1000/1000\n",
      "WARNING:tensorflow:From /Users/admin/Documents/CU_Courses/cs294_deeprl/homework/hw1/tf_util.py:91: all_variables (from tensorflow.python.ops.variables) is deprecated and will be removed after 2017-03-02.\n",
      "Instructions for updating:\n",
      "Please use tf.global_variables instead.\n"
     ]
    },
    {
     "name": "stderr",
     "output_type": "stream",
     "text": [
      "[2017-06-24 16:49:46,668] From /Users/admin/Documents/CU_Courses/cs294_deeprl/homework/hw1/tf_util.py:91: all_variables (from tensorflow.python.ops.variables) is deprecated and will be removed after 2017-03-02.\n",
      "Instructions for updating:\n",
      "Please use tf.global_variables instead.\n"
     ]
    },
    {
     "name": "stdout",
     "output_type": "stream",
     "text": [
      "WARNING:tensorflow:From /Users/admin/Documents/CU_Courses/cs294_deeprl/homework/hw1/tf_util.py:92: initialize_variables (from tensorflow.python.ops.variables) is deprecated and will be removed after 2017-03-02.\n",
      "Instructions for updating:\n",
      "Use `tf.variables_initializer` instead.\n"
     ]
    },
    {
     "name": "stderr",
     "output_type": "stream",
     "text": [
      "[2017-06-24 16:49:46,671] From /Users/admin/Documents/CU_Courses/cs294_deeprl/homework/hw1/tf_util.py:92: initialize_variables (from tensorflow.python.ops.variables) is deprecated and will be removed after 2017-03-02.\n",
      "Instructions for updating:\n",
      "Use `tf.variables_initializer` instead.\n"
     ]
    },
    {
     "name": "stdout",
     "output_type": "stream",
     "text": [
      "WARNING:tensorflow:From /Users/admin/Documents/CU_Courses/cs294_deeprl/homework/hw1/tf_util.py:91: all_variables (from tensorflow.python.ops.variables) is deprecated and will be removed after 2017-03-02.\n",
      "Instructions for updating:\n",
      "Please use tf.global_variables instead.\n"
     ]
    },
    {
     "name": "stderr",
     "output_type": "stream",
     "text": [
      "[2017-06-24 16:49:49,379] From /Users/admin/Documents/CU_Courses/cs294_deeprl/homework/hw1/tf_util.py:91: all_variables (from tensorflow.python.ops.variables) is deprecated and will be removed after 2017-03-02.\n",
      "Instructions for updating:\n",
      "Please use tf.global_variables instead.\n"
     ]
    },
    {
     "name": "stdout",
     "output_type": "stream",
     "text": [
      "WARNING:tensorflow:From /Users/admin/Documents/CU_Courses/cs294_deeprl/homework/hw1/tf_util.py:92: initialize_variables (from tensorflow.python.ops.variables) is deprecated and will be removed after 2017-03-02.\n",
      "Instructions for updating:\n",
      "Use `tf.variables_initializer` instead.\n"
     ]
    },
    {
     "name": "stderr",
     "output_type": "stream",
     "text": [
      "[2017-06-24 16:49:49,383] From /Users/admin/Documents/CU_Courses/cs294_deeprl/homework/hw1/tf_util.py:92: initialize_variables (from tensorflow.python.ops.variables) is deprecated and will be removed after 2017-03-02.\n",
      "Instructions for updating:\n",
      "Use `tf.variables_initializer` instead.\n",
      "[2017-06-24 16:49:52,096] Making new env: Ant-v1\n"
     ]
    },
    {
     "name": "stdout",
     "output_type": "stream",
     "text": [
      "rollout_num 0\n",
      "100/3000\n",
      "200/3000\n",
      "300/3000\n",
      "400/3000\n",
      "500/3000\n",
      "600/3000\n",
      "700/3000\n",
      "800/3000\n",
      "900/3000\n",
      "1000/3000\n",
      "rollout_num 1\n",
      "100/3000\n",
      "200/3000\n",
      "300/3000\n",
      "400/3000\n",
      "500/3000\n",
      "600/3000\n",
      "700/3000\n",
      "800/3000\n",
      "900/3000\n",
      "1000/3000\n",
      "rollout_num 2\n",
      "100/3000\n",
      "200/3000\n",
      "300/3000\n",
      "400/3000\n",
      "500/3000\n",
      "600/3000\n",
      "700/3000\n",
      "800/3000\n",
      "900/3000\n",
      "1000/3000\n",
      "Epoch 1/1\n",
      "3000/3000 [==============================] - 0s - loss: 0.0129     \n",
      "Epoch 1/1\n",
      "3000/3000 [==============================] - 0s - loss: 0.0290     "
     ]
    },
    {
     "name": "stderr",
     "output_type": "stream",
     "text": [
      "[2017-06-24 16:49:59,779] Making new env: Ant-v1\n"
     ]
    },
    {
     "name": "stdout",
     "output_type": "stream",
     "text": [
      "\n",
      "rollout_num 0\n",
      "100/1000\n",
      "200/1000\n",
      "300/1000\n",
      "400/1000\n",
      "500/1000\n",
      "600/1000\n",
      "700/1000\n",
      "800/1000\n",
      "900/1000\n",
      "1000/1000\n",
      "rollout_num 1\n",
      "100/1000\n",
      "200/1000\n",
      "300/1000\n",
      "400/1000\n",
      "500/1000\n",
      "600/1000\n",
      "700/1000\n",
      "800/1000\n",
      "900/1000\n",
      "1000/1000\n",
      "rollout_num 2\n",
      "100/1000\n",
      "200/1000\n",
      "300/1000\n",
      "400/1000\n",
      "500/1000\n",
      "600/1000\n",
      "700/1000\n",
      "800/1000\n",
      "900/1000\n"
     ]
    },
    {
     "name": "stderr",
     "output_type": "stream",
     "text": [
      "[2017-06-24 16:50:07,826] Making new env: Ant-v1\n"
     ]
    },
    {
     "name": "stdout",
     "output_type": "stream",
     "text": [
      "1000/1000\n",
      "rollout_num 0\n",
      "100/1000\n",
      "200/1000\n",
      "300/1000\n",
      "400/1000\n",
      "500/1000\n",
      "600/1000\n",
      "700/1000\n",
      "800/1000\n",
      "900/1000\n",
      "1000/1000\n",
      "rollout_num 1\n",
      "100/1000\n",
      "200/1000\n",
      "300/1000\n",
      "400/1000\n",
      "500/1000\n",
      "600/1000\n",
      "700/1000\n",
      "800/1000\n",
      "900/1000\n"
     ]
    },
    {
     "name": "stderr",
     "output_type": "stream",
     "text": [
      "[2017-06-24 16:50:12,880] Making new env: Ant-v1\n"
     ]
    },
    {
     "name": "stdout",
     "output_type": "stream",
     "text": [
      "1000/1000\n",
      "rollout_num 0\n",
      "100/1000\n",
      "200/1000\n",
      "300/1000\n",
      "400/1000\n",
      "500/1000\n",
      "600/1000\n",
      "700/1000\n",
      "800/1000\n",
      "900/1000\n",
      "1000/1000\n",
      "rollout_num 1\n",
      "100/1000\n",
      "200/1000\n",
      "WARNING:tensorflow:From /Users/admin/Documents/CU_Courses/cs294_deeprl/homework/hw1/tf_util.py:91: all_variables (from tensorflow.python.ops.variables) is deprecated and will be removed after 2017-03-02.\n",
      "Instructions for updating:\n",
      "Please use tf.global_variables instead.\n"
     ]
    },
    {
     "name": "stderr",
     "output_type": "stream",
     "text": [
      "[2017-06-24 16:50:15,933] From /Users/admin/Documents/CU_Courses/cs294_deeprl/homework/hw1/tf_util.py:91: all_variables (from tensorflow.python.ops.variables) is deprecated and will be removed after 2017-03-02.\n",
      "Instructions for updating:\n",
      "Please use tf.global_variables instead.\n"
     ]
    },
    {
     "name": "stdout",
     "output_type": "stream",
     "text": [
      "WARNING:tensorflow:From /Users/admin/Documents/CU_Courses/cs294_deeprl/homework/hw1/tf_util.py:92: initialize_variables (from tensorflow.python.ops.variables) is deprecated and will be removed after 2017-03-02.\n",
      "Instructions for updating:\n",
      "Use `tf.variables_initializer` instead.\n"
     ]
    },
    {
     "name": "stderr",
     "output_type": "stream",
     "text": [
      "[2017-06-24 16:50:15,938] From /Users/admin/Documents/CU_Courses/cs294_deeprl/homework/hw1/tf_util.py:92: initialize_variables (from tensorflow.python.ops.variables) is deprecated and will be removed after 2017-03-02.\n",
      "Instructions for updating:\n",
      "Use `tf.variables_initializer` instead.\n",
      "[2017-06-24 16:50:18,351] Making new env: Ant-v1\n"
     ]
    },
    {
     "name": "stdout",
     "output_type": "stream",
     "text": [
      "rollout_num 0\n",
      "100/1000\n",
      "200/1000\n",
      "300/1000\n",
      "400/1000\n",
      "500/1000\n",
      "600/1000\n",
      "700/1000\n",
      "800/1000\n",
      "900/1000\n",
      "1000/1000\n",
      "rollout_num 1\n",
      "100/1000\n",
      "200/1000\n",
      "300/1000\n",
      "400/1000\n",
      "500/1000\n",
      "600/1000\n",
      "700/1000\n",
      "800/1000\n",
      "900/1000\n",
      "1000/1000\n",
      "WARNING:tensorflow:From /Users/admin/Documents/CU_Courses/cs294_deeprl/homework/hw1/tf_util.py:91: all_variables (from tensorflow.python.ops.variables) is deprecated and will be removed after 2017-03-02.\n",
      "Instructions for updating:\n",
      "Please use tf.global_variables instead.\n"
     ]
    },
    {
     "name": "stderr",
     "output_type": "stream",
     "text": [
      "[2017-06-24 16:50:22,797] From /Users/admin/Documents/CU_Courses/cs294_deeprl/homework/hw1/tf_util.py:91: all_variables (from tensorflow.python.ops.variables) is deprecated and will be removed after 2017-03-02.\n",
      "Instructions for updating:\n",
      "Please use tf.global_variables instead.\n"
     ]
    },
    {
     "name": "stdout",
     "output_type": "stream",
     "text": [
      "WARNING:tensorflow:From /Users/admin/Documents/CU_Courses/cs294_deeprl/homework/hw1/tf_util.py:92: initialize_variables (from tensorflow.python.ops.variables) is deprecated and will be removed after 2017-03-02.\n",
      "Instructions for updating:\n",
      "Use `tf.variables_initializer` instead.\n"
     ]
    },
    {
     "name": "stderr",
     "output_type": "stream",
     "text": [
      "[2017-06-24 16:50:22,801] From /Users/admin/Documents/CU_Courses/cs294_deeprl/homework/hw1/tf_util.py:92: initialize_variables (from tensorflow.python.ops.variables) is deprecated and will be removed after 2017-03-02.\n",
      "Instructions for updating:\n",
      "Use `tf.variables_initializer` instead.\n"
     ]
    },
    {
     "name": "stdout",
     "output_type": "stream",
     "text": [
      "WARNING:tensorflow:From /Users/admin/Documents/CU_Courses/cs294_deeprl/homework/hw1/tf_util.py:91: all_variables (from tensorflow.python.ops.variables) is deprecated and will be removed after 2017-03-02.\n",
      "Instructions for updating:\n",
      "Please use tf.global_variables instead.\n"
     ]
    },
    {
     "name": "stderr",
     "output_type": "stream",
     "text": [
      "[2017-06-24 16:50:25,480] From /Users/admin/Documents/CU_Courses/cs294_deeprl/homework/hw1/tf_util.py:91: all_variables (from tensorflow.python.ops.variables) is deprecated and will be removed after 2017-03-02.\n",
      "Instructions for updating:\n",
      "Please use tf.global_variables instead.\n"
     ]
    },
    {
     "name": "stdout",
     "output_type": "stream",
     "text": [
      "WARNING:tensorflow:From /Users/admin/Documents/CU_Courses/cs294_deeprl/homework/hw1/tf_util.py:92: initialize_variables (from tensorflow.python.ops.variables) is deprecated and will be removed after 2017-03-02.\n",
      "Instructions for updating:\n",
      "Use `tf.variables_initializer` instead.\n"
     ]
    },
    {
     "name": "stderr",
     "output_type": "stream",
     "text": [
      "[2017-06-24 16:50:25,486] From /Users/admin/Documents/CU_Courses/cs294_deeprl/homework/hw1/tf_util.py:92: initialize_variables (from tensorflow.python.ops.variables) is deprecated and will be removed after 2017-03-02.\n",
      "Instructions for updating:\n",
      "Use `tf.variables_initializer` instead.\n",
      "[2017-06-24 16:50:28,172] Making new env: Ant-v1\n"
     ]
    },
    {
     "name": "stdout",
     "output_type": "stream",
     "text": [
      "rollout_num 0\n",
      "100/3000\n",
      "200/3000\n",
      "300/3000\n",
      "400/3000\n",
      "500/3000\n",
      "600/3000\n",
      "700/3000\n",
      "800/3000\n",
      "900/3000\n",
      "1000/3000\n",
      "rollout_num 1\n",
      "100/3000\n",
      "200/3000\n",
      "300/3000\n",
      "400/3000\n",
      "500/3000\n",
      "600/3000\n",
      "700/3000\n",
      "800/3000\n",
      "900/3000\n",
      "1000/3000\n",
      "rollout_num 2\n",
      "100/3000\n",
      "200/3000\n",
      "300/3000\n",
      "400/3000\n",
      "500/3000\n",
      "600/3000\n",
      "700/3000\n",
      "800/3000\n",
      "900/3000\n",
      "1000/3000\n",
      "Epoch 1/1\n",
      "3000/3000 [==============================] - 0s - loss: 0.0122     \n",
      "Epoch 1/1\n",
      "3000/3000 [==============================] - 0s - loss: 0.0271     "
     ]
    },
    {
     "name": "stderr",
     "output_type": "stream",
     "text": [
      "[2017-06-24 16:50:35,588] Making new env: Ant-v1\n"
     ]
    },
    {
     "name": "stdout",
     "output_type": "stream",
     "text": [
      "\n",
      "rollout_num 0\n",
      "100/1000\n",
      "200/1000\n",
      "300/1000\n",
      "400/1000\n",
      "500/1000\n",
      "600/1000\n",
      "700/1000\n",
      "800/1000\n",
      "900/1000\n",
      "1000/1000\n",
      "rollout_num 1\n",
      "100/1000\n",
      "200/1000\n",
      "300/1000\n",
      "400/1000\n",
      "500/1000\n",
      "600/1000\n",
      "700/1000\n",
      "800/1000\n",
      "900/1000\n",
      "1000/1000\n",
      "rollout_num 2\n",
      "100/1000\n",
      "200/1000\n",
      "300/1000\n",
      "400/1000\n",
      "500/1000\n",
      "600/1000\n",
      "700/1000\n",
      "800/1000\n",
      "900/1000\n"
     ]
    },
    {
     "name": "stderr",
     "output_type": "stream",
     "text": [
      "[2017-06-24 16:50:43,054] Making new env: Ant-v1\n"
     ]
    },
    {
     "name": "stdout",
     "output_type": "stream",
     "text": [
      "1000/1000\n",
      "rollout_num 0\n",
      "100/1000\n",
      "200/1000\n",
      "300/1000\n",
      "400/1000\n",
      "500/1000\n",
      "600/1000\n",
      "700/1000\n",
      "800/1000\n",
      "900/1000\n",
      "1000/1000\n",
      "rollout_num 1\n",
      "100/1000\n",
      "200/1000\n",
      "300/1000\n",
      "400/1000\n",
      "500/1000\n",
      "600/1000\n",
      "700/1000\n",
      "800/1000\n",
      "900/1000\n"
     ]
    },
    {
     "name": "stderr",
     "output_type": "stream",
     "text": [
      "[2017-06-24 16:50:47,990] Making new env: Ant-v1\n"
     ]
    },
    {
     "name": "stdout",
     "output_type": "stream",
     "text": [
      "1000/1000\n",
      "rollout_num 0\n",
      "100/1000\n",
      "200/1000\n",
      "300/1000\n",
      "400/1000\n",
      "500/1000\n",
      "600/1000\n",
      "700/1000\n",
      "800/1000\n",
      "900/1000\n",
      "1000/1000\n",
      "rollout_num 1\n",
      "100/1000\n",
      "200/1000\n",
      "300/1000\n",
      "400/1000\n",
      "500/1000\n",
      "600/1000\n",
      "700/1000\n",
      "800/1000\n",
      "900/1000\n",
      "1000/1000\n",
      "WARNING:tensorflow:From /Users/admin/Documents/CU_Courses/cs294_deeprl/homework/hw1/tf_util.py:91: all_variables (from tensorflow.python.ops.variables) is deprecated and will be removed after 2017-03-02.\n",
      "Instructions for updating:\n",
      "Please use tf.global_variables instead.\n"
     ]
    },
    {
     "name": "stderr",
     "output_type": "stream",
     "text": [
      "[2017-06-24 16:50:53,001] From /Users/admin/Documents/CU_Courses/cs294_deeprl/homework/hw1/tf_util.py:91: all_variables (from tensorflow.python.ops.variables) is deprecated and will be removed after 2017-03-02.\n",
      "Instructions for updating:\n",
      "Please use tf.global_variables instead.\n"
     ]
    },
    {
     "name": "stdout",
     "output_type": "stream",
     "text": [
      "WARNING:tensorflow:From /Users/admin/Documents/CU_Courses/cs294_deeprl/homework/hw1/tf_util.py:92: initialize_variables (from tensorflow.python.ops.variables) is deprecated and will be removed after 2017-03-02.\n",
      "Instructions for updating:\n",
      "Use `tf.variables_initializer` instead.\n"
     ]
    },
    {
     "name": "stderr",
     "output_type": "stream",
     "text": [
      "[2017-06-24 16:50:53,004] From /Users/admin/Documents/CU_Courses/cs294_deeprl/homework/hw1/tf_util.py:92: initialize_variables (from tensorflow.python.ops.variables) is deprecated and will be removed after 2017-03-02.\n",
      "Instructions for updating:\n",
      "Use `tf.variables_initializer` instead.\n",
      "[2017-06-24 16:50:55,388] Making new env: Ant-v1\n"
     ]
    },
    {
     "name": "stdout",
     "output_type": "stream",
     "text": [
      "rollout_num 0\n",
      "100/1000\n",
      "200/1000\n",
      "300/1000\n",
      "400/1000\n",
      "500/1000\n",
      "600/1000\n",
      "700/1000\n",
      "800/1000\n",
      "900/1000\n",
      "1000/1000\n",
      "rollout_num 1\n",
      "100/1000\n",
      "200/1000\n",
      "300/1000\n",
      "400/1000\n",
      "500/1000\n",
      "600/1000\n",
      "700/1000\n",
      "800/1000\n",
      "900/1000\n",
      "1000/1000\n",
      "WARNING:tensorflow:From /Users/admin/Documents/CU_Courses/cs294_deeprl/homework/hw1/tf_util.py:91: all_variables (from tensorflow.python.ops.variables) is deprecated and will be removed after 2017-03-02.\n",
      "Instructions for updating:\n",
      "Please use tf.global_variables instead.\n"
     ]
    },
    {
     "name": "stderr",
     "output_type": "stream",
     "text": [
      "[2017-06-24 16:50:59,817] From /Users/admin/Documents/CU_Courses/cs294_deeprl/homework/hw1/tf_util.py:91: all_variables (from tensorflow.python.ops.variables) is deprecated and will be removed after 2017-03-02.\n",
      "Instructions for updating:\n",
      "Please use tf.global_variables instead.\n"
     ]
    },
    {
     "name": "stdout",
     "output_type": "stream",
     "text": [
      "WARNING:tensorflow:From /Users/admin/Documents/CU_Courses/cs294_deeprl/homework/hw1/tf_util.py:92: initialize_variables (from tensorflow.python.ops.variables) is deprecated and will be removed after 2017-03-02.\n",
      "Instructions for updating:\n",
      "Use `tf.variables_initializer` instead.\n"
     ]
    },
    {
     "name": "stderr",
     "output_type": "stream",
     "text": [
      "[2017-06-24 16:50:59,820] From /Users/admin/Documents/CU_Courses/cs294_deeprl/homework/hw1/tf_util.py:92: initialize_variables (from tensorflow.python.ops.variables) is deprecated and will be removed after 2017-03-02.\n",
      "Instructions for updating:\n",
      "Use `tf.variables_initializer` instead.\n"
     ]
    },
    {
     "name": "stdout",
     "output_type": "stream",
     "text": [
      "WARNING:tensorflow:From /Users/admin/Documents/CU_Courses/cs294_deeprl/homework/hw1/tf_util.py:91: all_variables (from tensorflow.python.ops.variables) is deprecated and will be removed after 2017-03-02.\n",
      "Instructions for updating:\n",
      "Please use tf.global_variables instead.\n"
     ]
    },
    {
     "name": "stderr",
     "output_type": "stream",
     "text": [
      "[2017-06-24 16:51:02,575] From /Users/admin/Documents/CU_Courses/cs294_deeprl/homework/hw1/tf_util.py:91: all_variables (from tensorflow.python.ops.variables) is deprecated and will be removed after 2017-03-02.\n",
      "Instructions for updating:\n",
      "Please use tf.global_variables instead.\n"
     ]
    },
    {
     "name": "stdout",
     "output_type": "stream",
     "text": [
      "WARNING:tensorflow:From /Users/admin/Documents/CU_Courses/cs294_deeprl/homework/hw1/tf_util.py:92: initialize_variables (from tensorflow.python.ops.variables) is deprecated and will be removed after 2017-03-02.\n",
      "Instructions for updating:\n",
      "Use `tf.variables_initializer` instead.\n"
     ]
    },
    {
     "name": "stderr",
     "output_type": "stream",
     "text": [
      "[2017-06-24 16:51:02,579] From /Users/admin/Documents/CU_Courses/cs294_deeprl/homework/hw1/tf_util.py:92: initialize_variables (from tensorflow.python.ops.variables) is deprecated and will be removed after 2017-03-02.\n",
      "Instructions for updating:\n",
      "Use `tf.variables_initializer` instead.\n",
      "[2017-06-24 16:51:05,243] Making new env: Ant-v1\n"
     ]
    },
    {
     "name": "stdout",
     "output_type": "stream",
     "text": [
      "rollout_num 0\n",
      "100/3000\n",
      "200/3000\n",
      "300/3000\n",
      "400/3000\n",
      "500/3000\n",
      "600/3000\n",
      "700/3000\n",
      "800/3000\n",
      "900/3000\n",
      "1000/3000\n",
      "rollout_num 1\n",
      "100/3000\n",
      "200/3000\n",
      "300/3000\n",
      "400/3000\n",
      "500/3000\n",
      "600/3000\n",
      "700/3000\n",
      "800/3000\n",
      "900/3000\n",
      "1000/3000\n",
      "rollout_num 2\n",
      "100/3000\n",
      "200/3000\n",
      "300/3000\n",
      "400/3000\n",
      "500/3000\n",
      "600/3000\n",
      "700/3000\n",
      "800/3000\n",
      "900/3000\n",
      "1000/3000\n",
      "Epoch 1/1\n",
      "3000/3000 [==============================] - 0s - loss: 0.0111     \n",
      "Epoch 1/1\n",
      "3000/3000 [==============================] - 0s - loss: 0.0322     "
     ]
    },
    {
     "name": "stderr",
     "output_type": "stream",
     "text": [
      "[2017-06-24 16:51:12,575] Making new env: Ant-v1\n"
     ]
    },
    {
     "name": "stdout",
     "output_type": "stream",
     "text": [
      "\n",
      "rollout_num 0\n",
      "100/1000\n",
      "200/1000\n",
      "300/1000\n",
      "400/1000\n",
      "500/1000\n",
      "600/1000\n",
      "700/1000\n",
      "800/1000\n",
      "900/1000\n",
      "1000/1000\n",
      "rollout_num 1\n",
      "100/1000\n",
      "200/1000\n",
      "300/1000\n",
      "400/1000\n",
      "500/1000\n",
      "600/1000\n",
      "700/1000\n",
      "800/1000\n",
      "900/1000\n",
      "1000/1000\n",
      "rollout_num 2\n",
      "100/1000\n",
      "200/1000\n",
      "300/1000\n",
      "400/1000\n",
      "500/1000\n",
      "600/1000\n",
      "700/1000\n",
      "800/1000\n",
      "900/1000\n"
     ]
    },
    {
     "name": "stderr",
     "output_type": "stream",
     "text": [
      "[2017-06-24 16:51:19,900] Making new env: Ant-v1\n"
     ]
    },
    {
     "name": "stdout",
     "output_type": "stream",
     "text": [
      "1000/1000\n",
      "rollout_num 0\n",
      "100/1000\n",
      "200/1000\n",
      "300/1000\n",
      "400/1000\n",
      "500/1000\n",
      "600/1000\n",
      "700/1000\n",
      "800/1000\n",
      "900/1000\n",
      "1000/1000\n",
      "rollout_num 1\n",
      "100/1000\n",
      "200/1000\n",
      "300/1000\n",
      "400/1000\n",
      "500/1000\n",
      "600/1000\n",
      "700/1000\n",
      "800/1000\n",
      "900/1000\n"
     ]
    },
    {
     "name": "stderr",
     "output_type": "stream",
     "text": [
      "[2017-06-24 16:51:25,927] Making new env: Ant-v1\n"
     ]
    },
    {
     "name": "stdout",
     "output_type": "stream",
     "text": [
      "1000/1000\n",
      "rollout_num 0\n",
      "100/1000\n",
      "200/1000\n",
      "300/1000\n",
      "400/1000\n",
      "500/1000\n",
      "600/1000\n",
      "700/1000\n",
      "800/1000\n",
      "900/1000\n",
      "1000/1000\n",
      "rollout_num 1\n",
      "100/1000\n",
      "200/1000\n",
      "300/1000\n",
      "400/1000\n",
      "500/1000\n",
      "600/1000\n",
      "700/1000\n",
      "800/1000\n",
      "900/1000\n",
      "1000/1000\n",
      "WARNING:tensorflow:From /Users/admin/Documents/CU_Courses/cs294_deeprl/homework/hw1/tf_util.py:91: all_variables (from tensorflow.python.ops.variables) is deprecated and will be removed after 2017-03-02.\n",
      "Instructions for updating:\n",
      "Please use tf.global_variables instead.\n"
     ]
    },
    {
     "name": "stderr",
     "output_type": "stream",
     "text": [
      "[2017-06-24 16:51:31,135] From /Users/admin/Documents/CU_Courses/cs294_deeprl/homework/hw1/tf_util.py:91: all_variables (from tensorflow.python.ops.variables) is deprecated and will be removed after 2017-03-02.\n",
      "Instructions for updating:\n",
      "Please use tf.global_variables instead.\n"
     ]
    },
    {
     "name": "stdout",
     "output_type": "stream",
     "text": [
      "WARNING:tensorflow:From /Users/admin/Documents/CU_Courses/cs294_deeprl/homework/hw1/tf_util.py:92: initialize_variables (from tensorflow.python.ops.variables) is deprecated and will be removed after 2017-03-02.\n",
      "Instructions for updating:\n",
      "Use `tf.variables_initializer` instead.\n"
     ]
    },
    {
     "name": "stderr",
     "output_type": "stream",
     "text": [
      "[2017-06-24 16:51:31,138] From /Users/admin/Documents/CU_Courses/cs294_deeprl/homework/hw1/tf_util.py:92: initialize_variables (from tensorflow.python.ops.variables) is deprecated and will be removed after 2017-03-02.\n",
      "Instructions for updating:\n",
      "Use `tf.variables_initializer` instead.\n",
      "[2017-06-24 16:51:33,542] Making new env: Ant-v1\n"
     ]
    },
    {
     "name": "stdout",
     "output_type": "stream",
     "text": [
      "rollout_num 0\n",
      "100/1000\n",
      "200/1000\n",
      "300/1000\n",
      "400/1000\n",
      "500/1000\n",
      "600/1000\n",
      "700/1000\n",
      "800/1000\n",
      "900/1000\n",
      "1000/1000\n",
      "rollout_num 1\n",
      "100/1000\n",
      "200/1000\n",
      "300/1000\n",
      "400/1000\n",
      "500/1000\n",
      "600/1000\n",
      "700/1000\n",
      "800/1000\n",
      "900/1000\n",
      "1000/1000\n",
      "WARNING:tensorflow:From /Users/admin/Documents/CU_Courses/cs294_deeprl/homework/hw1/tf_util.py:91: all_variables (from tensorflow.python.ops.variables) is deprecated and will be removed after 2017-03-02.\n",
      "Instructions for updating:\n",
      "Please use tf.global_variables instead.\n"
     ]
    },
    {
     "name": "stderr",
     "output_type": "stream",
     "text": [
      "[2017-06-24 16:51:37,978] From /Users/admin/Documents/CU_Courses/cs294_deeprl/homework/hw1/tf_util.py:91: all_variables (from tensorflow.python.ops.variables) is deprecated and will be removed after 2017-03-02.\n",
      "Instructions for updating:\n",
      "Please use tf.global_variables instead.\n"
     ]
    },
    {
     "name": "stdout",
     "output_type": "stream",
     "text": [
      "WARNING:tensorflow:From /Users/admin/Documents/CU_Courses/cs294_deeprl/homework/hw1/tf_util.py:92: initialize_variables (from tensorflow.python.ops.variables) is deprecated and will be removed after 2017-03-02.\n",
      "Instructions for updating:\n",
      "Use `tf.variables_initializer` instead.\n"
     ]
    },
    {
     "name": "stderr",
     "output_type": "stream",
     "text": [
      "[2017-06-24 16:51:37,983] From /Users/admin/Documents/CU_Courses/cs294_deeprl/homework/hw1/tf_util.py:92: initialize_variables (from tensorflow.python.ops.variables) is deprecated and will be removed after 2017-03-02.\n",
      "Instructions for updating:\n",
      "Use `tf.variables_initializer` instead.\n"
     ]
    },
    {
     "name": "stdout",
     "output_type": "stream",
     "text": [
      "WARNING:tensorflow:From /Users/admin/Documents/CU_Courses/cs294_deeprl/homework/hw1/tf_util.py:91: all_variables (from tensorflow.python.ops.variables) is deprecated and will be removed after 2017-03-02.\n",
      "Instructions for updating:\n",
      "Please use tf.global_variables instead.\n"
     ]
    },
    {
     "name": "stderr",
     "output_type": "stream",
     "text": [
      "[2017-06-24 16:51:40,611] From /Users/admin/Documents/CU_Courses/cs294_deeprl/homework/hw1/tf_util.py:91: all_variables (from tensorflow.python.ops.variables) is deprecated and will be removed after 2017-03-02.\n",
      "Instructions for updating:\n",
      "Please use tf.global_variables instead.\n"
     ]
    },
    {
     "name": "stdout",
     "output_type": "stream",
     "text": [
      "WARNING:tensorflow:From /Users/admin/Documents/CU_Courses/cs294_deeprl/homework/hw1/tf_util.py:92: initialize_variables (from tensorflow.python.ops.variables) is deprecated and will be removed after 2017-03-02.\n",
      "Instructions for updating:\n",
      "Use `tf.variables_initializer` instead.\n"
     ]
    },
    {
     "name": "stderr",
     "output_type": "stream",
     "text": [
      "[2017-06-24 16:51:40,616] From /Users/admin/Documents/CU_Courses/cs294_deeprl/homework/hw1/tf_util.py:92: initialize_variables (from tensorflow.python.ops.variables) is deprecated and will be removed after 2017-03-02.\n",
      "Instructions for updating:\n",
      "Use `tf.variables_initializer` instead.\n",
      "[2017-06-24 16:51:43,276] Making new env: Ant-v1\n"
     ]
    },
    {
     "name": "stdout",
     "output_type": "stream",
     "text": [
      "rollout_num 0\n",
      "100/3000\n",
      "200/3000\n",
      "300/3000\n",
      "400/3000\n",
      "500/3000\n",
      "600/3000\n",
      "700/3000\n",
      "800/3000\n",
      "900/3000\n",
      "1000/3000\n",
      "rollout_num 1\n",
      "100/3000\n",
      "200/3000\n",
      "300/3000\n",
      "400/3000\n",
      "500/3000\n",
      "600/3000\n",
      "700/3000\n",
      "800/3000\n",
      "900/3000\n",
      "1000/3000\n",
      "rollout_num 2\n",
      "100/3000\n",
      "200/3000\n",
      "300/3000\n",
      "400/3000\n",
      "500/3000\n",
      "600/3000\n",
      "700/3000\n",
      "800/3000\n",
      "900/3000\n",
      "1000/3000\n",
      "Epoch 1/1\n",
      "3000/3000 [==============================] - 0s - loss: 0.0108     \n",
      "Epoch 1/1\n",
      "3000/3000 [==============================] - 0s - loss: 0.0221     "
     ]
    },
    {
     "name": "stderr",
     "output_type": "stream",
     "text": [
      "[2017-06-24 16:51:50,825] Making new env: Ant-v1\n"
     ]
    },
    {
     "name": "stdout",
     "output_type": "stream",
     "text": [
      "\n",
      "rollout_num 0\n",
      "100/1000\n",
      "200/1000\n",
      "300/1000\n",
      "400/1000\n",
      "500/1000\n",
      "600/1000\n",
      "700/1000\n",
      "800/1000\n",
      "900/1000\n",
      "1000/1000\n",
      "rollout_num 1\n",
      "100/1000\n",
      "200/1000\n",
      "300/1000\n",
      "400/1000\n",
      "500/1000\n",
      "600/1000\n",
      "700/1000\n",
      "800/1000\n",
      "900/1000\n",
      "rollout_num 2\n",
      "100/1000\n",
      "200/1000\n",
      "300/1000\n",
      "400/1000\n",
      "500/1000\n",
      "600/1000\n",
      "700/1000\n"
     ]
    },
    {
     "name": "stderr",
     "output_type": "stream",
     "text": [
      "[2017-06-24 16:51:57,401] Making new env: Ant-v1\n"
     ]
    },
    {
     "name": "stdout",
     "output_type": "stream",
     "text": [
      "rollout_num 0\n",
      "100/1000\n",
      "200/1000\n",
      "300/1000\n",
      "400/1000\n",
      "500/1000\n",
      "600/1000\n",
      "700/1000\n",
      "800/1000\n",
      "900/1000\n",
      "1000/1000\n",
      "rollout_num 1\n",
      "100/1000\n",
      "200/1000\n",
      "300/1000\n",
      "400/1000\n",
      "500/1000\n",
      "600/1000\n",
      "700/1000\n",
      "800/1000\n",
      "900/1000\n"
     ]
    },
    {
     "name": "stderr",
     "output_type": "stream",
     "text": [
      "[2017-06-24 16:52:02,257] Making new env: Ant-v1\n"
     ]
    },
    {
     "name": "stdout",
     "output_type": "stream",
     "text": [
      "1000/1000\n",
      "rollout_num 0\n",
      "100/1000\n",
      "200/1000\n",
      "300/1000\n",
      "400/1000\n",
      "500/1000\n",
      "600/1000\n",
      "700/1000\n",
      "800/1000\n",
      "900/1000\n",
      "1000/1000\n",
      "rollout_num 1\n",
      "100/1000\n",
      "200/1000\n",
      "300/1000\n",
      "400/1000\n",
      "500/1000\n",
      "600/1000\n",
      "700/1000\n",
      "800/1000\n",
      "900/1000\n",
      "1000/1000\n",
      "WARNING:tensorflow:From /Users/admin/Documents/CU_Courses/cs294_deeprl/homework/hw1/tf_util.py:91: all_variables (from tensorflow.python.ops.variables) is deprecated and will be removed after 2017-03-02.\n",
      "Instructions for updating:\n",
      "Please use tf.global_variables instead.\n"
     ]
    },
    {
     "name": "stderr",
     "output_type": "stream",
     "text": [
      "[2017-06-24 16:52:07,107] From /Users/admin/Documents/CU_Courses/cs294_deeprl/homework/hw1/tf_util.py:91: all_variables (from tensorflow.python.ops.variables) is deprecated and will be removed after 2017-03-02.\n",
      "Instructions for updating:\n",
      "Please use tf.global_variables instead.\n"
     ]
    },
    {
     "name": "stdout",
     "output_type": "stream",
     "text": [
      "WARNING:tensorflow:From /Users/admin/Documents/CU_Courses/cs294_deeprl/homework/hw1/tf_util.py:92: initialize_variables (from tensorflow.python.ops.variables) is deprecated and will be removed after 2017-03-02.\n",
      "Instructions for updating:\n",
      "Use `tf.variables_initializer` instead.\n"
     ]
    },
    {
     "name": "stderr",
     "output_type": "stream",
     "text": [
      "[2017-06-24 16:52:07,111] From /Users/admin/Documents/CU_Courses/cs294_deeprl/homework/hw1/tf_util.py:92: initialize_variables (from tensorflow.python.ops.variables) is deprecated and will be removed after 2017-03-02.\n",
      "Instructions for updating:\n",
      "Use `tf.variables_initializer` instead.\n",
      "[2017-06-24 16:52:09,515] Making new env: Ant-v1\n"
     ]
    },
    {
     "name": "stdout",
     "output_type": "stream",
     "text": [
      "rollout_num 0\n",
      "100/1000\n",
      "200/1000\n",
      "300/1000\n",
      "400/1000\n",
      "500/1000\n",
      "600/1000\n",
      "700/1000\n",
      "800/1000\n",
      "900/1000\n",
      "1000/1000\n",
      "rollout_num 1\n",
      "100/1000\n",
      "200/1000\n",
      "300/1000\n",
      "400/1000\n",
      "500/1000\n",
      "600/1000\n",
      "700/1000\n",
      "800/1000\n",
      "900/1000\n",
      "1000/1000\n",
      "WARNING:tensorflow:From /Users/admin/Documents/CU_Courses/cs294_deeprl/homework/hw1/tf_util.py:91: all_variables (from tensorflow.python.ops.variables) is deprecated and will be removed after 2017-03-02.\n",
      "Instructions for updating:\n",
      "Please use tf.global_variables instead.\n"
     ]
    },
    {
     "name": "stderr",
     "output_type": "stream",
     "text": [
      "[2017-06-24 16:52:13,973] From /Users/admin/Documents/CU_Courses/cs294_deeprl/homework/hw1/tf_util.py:91: all_variables (from tensorflow.python.ops.variables) is deprecated and will be removed after 2017-03-02.\n",
      "Instructions for updating:\n",
      "Please use tf.global_variables instead.\n"
     ]
    },
    {
     "name": "stdout",
     "output_type": "stream",
     "text": [
      "WARNING:tensorflow:From /Users/admin/Documents/CU_Courses/cs294_deeprl/homework/hw1/tf_util.py:92: initialize_variables (from tensorflow.python.ops.variables) is deprecated and will be removed after 2017-03-02.\n",
      "Instructions for updating:\n",
      "Use `tf.variables_initializer` instead.\n"
     ]
    },
    {
     "name": "stderr",
     "output_type": "stream",
     "text": [
      "[2017-06-24 16:52:13,977] From /Users/admin/Documents/CU_Courses/cs294_deeprl/homework/hw1/tf_util.py:92: initialize_variables (from tensorflow.python.ops.variables) is deprecated and will be removed after 2017-03-02.\n",
      "Instructions for updating:\n",
      "Use `tf.variables_initializer` instead.\n"
     ]
    },
    {
     "name": "stdout",
     "output_type": "stream",
     "text": [
      "WARNING:tensorflow:From /Users/admin/Documents/CU_Courses/cs294_deeprl/homework/hw1/tf_util.py:91: all_variables (from tensorflow.python.ops.variables) is deprecated and will be removed after 2017-03-02.\n",
      "Instructions for updating:\n",
      "Please use tf.global_variables instead.\n"
     ]
    },
    {
     "name": "stderr",
     "output_type": "stream",
     "text": [
      "[2017-06-24 16:52:16,619] From /Users/admin/Documents/CU_Courses/cs294_deeprl/homework/hw1/tf_util.py:91: all_variables (from tensorflow.python.ops.variables) is deprecated and will be removed after 2017-03-02.\n",
      "Instructions for updating:\n",
      "Please use tf.global_variables instead.\n"
     ]
    },
    {
     "name": "stdout",
     "output_type": "stream",
     "text": [
      "WARNING:tensorflow:From /Users/admin/Documents/CU_Courses/cs294_deeprl/homework/hw1/tf_util.py:92: initialize_variables (from tensorflow.python.ops.variables) is deprecated and will be removed after 2017-03-02.\n",
      "Instructions for updating:\n",
      "Use `tf.variables_initializer` instead.\n"
     ]
    },
    {
     "name": "stderr",
     "output_type": "stream",
     "text": [
      "[2017-06-24 16:52:16,622] From /Users/admin/Documents/CU_Courses/cs294_deeprl/homework/hw1/tf_util.py:92: initialize_variables (from tensorflow.python.ops.variables) is deprecated and will be removed after 2017-03-02.\n",
      "Instructions for updating:\n",
      "Use `tf.variables_initializer` instead.\n",
      "[2017-06-24 16:52:19,227] Making new env: Ant-v1\n"
     ]
    },
    {
     "name": "stdout",
     "output_type": "stream",
     "text": [
      "rollout_num 0\n",
      "100/2741\n",
      "200/2741\n",
      "300/2741\n",
      "400/2741\n",
      "500/2741\n",
      "600/2741\n",
      "700/2741\n",
      "800/2741\n",
      "900/2741\n",
      "1000/2741\n",
      "rollout_num 1\n",
      "100/2741\n",
      "200/2741\n",
      "300/2741\n",
      "400/2741\n",
      "500/2741\n",
      "600/2741\n",
      "700/2741\n",
      "800/2741\n",
      "900/2741\n",
      "1000/2741\n",
      "rollout_num 2\n",
      "100/2741\n",
      "200/2741\n",
      "300/2741\n",
      "400/2741\n",
      "500/2741\n",
      "600/2741\n",
      "700/2741\n",
      "800/2741\n",
      "900/2741\n",
      "1000/2741\n",
      "Epoch 1/1\n",
      "3000/3000 [==============================] - 0s - loss: 0.0099     \n",
      "Epoch 1/1\n",
      "2741/2741 [==============================] - 0s - loss: 0.0256     "
     ]
    },
    {
     "name": "stderr",
     "output_type": "stream",
     "text": [
      "[2017-06-24 16:52:26,354] Making new env: Ant-v1\n"
     ]
    },
    {
     "name": "stdout",
     "output_type": "stream",
     "text": [
      "\n",
      "rollout_num 0\n",
      "100/1000\n",
      "200/1000\n",
      "300/1000\n",
      "400/1000\n",
      "500/1000\n",
      "600/1000\n",
      "700/1000\n",
      "800/1000\n",
      "900/1000\n",
      "1000/1000\n",
      "rollout_num 1\n",
      "100/1000\n",
      "200/1000\n",
      "300/1000\n",
      "rollout_num 2\n",
      "100/1000\n",
      "200/1000\n",
      "300/1000\n",
      "400/1000\n",
      "500/1000\n",
      "600/1000\n",
      "700/1000\n",
      "800/1000\n",
      "900/1000\n"
     ]
    },
    {
     "name": "stderr",
     "output_type": "stream",
     "text": [
      "[2017-06-24 16:52:32,151] Making new env: Ant-v1\n"
     ]
    },
    {
     "name": "stdout",
     "output_type": "stream",
     "text": [
      "1000/1000\n",
      "rollout_num 0\n",
      "100/1000\n",
      "200/1000\n",
      "300/1000\n",
      "400/1000\n",
      "500/1000\n",
      "600/1000\n",
      "700/1000\n",
      "800/1000\n",
      "900/1000\n",
      "1000/1000\n",
      "rollout_num 1\n",
      "100/1000\n",
      "200/1000\n",
      "300/1000\n",
      "400/1000\n",
      "500/1000\n",
      "600/1000\n",
      "700/1000\n",
      "800/1000\n",
      "900/1000\n"
     ]
    },
    {
     "name": "stderr",
     "output_type": "stream",
     "text": [
      "[2017-06-24 16:52:36,889] Making new env: Ant-v1\n"
     ]
    },
    {
     "name": "stdout",
     "output_type": "stream",
     "text": [
      "1000/1000\n",
      "rollout_num 0\n",
      "100/1000\n",
      "200/1000\n",
      "300/1000\n",
      "400/1000\n",
      "500/1000\n",
      "600/1000\n",
      "700/1000\n",
      "800/1000\n",
      "900/1000\n",
      "1000/1000\n",
      "rollout_num 1\n",
      "100/1000\n",
      "200/1000\n",
      "300/1000\n",
      "400/1000\n",
      "500/1000\n",
      "600/1000\n",
      "700/1000\n",
      "800/1000\n",
      "900/1000\n",
      "1000/1000\n",
      "WARNING:tensorflow:From /Users/admin/Documents/CU_Courses/cs294_deeprl/homework/hw1/tf_util.py:91: all_variables (from tensorflow.python.ops.variables) is deprecated and will be removed after 2017-03-02.\n",
      "Instructions for updating:\n",
      "Please use tf.global_variables instead.\n"
     ]
    },
    {
     "name": "stderr",
     "output_type": "stream",
     "text": [
      "[2017-06-24 16:52:41,764] From /Users/admin/Documents/CU_Courses/cs294_deeprl/homework/hw1/tf_util.py:91: all_variables (from tensorflow.python.ops.variables) is deprecated and will be removed after 2017-03-02.\n",
      "Instructions for updating:\n",
      "Please use tf.global_variables instead.\n"
     ]
    },
    {
     "name": "stdout",
     "output_type": "stream",
     "text": [
      "WARNING:tensorflow:From /Users/admin/Documents/CU_Courses/cs294_deeprl/homework/hw1/tf_util.py:92: initialize_variables (from tensorflow.python.ops.variables) is deprecated and will be removed after 2017-03-02.\n",
      "Instructions for updating:\n",
      "Use `tf.variables_initializer` instead.\n"
     ]
    },
    {
     "name": "stderr",
     "output_type": "stream",
     "text": [
      "[2017-06-24 16:52:41,767] From /Users/admin/Documents/CU_Courses/cs294_deeprl/homework/hw1/tf_util.py:92: initialize_variables (from tensorflow.python.ops.variables) is deprecated and will be removed after 2017-03-02.\n",
      "Instructions for updating:\n",
      "Use `tf.variables_initializer` instead.\n",
      "[2017-06-24 16:52:44,109] Making new env: Ant-v1\n"
     ]
    },
    {
     "name": "stdout",
     "output_type": "stream",
     "text": [
      "rollout_num 0\n",
      "100/1000\n",
      "200/1000\n",
      "300/1000\n",
      "400/1000\n",
      "500/1000\n",
      "600/1000\n",
      "700/1000\n",
      "800/1000\n",
      "900/1000\n",
      "1000/1000\n",
      "rollout_num 1\n",
      "100/1000\n",
      "200/1000\n",
      "300/1000\n",
      "400/1000\n",
      "500/1000\n",
      "600/1000\n",
      "700/1000\n",
      "800/1000\n",
      "900/1000\n",
      "1000/1000\n",
      "WARNING:tensorflow:From /Users/admin/Documents/CU_Courses/cs294_deeprl/homework/hw1/tf_util.py:91: all_variables (from tensorflow.python.ops.variables) is deprecated and will be removed after 2017-03-02.\n",
      "Instructions for updating:\n",
      "Please use tf.global_variables instead.\n"
     ]
    },
    {
     "name": "stderr",
     "output_type": "stream",
     "text": [
      "[2017-06-24 16:52:50,012] From /Users/admin/Documents/CU_Courses/cs294_deeprl/homework/hw1/tf_util.py:91: all_variables (from tensorflow.python.ops.variables) is deprecated and will be removed after 2017-03-02.\n",
      "Instructions for updating:\n",
      "Please use tf.global_variables instead.\n"
     ]
    },
    {
     "name": "stdout",
     "output_type": "stream",
     "text": [
      "WARNING:tensorflow:From /Users/admin/Documents/CU_Courses/cs294_deeprl/homework/hw1/tf_util.py:92: initialize_variables (from tensorflow.python.ops.variables) is deprecated and will be removed after 2017-03-02.\n",
      "Instructions for updating:\n",
      "Use `tf.variables_initializer` instead.\n"
     ]
    },
    {
     "name": "stderr",
     "output_type": "stream",
     "text": [
      "[2017-06-24 16:52:50,015] From /Users/admin/Documents/CU_Courses/cs294_deeprl/homework/hw1/tf_util.py:92: initialize_variables (from tensorflow.python.ops.variables) is deprecated and will be removed after 2017-03-02.\n",
      "Instructions for updating:\n",
      "Use `tf.variables_initializer` instead.\n"
     ]
    },
    {
     "name": "stdout",
     "output_type": "stream",
     "text": [
      "WARNING:tensorflow:From /Users/admin/Documents/CU_Courses/cs294_deeprl/homework/hw1/tf_util.py:91: all_variables (from tensorflow.python.ops.variables) is deprecated and will be removed after 2017-03-02.\n",
      "Instructions for updating:\n",
      "Please use tf.global_variables instead.\n"
     ]
    },
    {
     "name": "stderr",
     "output_type": "stream",
     "text": [
      "[2017-06-24 16:52:52,911] From /Users/admin/Documents/CU_Courses/cs294_deeprl/homework/hw1/tf_util.py:91: all_variables (from tensorflow.python.ops.variables) is deprecated and will be removed after 2017-03-02.\n",
      "Instructions for updating:\n",
      "Please use tf.global_variables instead.\n"
     ]
    },
    {
     "name": "stdout",
     "output_type": "stream",
     "text": [
      "WARNING:tensorflow:From /Users/admin/Documents/CU_Courses/cs294_deeprl/homework/hw1/tf_util.py:92: initialize_variables (from tensorflow.python.ops.variables) is deprecated and will be removed after 2017-03-02.\n",
      "Instructions for updating:\n",
      "Use `tf.variables_initializer` instead.\n"
     ]
    },
    {
     "name": "stderr",
     "output_type": "stream",
     "text": [
      "[2017-06-24 16:52:52,915] From /Users/admin/Documents/CU_Courses/cs294_deeprl/homework/hw1/tf_util.py:92: initialize_variables (from tensorflow.python.ops.variables) is deprecated and will be removed after 2017-03-02.\n",
      "Instructions for updating:\n",
      "Use `tf.variables_initializer` instead.\n",
      "[2017-06-24 16:52:55,557] Making new env: Ant-v1\n"
     ]
    },
    {
     "name": "stdout",
     "output_type": "stream",
     "text": [
      "rollout_num 0\n",
      "100/2381\n",
      "200/2381\n",
      "300/2381\n",
      "400/2381\n",
      "500/2381\n",
      "600/2381\n",
      "700/2381\n",
      "800/2381\n",
      "900/2381\n",
      "1000/2381\n",
      "rollout_num 1\n",
      "100/2381\n",
      "200/2381\n",
      "300/2381\n",
      "400/2381\n",
      "500/2381\n",
      "600/2381\n",
      "700/2381\n",
      "800/2381\n",
      "900/2381\n",
      "1000/2381\n",
      "rollout_num 2\n",
      "100/2381\n",
      "200/2381\n",
      "300/2381\n",
      "400/2381\n",
      "500/2381\n",
      "600/2381\n",
      "700/2381\n",
      "800/2381\n",
      "900/2381\n",
      "1000/2381\n",
      "Epoch 1/1\n",
      "3000/3000 [==============================] - 0s - loss: 0.0096     \n",
      "Epoch 1/1\n",
      "2381/2381 [==============================] - 0s - loss: 0.0205     "
     ]
    },
    {
     "name": "stderr",
     "output_type": "stream",
     "text": [
      "[2017-06-24 16:53:02,887] Making new env: Ant-v1\n"
     ]
    },
    {
     "name": "stdout",
     "output_type": "stream",
     "text": [
      "\n",
      "rollout_num 0\n",
      "100/1000\n",
      "200/1000\n",
      "300/1000\n",
      "400/1000\n",
      "500/1000\n",
      "600/1000\n",
      "700/1000\n",
      "800/1000\n",
      "900/1000\n",
      "1000/1000\n",
      "rollout_num 1\n",
      "100/1000\n",
      "200/1000\n",
      "300/1000\n",
      "400/1000\n",
      "500/1000\n",
      "600/1000\n",
      "700/1000\n",
      "800/1000\n",
      "900/1000\n",
      "1000/1000\n",
      "rollout_num 2\n",
      "100/1000\n",
      "200/1000\n",
      "300/1000\n",
      "400/1000\n",
      "500/1000\n",
      "600/1000\n",
      "700/1000\n",
      "800/1000\n",
      "900/1000\n"
     ]
    },
    {
     "name": "stderr",
     "output_type": "stream",
     "text": [
      "[2017-06-24 16:53:10,164] Making new env: Ant-v1\n"
     ]
    },
    {
     "name": "stdout",
     "output_type": "stream",
     "text": [
      "1000/1000\n",
      "rollout_num 0\n",
      "100/1000\n",
      "200/1000\n",
      "300/1000\n",
      "400/1000\n",
      "500/1000\n",
      "600/1000\n",
      "700/1000\n",
      "800/1000\n",
      "900/1000\n",
      "1000/1000\n",
      "rollout_num 1\n",
      "100/1000\n",
      "200/1000\n",
      "300/1000\n",
      "400/1000\n",
      "500/1000\n",
      "600/1000\n",
      "700/1000\n",
      "800/1000\n",
      "900/1000\n"
     ]
    },
    {
     "name": "stderr",
     "output_type": "stream",
     "text": [
      "[2017-06-24 16:53:15,064] Making new env: Ant-v1\n"
     ]
    },
    {
     "name": "stdout",
     "output_type": "stream",
     "text": [
      "1000/1000\n",
      "rollout_num 0\n",
      "100/1000\n",
      "200/1000\n",
      "300/1000\n",
      "400/1000\n",
      "500/1000\n",
      "600/1000\n",
      "700/1000\n",
      "800/1000\n",
      "900/1000\n",
      "1000/1000\n",
      "rollout_num 1\n",
      "100/1000\n",
      "200/1000\n",
      "300/1000\n",
      "400/1000\n",
      "500/1000\n",
      "600/1000\n",
      "700/1000\n",
      "800/1000\n",
      "900/1000\n",
      "1000/1000\n",
      "WARNING:tensorflow:From /Users/admin/Documents/CU_Courses/cs294_deeprl/homework/hw1/tf_util.py:91: all_variables (from tensorflow.python.ops.variables) is deprecated and will be removed after 2017-03-02.\n",
      "Instructions for updating:\n",
      "Please use tf.global_variables instead.\n"
     ]
    },
    {
     "name": "stderr",
     "output_type": "stream",
     "text": [
      "[2017-06-24 16:53:19,835] From /Users/admin/Documents/CU_Courses/cs294_deeprl/homework/hw1/tf_util.py:91: all_variables (from tensorflow.python.ops.variables) is deprecated and will be removed after 2017-03-02.\n",
      "Instructions for updating:\n",
      "Please use tf.global_variables instead.\n"
     ]
    },
    {
     "name": "stdout",
     "output_type": "stream",
     "text": [
      "WARNING:tensorflow:From /Users/admin/Documents/CU_Courses/cs294_deeprl/homework/hw1/tf_util.py:92: initialize_variables (from tensorflow.python.ops.variables) is deprecated and will be removed after 2017-03-02.\n",
      "Instructions for updating:\n",
      "Use `tf.variables_initializer` instead.\n"
     ]
    },
    {
     "name": "stderr",
     "output_type": "stream",
     "text": [
      "[2017-06-24 16:53:19,838] From /Users/admin/Documents/CU_Courses/cs294_deeprl/homework/hw1/tf_util.py:92: initialize_variables (from tensorflow.python.ops.variables) is deprecated and will be removed after 2017-03-02.\n",
      "Instructions for updating:\n",
      "Use `tf.variables_initializer` instead.\n",
      "[2017-06-24 16:53:22,225] Making new env: Ant-v1\n"
     ]
    },
    {
     "name": "stdout",
     "output_type": "stream",
     "text": [
      "rollout_num 0\n",
      "100/1000\n",
      "200/1000\n",
      "300/1000\n",
      "400/1000\n",
      "500/1000\n",
      "600/1000\n",
      "700/1000\n",
      "800/1000\n",
      "900/1000\n",
      "1000/1000\n",
      "rollout_num 1\n",
      "100/1000\n",
      "200/1000\n",
      "300/1000\n",
      "400/1000\n",
      "500/1000\n",
      "600/1000\n",
      "700/1000\n",
      "800/1000\n",
      "900/1000\n",
      "1000/1000\n",
      "WARNING:tensorflow:From /Users/admin/Documents/CU_Courses/cs294_deeprl/homework/hw1/tf_util.py:91: all_variables (from tensorflow.python.ops.variables) is deprecated and will be removed after 2017-03-02.\n",
      "Instructions for updating:\n",
      "Please use tf.global_variables instead.\n"
     ]
    },
    {
     "name": "stderr",
     "output_type": "stream",
     "text": [
      "[2017-06-24 16:53:26,579] From /Users/admin/Documents/CU_Courses/cs294_deeprl/homework/hw1/tf_util.py:91: all_variables (from tensorflow.python.ops.variables) is deprecated and will be removed after 2017-03-02.\n",
      "Instructions for updating:\n",
      "Please use tf.global_variables instead.\n"
     ]
    },
    {
     "name": "stdout",
     "output_type": "stream",
     "text": [
      "WARNING:tensorflow:From /Users/admin/Documents/CU_Courses/cs294_deeprl/homework/hw1/tf_util.py:92: initialize_variables (from tensorflow.python.ops.variables) is deprecated and will be removed after 2017-03-02.\n",
      "Instructions for updating:\n",
      "Use `tf.variables_initializer` instead.\n"
     ]
    },
    {
     "name": "stderr",
     "output_type": "stream",
     "text": [
      "[2017-06-24 16:53:26,583] From /Users/admin/Documents/CU_Courses/cs294_deeprl/homework/hw1/tf_util.py:92: initialize_variables (from tensorflow.python.ops.variables) is deprecated and will be removed after 2017-03-02.\n",
      "Instructions for updating:\n",
      "Use `tf.variables_initializer` instead.\n"
     ]
    },
    {
     "name": "stdout",
     "output_type": "stream",
     "text": [
      "WARNING:tensorflow:From /Users/admin/Documents/CU_Courses/cs294_deeprl/homework/hw1/tf_util.py:91: all_variables (from tensorflow.python.ops.variables) is deprecated and will be removed after 2017-03-02.\n",
      "Instructions for updating:\n",
      "Please use tf.global_variables instead.\n"
     ]
    },
    {
     "name": "stderr",
     "output_type": "stream",
     "text": [
      "[2017-06-24 16:53:29,240] From /Users/admin/Documents/CU_Courses/cs294_deeprl/homework/hw1/tf_util.py:91: all_variables (from tensorflow.python.ops.variables) is deprecated and will be removed after 2017-03-02.\n",
      "Instructions for updating:\n",
      "Please use tf.global_variables instead.\n"
     ]
    },
    {
     "name": "stdout",
     "output_type": "stream",
     "text": [
      "WARNING:tensorflow:From /Users/admin/Documents/CU_Courses/cs294_deeprl/homework/hw1/tf_util.py:92: initialize_variables (from tensorflow.python.ops.variables) is deprecated and will be removed after 2017-03-02.\n",
      "Instructions for updating:\n",
      "Use `tf.variables_initializer` instead.\n"
     ]
    },
    {
     "name": "stderr",
     "output_type": "stream",
     "text": [
      "[2017-06-24 16:53:29,243] From /Users/admin/Documents/CU_Courses/cs294_deeprl/homework/hw1/tf_util.py:92: initialize_variables (from tensorflow.python.ops.variables) is deprecated and will be removed after 2017-03-02.\n",
      "Instructions for updating:\n",
      "Use `tf.variables_initializer` instead.\n",
      "[2017-06-24 16:53:31,860] Making new env: Ant-v1\n"
     ]
    },
    {
     "name": "stdout",
     "output_type": "stream",
     "text": [
      "rollout_num 0\n",
      "100/3000\n",
      "200/3000\n",
      "300/3000\n",
      "rollout_num 1\n",
      "100/3000\n",
      "200/3000\n",
      "300/3000\n",
      "400/3000\n",
      "500/3000\n",
      "600/3000\n",
      "700/3000\n",
      "800/3000\n",
      "900/3000\n",
      "1000/3000\n",
      "rollout_num 2\n",
      "100/3000\n",
      "200/3000\n",
      "300/3000\n",
      "400/3000\n",
      "500/3000\n",
      "600/3000\n",
      "700/3000\n",
      "800/3000\n",
      "900/3000\n",
      "1000/3000\n",
      "Epoch 1/1\n",
      "2339/2339 [==============================] - 0s - loss: 0.0094     \n",
      "Epoch 1/1\n",
      "3000/3000 [==============================] - 0s - loss: 0.0171     \n"
     ]
    },
    {
     "name": "stderr",
     "output_type": "stream",
     "text": [
      "[2017-06-24 16:53:37,589] Making new env: Ant-v1\n"
     ]
    },
    {
     "name": "stdout",
     "output_type": "stream",
     "text": [
      "rollout_num 0\n",
      "100/1000\n",
      "200/1000\n",
      "300/1000\n",
      "400/1000\n",
      "500/1000\n",
      "600/1000\n",
      "700/1000\n",
      "800/1000\n",
      "900/1000\n",
      "1000/1000\n",
      "rollout_num 1\n",
      "100/1000\n",
      "200/1000\n",
      "300/1000\n",
      "400/1000\n",
      "500/1000\n",
      "600/1000\n",
      "700/1000\n",
      "800/1000\n",
      "900/1000\n",
      "1000/1000\n",
      "rollout_num 2\n",
      "100/1000\n",
      "200/1000\n",
      "300/1000\n",
      "400/1000\n",
      "500/1000\n",
      "600/1000\n",
      "700/1000\n",
      "800/1000\n",
      "900/1000\n"
     ]
    },
    {
     "name": "stderr",
     "output_type": "stream",
     "text": [
      "[2017-06-24 16:53:44,874] Making new env: Ant-v1\n"
     ]
    },
    {
     "name": "stdout",
     "output_type": "stream",
     "text": [
      "1000/1000\n",
      "rollout_num 0\n",
      "100/1000\n",
      "200/1000\n",
      "300/1000\n",
      "400/1000\n",
      "500/1000\n",
      "600/1000\n",
      "700/1000\n",
      "800/1000\n",
      "900/1000\n",
      "1000/1000\n",
      "rollout_num 1\n",
      "100/1000\n",
      "200/1000\n",
      "300/1000\n",
      "400/1000\n",
      "500/1000\n",
      "600/1000\n",
      "700/1000\n",
      "800/1000\n",
      "900/1000\n"
     ]
    },
    {
     "name": "stderr",
     "output_type": "stream",
     "text": [
      "[2017-06-24 16:53:49,647] Making new env: Ant-v1\n"
     ]
    },
    {
     "name": "stdout",
     "output_type": "stream",
     "text": [
      "1000/1000\n",
      "rollout_num 0\n",
      "100/1000\n",
      "200/1000\n",
      "300/1000\n",
      "400/1000\n",
      "500/1000\n",
      "600/1000\n",
      "700/1000\n",
      "800/1000\n",
      "900/1000\n",
      "1000/1000\n",
      "rollout_num 1\n",
      "100/1000\n",
      "200/1000\n",
      "300/1000\n",
      "400/1000\n",
      "500/1000\n",
      "600/1000\n",
      "700/1000\n",
      "800/1000\n",
      "900/1000\n",
      "1000/1000\n",
      "WARNING:tensorflow:From /Users/admin/Documents/CU_Courses/cs294_deeprl/homework/hw1/tf_util.py:91: all_variables (from tensorflow.python.ops.variables) is deprecated and will be removed after 2017-03-02.\n",
      "Instructions for updating:\n",
      "Please use tf.global_variables instead.\n"
     ]
    },
    {
     "name": "stderr",
     "output_type": "stream",
     "text": [
      "[2017-06-24 16:53:54,581] From /Users/admin/Documents/CU_Courses/cs294_deeprl/homework/hw1/tf_util.py:91: all_variables (from tensorflow.python.ops.variables) is deprecated and will be removed after 2017-03-02.\n",
      "Instructions for updating:\n",
      "Please use tf.global_variables instead.\n"
     ]
    },
    {
     "name": "stdout",
     "output_type": "stream",
     "text": [
      "WARNING:tensorflow:From /Users/admin/Documents/CU_Courses/cs294_deeprl/homework/hw1/tf_util.py:92: initialize_variables (from tensorflow.python.ops.variables) is deprecated and will be removed after 2017-03-02.\n",
      "Instructions for updating:\n",
      "Use `tf.variables_initializer` instead.\n"
     ]
    },
    {
     "name": "stderr",
     "output_type": "stream",
     "text": [
      "[2017-06-24 16:53:54,584] From /Users/admin/Documents/CU_Courses/cs294_deeprl/homework/hw1/tf_util.py:92: initialize_variables (from tensorflow.python.ops.variables) is deprecated and will be removed after 2017-03-02.\n",
      "Instructions for updating:\n",
      "Use `tf.variables_initializer` instead.\n",
      "[2017-06-24 16:53:56,943] Making new env: Ant-v1\n"
     ]
    },
    {
     "name": "stdout",
     "output_type": "stream",
     "text": [
      "rollout_num 0\n",
      "100/1000\n",
      "200/1000\n",
      "300/1000\n",
      "400/1000\n",
      "500/1000\n",
      "600/1000\n",
      "700/1000\n",
      "800/1000\n",
      "900/1000\n",
      "1000/1000\n",
      "rollout_num 1\n",
      "100/1000\n",
      "200/1000\n",
      "300/1000\n",
      "400/1000\n",
      "500/1000\n",
      "600/1000\n",
      "700/1000\n",
      "800/1000\n",
      "900/1000\n",
      "1000/1000\n",
      "WARNING:tensorflow:From /Users/admin/Documents/CU_Courses/cs294_deeprl/homework/hw1/tf_util.py:91: all_variables (from tensorflow.python.ops.variables) is deprecated and will be removed after 2017-03-02.\n",
      "Instructions for updating:\n",
      "Please use tf.global_variables instead.\n"
     ]
    },
    {
     "name": "stderr",
     "output_type": "stream",
     "text": [
      "[2017-06-24 16:54:01,393] From /Users/admin/Documents/CU_Courses/cs294_deeprl/homework/hw1/tf_util.py:91: all_variables (from tensorflow.python.ops.variables) is deprecated and will be removed after 2017-03-02.\n",
      "Instructions for updating:\n",
      "Please use tf.global_variables instead.\n"
     ]
    },
    {
     "name": "stdout",
     "output_type": "stream",
     "text": [
      "WARNING:tensorflow:From /Users/admin/Documents/CU_Courses/cs294_deeprl/homework/hw1/tf_util.py:92: initialize_variables (from tensorflow.python.ops.variables) is deprecated and will be removed after 2017-03-02.\n",
      "Instructions for updating:\n",
      "Use `tf.variables_initializer` instead.\n"
     ]
    },
    {
     "name": "stderr",
     "output_type": "stream",
     "text": [
      "[2017-06-24 16:54:01,396] From /Users/admin/Documents/CU_Courses/cs294_deeprl/homework/hw1/tf_util.py:92: initialize_variables (from tensorflow.python.ops.variables) is deprecated and will be removed after 2017-03-02.\n",
      "Instructions for updating:\n",
      "Use `tf.variables_initializer` instead.\n"
     ]
    },
    {
     "name": "stdout",
     "output_type": "stream",
     "text": [
      "WARNING:tensorflow:From /Users/admin/Documents/CU_Courses/cs294_deeprl/homework/hw1/tf_util.py:91: all_variables (from tensorflow.python.ops.variables) is deprecated and will be removed after 2017-03-02.\n",
      "Instructions for updating:\n",
      "Please use tf.global_variables instead.\n"
     ]
    },
    {
     "name": "stderr",
     "output_type": "stream",
     "text": [
      "[2017-06-24 16:54:04,036] From /Users/admin/Documents/CU_Courses/cs294_deeprl/homework/hw1/tf_util.py:91: all_variables (from tensorflow.python.ops.variables) is deprecated and will be removed after 2017-03-02.\n",
      "Instructions for updating:\n",
      "Please use tf.global_variables instead.\n"
     ]
    },
    {
     "name": "stdout",
     "output_type": "stream",
     "text": [
      "WARNING:tensorflow:From /Users/admin/Documents/CU_Courses/cs294_deeprl/homework/hw1/tf_util.py:92: initialize_variables (from tensorflow.python.ops.variables) is deprecated and will be removed after 2017-03-02.\n",
      "Instructions for updating:\n",
      "Use `tf.variables_initializer` instead.\n"
     ]
    },
    {
     "name": "stderr",
     "output_type": "stream",
     "text": [
      "[2017-06-24 16:54:04,040] From /Users/admin/Documents/CU_Courses/cs294_deeprl/homework/hw1/tf_util.py:92: initialize_variables (from tensorflow.python.ops.variables) is deprecated and will be removed after 2017-03-02.\n",
      "Instructions for updating:\n",
      "Use `tf.variables_initializer` instead.\n",
      "[2017-06-24 16:54:06,611] Making new env: Ant-v1\n"
     ]
    },
    {
     "name": "stdout",
     "output_type": "stream",
     "text": [
      "rollout_num 0\n",
      "100/3000\n",
      "200/3000\n",
      "300/3000\n",
      "400/3000\n",
      "500/3000\n",
      "600/3000\n",
      "700/3000\n",
      "800/3000\n",
      "900/3000\n",
      "1000/3000\n",
      "rollout_num 1\n",
      "100/3000\n",
      "200/3000\n",
      "300/3000\n",
      "400/3000\n",
      "500/3000\n",
      "600/3000\n",
      "700/3000\n",
      "800/3000\n",
      "900/3000\n",
      "1000/3000\n",
      "rollout_num 2\n",
      "100/3000\n",
      "200/3000\n",
      "300/3000\n",
      "400/3000\n",
      "500/3000\n",
      "600/3000\n",
      "700/3000\n",
      "800/3000\n",
      "900/3000\n",
      "1000/3000\n",
      "Epoch 1/1\n",
      "3000/3000 [==============================] - 0s - loss: 0.0080     \n",
      "Epoch 1/1\n",
      "3000/3000 [==============================] - 0s - loss: 0.0150     "
     ]
    },
    {
     "name": "stderr",
     "output_type": "stream",
     "text": [
      "[2017-06-24 16:54:13,837] Making new env: Ant-v1\n"
     ]
    },
    {
     "name": "stdout",
     "output_type": "stream",
     "text": [
      "\n",
      "rollout_num 0\n",
      "100/1000\n",
      "200/1000\n",
      "300/1000\n",
      "400/1000\n",
      "500/1000\n",
      "600/1000\n",
      "700/1000\n",
      "800/1000\n",
      "900/1000\n",
      "1000/1000\n",
      "rollout_num 1\n",
      "100/1000\n",
      "200/1000\n",
      "300/1000\n",
      "400/1000\n",
      "500/1000\n",
      "600/1000\n",
      "700/1000\n",
      "800/1000\n",
      "900/1000\n",
      "1000/1000\n",
      "rollout_num 2\n",
      "100/1000\n",
      "200/1000\n",
      "300/1000\n",
      "400/1000\n",
      "500/1000\n",
      "600/1000\n",
      "700/1000\n",
      "800/1000\n",
      "900/1000\n"
     ]
    },
    {
     "name": "stderr",
     "output_type": "stream",
     "text": [
      "[2017-06-24 16:54:20,887] Making new env: Ant-v1\n"
     ]
    },
    {
     "name": "stdout",
     "output_type": "stream",
     "text": [
      "1000/1000\n",
      "rollout_num 0\n",
      "100/1000\n",
      "200/1000\n",
      "300/1000\n",
      "400/1000\n",
      "500/1000\n",
      "600/1000\n",
      "700/1000\n",
      "800/1000\n",
      "900/1000\n",
      "1000/1000\n",
      "rollout_num 1\n",
      "100/1000\n",
      "200/1000\n",
      "300/1000\n",
      "400/1000\n",
      "500/1000\n",
      "600/1000\n",
      "700/1000\n",
      "800/1000\n",
      "900/1000\n"
     ]
    },
    {
     "name": "stderr",
     "output_type": "stream",
     "text": [
      "[2017-06-24 16:54:25,634] Making new env: Ant-v1\n"
     ]
    },
    {
     "name": "stdout",
     "output_type": "stream",
     "text": [
      "1000/1000\n",
      "rollout_num 0\n",
      "100/1000\n",
      "200/1000\n",
      "300/1000\n",
      "400/1000\n",
      "500/1000\n",
      "600/1000\n",
      "700/1000\n",
      "800/1000\n",
      "900/1000\n",
      "1000/1000\n",
      "rollout_num 1\n",
      "100/1000\n",
      "200/1000\n",
      "300/1000\n",
      "400/1000\n",
      "500/1000\n",
      "600/1000\n",
      "700/1000\n",
      "800/1000\n",
      "900/1000\n",
      "1000/1000\n",
      "WARNING:tensorflow:From /Users/admin/Documents/CU_Courses/cs294_deeprl/homework/hw1/tf_util.py:91: all_variables (from tensorflow.python.ops.variables) is deprecated and will be removed after 2017-03-02.\n",
      "Instructions for updating:\n",
      "Please use tf.global_variables instead.\n"
     ]
    },
    {
     "name": "stderr",
     "output_type": "stream",
     "text": [
      "[2017-06-24 16:54:30,365] From /Users/admin/Documents/CU_Courses/cs294_deeprl/homework/hw1/tf_util.py:91: all_variables (from tensorflow.python.ops.variables) is deprecated and will be removed after 2017-03-02.\n",
      "Instructions for updating:\n",
      "Please use tf.global_variables instead.\n"
     ]
    },
    {
     "name": "stdout",
     "output_type": "stream",
     "text": [
      "WARNING:tensorflow:From /Users/admin/Documents/CU_Courses/cs294_deeprl/homework/hw1/tf_util.py:92: initialize_variables (from tensorflow.python.ops.variables) is deprecated and will be removed after 2017-03-02.\n",
      "Instructions for updating:\n",
      "Use `tf.variables_initializer` instead.\n"
     ]
    },
    {
     "name": "stderr",
     "output_type": "stream",
     "text": [
      "[2017-06-24 16:54:30,369] From /Users/admin/Documents/CU_Courses/cs294_deeprl/homework/hw1/tf_util.py:92: initialize_variables (from tensorflow.python.ops.variables) is deprecated and will be removed after 2017-03-02.\n",
      "Instructions for updating:\n",
      "Use `tf.variables_initializer` instead.\n",
      "[2017-06-24 16:54:32,863] Making new env: Ant-v1\n"
     ]
    },
    {
     "name": "stdout",
     "output_type": "stream",
     "text": [
      "rollout_num 0\n",
      "100/1000\n",
      "200/1000\n",
      "300/1000\n",
      "400/1000\n",
      "500/1000\n",
      "600/1000\n",
      "700/1000\n",
      "800/1000\n",
      "900/1000\n",
      "1000/1000\n",
      "rollout_num 1\n",
      "100/1000\n",
      "200/1000\n",
      "300/1000\n",
      "400/1000\n",
      "500/1000\n",
      "600/1000\n",
      "700/1000\n",
      "800/1000\n",
      "900/1000\n",
      "1000/1000\n",
      "WARNING:tensorflow:From /Users/admin/Documents/CU_Courses/cs294_deeprl/homework/hw1/tf_util.py:91: all_variables (from tensorflow.python.ops.variables) is deprecated and will be removed after 2017-03-02.\n",
      "Instructions for updating:\n",
      "Please use tf.global_variables instead.\n"
     ]
    },
    {
     "name": "stderr",
     "output_type": "stream",
     "text": [
      "[2017-06-24 16:54:37,084] From /Users/admin/Documents/CU_Courses/cs294_deeprl/homework/hw1/tf_util.py:91: all_variables (from tensorflow.python.ops.variables) is deprecated and will be removed after 2017-03-02.\n",
      "Instructions for updating:\n",
      "Please use tf.global_variables instead.\n"
     ]
    },
    {
     "name": "stdout",
     "output_type": "stream",
     "text": [
      "WARNING:tensorflow:From /Users/admin/Documents/CU_Courses/cs294_deeprl/homework/hw1/tf_util.py:92: initialize_variables (from tensorflow.python.ops.variables) is deprecated and will be removed after 2017-03-02.\n",
      "Instructions for updating:\n",
      "Use `tf.variables_initializer` instead.\n"
     ]
    },
    {
     "name": "stderr",
     "output_type": "stream",
     "text": [
      "[2017-06-24 16:54:37,087] From /Users/admin/Documents/CU_Courses/cs294_deeprl/homework/hw1/tf_util.py:92: initialize_variables (from tensorflow.python.ops.variables) is deprecated and will be removed after 2017-03-02.\n",
      "Instructions for updating:\n",
      "Use `tf.variables_initializer` instead.\n"
     ]
    },
    {
     "name": "stdout",
     "output_type": "stream",
     "text": [
      "WARNING:tensorflow:From /Users/admin/Documents/CU_Courses/cs294_deeprl/homework/hw1/tf_util.py:91: all_variables (from tensorflow.python.ops.variables) is deprecated and will be removed after 2017-03-02.\n",
      "Instructions for updating:\n",
      "Please use tf.global_variables instead.\n"
     ]
    },
    {
     "name": "stderr",
     "output_type": "stream",
     "text": [
      "[2017-06-24 16:54:39,697] From /Users/admin/Documents/CU_Courses/cs294_deeprl/homework/hw1/tf_util.py:91: all_variables (from tensorflow.python.ops.variables) is deprecated and will be removed after 2017-03-02.\n",
      "Instructions for updating:\n",
      "Please use tf.global_variables instead.\n"
     ]
    },
    {
     "name": "stdout",
     "output_type": "stream",
     "text": [
      "WARNING:tensorflow:From /Users/admin/Documents/CU_Courses/cs294_deeprl/homework/hw1/tf_util.py:92: initialize_variables (from tensorflow.python.ops.variables) is deprecated and will be removed after 2017-03-02.\n",
      "Instructions for updating:\n",
      "Use `tf.variables_initializer` instead.\n"
     ]
    },
    {
     "name": "stderr",
     "output_type": "stream",
     "text": [
      "[2017-06-24 16:54:39,700] From /Users/admin/Documents/CU_Courses/cs294_deeprl/homework/hw1/tf_util.py:92: initialize_variables (from tensorflow.python.ops.variables) is deprecated and will be removed after 2017-03-02.\n",
      "Instructions for updating:\n",
      "Use `tf.variables_initializer` instead.\n",
      "[2017-06-24 16:54:42,268] Making new env: Ant-v1\n"
     ]
    },
    {
     "name": "stdout",
     "output_type": "stream",
     "text": [
      "rollout_num 0\n",
      "100/3000\n",
      "200/3000\n",
      "300/3000\n",
      "400/3000\n",
      "500/3000\n",
      "600/3000\n",
      "700/3000\n",
      "800/3000\n",
      "900/3000\n",
      "1000/3000\n",
      "rollout_num 1\n",
      "100/3000\n",
      "200/3000\n",
      "300/3000\n",
      "400/3000\n",
      "500/3000\n",
      "600/3000\n",
      "700/3000\n",
      "800/3000\n",
      "900/3000\n",
      "1000/3000\n",
      "rollout_num 2\n",
      "100/3000\n",
      "200/3000\n",
      "300/3000\n",
      "400/3000\n",
      "500/3000\n",
      "600/3000\n",
      "700/3000\n",
      "800/3000\n",
      "900/3000\n",
      "1000/3000\n"
     ]
    }
   ],
   "source": [
    "e = 'Ant-v1.pkl'\n",
    "d = data[e]\n",
    "obs = d['observations']\n",
    "act = d['actions']\n",
    "num_dagger_iterations = 20\n",
    "envname = e.split('.')[0]\n",
    "policy_fn = load_policy.load_policy('./experts/{}.pkl'.format(envname))\n",
    "max_timesteps = None\n",
    "num_rollouts = 3\n",
    "\n",
    "# models\n",
    "cloning = Sequential()\n",
    "cloning.add(Dense(input_dim=obs.shape[-1], output_dim=50))\n",
    "cloning.add(Activation('relu'))\n",
    "cloning.add(Dense(output_dim=act.shape[-1]))\n",
    "cloning.compile(loss='mse',\n",
    "              optimizer='adam')\n",
    "dagger = Sequential()\n",
    "dagger.add(Dense(input_dim=obs.shape[-1], output_dim=50))\n",
    "dagger.add(Activation('relu'))\n",
    "dagger.add(Dense(output_dim=act.shape[-1]))\n",
    "dagger.compile(loss='mse',\n",
    "              optimizer='adam')\n",
    "\n",
    "# execute dagger\n",
    "reward_exp, data_union = execute_expert_policy(policy_fn, envname, max_timesteps, num_rollouts)\n",
    "data_cloning = data_union\n",
    "stats = []\n",
    "for i in (range(num_dagger_iterations)):\n",
    "    # train policy on data\n",
    "    data_cloning['observations'] = (data_cloning['observations'] - data_cloning['observations'].mean()) / data_cloning['observations'].std()\n",
    "    data_union['observations'] = (data_union['observations'] - data_union['observations'].mean()) / data_union['observations'].std()\n",
    "    cloning.fit(data_cloning['observations'].squeeze(),\n",
    "                data_cloning['actions'].squeeze(), nb_epoch=1, batch_size=32)\n",
    "    dagger.fit(data_union['observations'].squeeze(),\n",
    "                data_union['actions'].squeeze(), nb_epoch=1, batch_size=32)\n",
    "\n",
    "    # run policy on a rollout\n",
    "    dagger_fn = lambda x: dagger.predict(x)\n",
    "    cloned_fn = lambda x: cloning.predict(x)\n",
    "    _, data_dagger = execute_cloned_policy(dagger_fn, envname, max_timesteps, num_rollouts)\n",
    "    \n",
    "    # log some stats\n",
    "    reward_dag, _ = execute_cloned_policy(dagger_fn, envname, max_timesteps, 2)\n",
    "    reward_cloned, _ = execute_cloned_policy(cloned_fn, envname, max_timesteps, 2)\n",
    "    reward_exp, _ = execute_expert_policy(policy_fn, envname, max_timesteps, 2)\n",
    "    stats.append({\n",
    "            'dagr_mean': np.mean(reward_dag),\n",
    "            'dagr_std': np.std(reward_dag),\n",
    "            'cloner_mean': np.mean(reward_cloned),\n",
    "            'cloner_std': np.std(reward_cloned),\n",
    "            'expr_mean': np.mean(reward_exp),\n",
    "            'expr_std': np.std(reward_exp)\n",
    "        })\n",
    "    \n",
    "    # label policy with expert\n",
    "    obs = data_dagger['observations']\n",
    "    with tf.Session():\n",
    "        tf_util.initialize()\n",
    "        data_dagger['actions'] = policy_fn(obs).squeeze()\n",
    "\n",
    "    # union the data\n",
    "#     data_union['actions'] = np.concatenate(\n",
    "#         [data_dagger['actions'], data_union['actions'].squeeze()])\n",
    "#     data_union['observations'] = np.concatenate(\n",
    "#         [data_dagger['observations'], data_union['observations']])\n",
    "    data_union = data_dagger\n",
    "\n",
    "    # the cloning should only get expert actions\n",
    "    _, data_cloning2 = execute_expert_policy(\n",
    "        policy_fn, envname, max_timesteps=data_dagger['actions'].shape[0], num_rollouts=num_rollouts)\n",
    "#     data_cloning['actions'] = np.concatenate(\n",
    "#         [data_cloning['actions'], data_cloning2['actions'].squeeze()])\n",
    "#     data_cloning['observations'] = np.concatenate(\n",
    "#         [data_cloning['observations'], data_cloning2['observations']])\n",
    "    data_cloning = data_cloning2\n"
   ]
  },
  {
   "cell_type": "code",
   "execution_count": 9,
   "metadata": {
    "collapsed": false,
    "scrolled": true
   },
   "outputs": [
    {
     "data": {
      "text/plain": [
       "[{'cloner_mean': -441.30766835866478,\n",
       "  'cloner_std': 409.31921100206517,\n",
       "  'dagr_mean': -201.2666456690562,\n",
       "  'dagr_std': 98.690029943616906,\n",
       "  'expr_mean': 4853.4476522405139,\n",
       "  'expr_std': 89.866977420774674},\n",
       " {'cloner_mean': -350.22336201573506,\n",
       "  'cloner_std': 225.89299229646855,\n",
       "  'dagr_mean': 20.377767192950788,\n",
       "  'dagr_std': 53.965110379620228,\n",
       "  'expr_mean': 4725.1330867887227,\n",
       "  'expr_std': 287.48144043832872},\n",
       " {'cloner_mean': 23.312293532531289,\n",
       "  'cloner_std': 27.217409970804102,\n",
       "  'dagr_mean': 47.983956282857648,\n",
       "  'dagr_std': 18.704490904615437,\n",
       "  'expr_mean': 4980.8251835286519,\n",
       "  'expr_std': 1.4106804958960311},\n",
       " {'cloner_mean': 33.562233425370941,\n",
       "  'cloner_std': 11.918501222523501,\n",
       "  'dagr_mean': 827.523837825584,\n",
       "  'dagr_std': 12.954814403980436,\n",
       "  'expr_mean': 4793.9605408699081,\n",
       "  'expr_std': 9.8605023778964096},\n",
       " {'cloner_mean': 208.4946745641497,\n",
       "  'cloner_std': 65.581873728921451,\n",
       "  'dagr_mean': 832.52921632233711,\n",
       "  'dagr_std': 33.194268187677096,\n",
       "  'expr_mean': 4873.342701096064,\n",
       "  'expr_std': 103.64526046289529},\n",
       " {'cloner_mean': 598.2987855976321,\n",
       "  'cloner_std': 394.55781015445251,\n",
       "  'dagr_mean': 909.39632761571715,\n",
       "  'dagr_std': 1.0223946545749527,\n",
       "  'expr_mean': 4828.4057172260127,\n",
       "  'expr_std': 105.67801871769052},\n",
       " {'cloner_mean': 516.74592846538951,\n",
       "  'cloner_std': 266.22019881931845,\n",
       "  'dagr_mean': 899.44420631306821,\n",
       "  'dagr_std': 1.06774436115154,\n",
       "  'expr_mean': 4942.364364363264,\n",
       "  'expr_std': 79.02402212422021},\n",
       " {'cloner_mean': 687.63254985468564,\n",
       "  'cloner_std': 345.37458988543688,\n",
       "  'dagr_mean': 908.33314467295679,\n",
       "  'dagr_std': 0.13882945909801947,\n",
       "  'expr_mean': 4867.7149412763792,\n",
       "  'expr_std': 27.167030281039843},\n",
       " {'cloner_mean': 244.6572877679186,\n",
       "  'cloner_std': 85.40202405886761,\n",
       "  'dagr_mean': 1036.2579950546135,\n",
       "  'dagr_std': 113.86851644672976,\n",
       "  'expr_mean': 4214.1081696056335,\n",
       "  'expr_std': 584.4130275924108},\n",
       " {'cloner_mean': 702.15357230785889,\n",
       "  'cloner_std': 365.46564736684496,\n",
       "  'dagr_mean': 1063.0624273425515,\n",
       "  'dagr_std': 82.654727806240885,\n",
       "  'expr_mean': 4855.1770879859068,\n",
       "  'expr_std': 20.806832471861981},\n",
       " {'cloner_mean': 1165.3910665981271,\n",
       "  'cloner_std': 174.94516716283835,\n",
       "  'dagr_mean': 1120.1768609589076,\n",
       "  'dagr_std': 20.017184090543537,\n",
       "  'expr_mean': 4905.8702661565803,\n",
       "  'expr_std': 1.0729403508262294},\n",
       " {'cloner_mean': 1234.5021345988275,\n",
       "  'cloner_std': 115.57883331441667,\n",
       "  'dagr_mean': 1001.4629454553151,\n",
       "  'dagr_std': 88.568022284314566,\n",
       "  'expr_mean': 4835.8629107974903,\n",
       "  'expr_std': 184.15426070953845},\n",
       " {'cloner_mean': 973.72748198922989,\n",
       "  'cloner_std': 540.23932952607925,\n",
       "  'dagr_mean': 1451.0585107208581,\n",
       "  'dagr_std': 36.527713759477251,\n",
       "  'expr_mean': 4530.2532495060887,\n",
       "  'expr_std': 286.154057482996},\n",
       " {'cloner_mean': 1671.4222805146294,\n",
       "  'cloner_std': 175.94487771973695,\n",
       "  'dagr_mean': 1680.0995151919465,\n",
       "  'dagr_std': 27.377543138096485,\n",
       "  'expr_mean': 4801.8461923470859,\n",
       "  'expr_std': 12.997120693746183},\n",
       " {'cloner_mean': 1602.940932712052,\n",
       "  'cloner_std': 292.95745534806588,\n",
       "  'dagr_mean': 2059.7250378609174,\n",
       "  'dagr_std': 556.30500735313592,\n",
       "  'expr_mean': 4867.7704048956348,\n",
       "  'expr_std': 56.966404903535022},\n",
       " {'cloner_mean': 1772.107702198929,\n",
       "  'cloner_std': 15.321612191676309,\n",
       "  'dagr_mean': 2887.0627343486476,\n",
       "  'dagr_std': 317.32125067322659,\n",
       "  'expr_mean': 4792.1990342093577,\n",
       "  'expr_std': 56.501979963420581},\n",
       " {'cloner_mean': 1711.3982420592588,\n",
       "  'cloner_std': 56.816053527714303,\n",
       "  'dagr_mean': 2418.5653737476414,\n",
       "  'dagr_std': 18.278912115391449,\n",
       "  'expr_mean': 4921.0696023198407,\n",
       "  'expr_std': 66.549226935673687},\n",
       " {'cloner_mean': 1801.2751728273656,\n",
       "  'cloner_std': 112.77339679033855,\n",
       "  'dagr_mean': 2361.7734537679053,\n",
       "  'dagr_std': 31.793211461066221,\n",
       "  'expr_mean': 4843.4716483367129,\n",
       "  'expr_std': 22.685479579372441},\n",
       " {'cloner_mean': 1719.8025535620659,\n",
       "  'cloner_std': 61.794999437437696,\n",
       "  'dagr_mean': 2489.9366995398259,\n",
       "  'dagr_std': 104.80812583967349,\n",
       "  'expr_mean': 4791.3015924066221,\n",
       "  'expr_std': 85.732804999951895},\n",
       " {'cloner_mean': 1908.3372912375212,\n",
       "  'cloner_std': 21.591193012802478,\n",
       "  'dagr_mean': 2408.814673508019,\n",
       "  'dagr_std': 9.73109496488064,\n",
       "  'expr_mean': 4808.1454000157555,\n",
       "  'expr_std': 56.106796282943378}]"
      ]
     },
     "execution_count": 9,
     "metadata": {},
     "output_type": "execute_result"
    }
   ],
   "source": [
    "stats"
   ]
  },
  {
   "cell_type": "code",
   "execution_count": 10,
   "metadata": {
    "collapsed": false
   },
   "outputs": [
    {
     "data": {
      "text/plain": [
       "<matplotlib.legend.Legend at 0x11182f630>"
      ]
     },
     "execution_count": 10,
     "metadata": {},
     "output_type": "execute_result"
    },
    {
     "data": {
      "image/png": "[encoded data removed]",
      "text/plain": [
       "<matplotlib.figure.Figure at 0x111989518>"
      ]
     },
     "metadata": {},
     "output_type": "display_data"
    }
   ],
   "source": [
    "from matplotlib import pyplot as plt\n",
    "%matplotlib inline\n",
    "\n",
    "plt.errorbar(\n",
    "    range(len(stats)),\n",
    "    [s['cloner_mean'] for s in stats],\n",
    "    [s['cloner_std'] for s in stats])\n",
    "\n",
    "plt.errorbar(\n",
    "    range(len(stats)),\n",
    "    [s['dagr_mean'] for s in stats],\n",
    "    [s['dagr_std'] for s in stats])\n",
    "\n",
    "plt.errorbar(\n",
    "    range(len(stats)),\n",
    "    [s['expr_mean'] for s in stats],\n",
    "    [s['expr_std'] for s in stats])\n",
    "\n",
    "plt.legend(['clone', 'dagr', 'exp'])"
   ]
  },
  {
   "cell_type": "code",
   "execution_count": null,
   "metadata": {
    "collapsed": true
   },
   "outputs": [],
   "source": []
  },
  {
   "cell_type": "code",
   "execution_count": null,
   "metadata": {
    "collapsed": true
   },
   "outputs": [],
   "source": []
  },
  {
   "cell_type": "code",
   "execution_count": null,
   "metadata": {
    "collapsed": true
   },
   "outputs": [],
   "source": []
  }
 ],
 "metadata": {
  "anaconda-cloud": {},
  "kernelspec": {
   "display_name": "Python [conda env:yarlp]",
   "language": "python",
   "name": "conda-env-yarlp-py"
  },
  "language_info": {
   "codemirror_mode": {
    "name": "ipython",
    "version": 3
   },
   "file_extension": ".py",
   "mimetype": "text/x-python",
   "name": "python",
   "nbconvert_exporter": "python",
   "pygments_lexer": "ipython3",
   "version": "3.5.2"
  }
 },
 "nbformat": 4,
 "nbformat_minor": 1
}
